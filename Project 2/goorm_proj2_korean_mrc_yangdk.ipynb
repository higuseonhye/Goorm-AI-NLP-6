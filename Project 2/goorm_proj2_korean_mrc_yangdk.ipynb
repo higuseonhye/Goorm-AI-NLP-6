{
  "nbformat": 4,
  "nbformat_minor": 0,
  "metadata": {
    "colab": {
      "provenance": [],
      "machine_shape": "hm"
    },
    "kernelspec": {
      "name": "python3",
      "display_name": "Python 3"
    },
    "language_info": {
      "name": "python"
    },
    "accelerator": "GPU",
    "gpuClass": "premium",
    "widgets": {
      "application/vnd.jupyter.widget-state+json": {
        "6f384d9785ba4821877898c10fa037a4": {
          "model_module": "@jupyter-widgets/controls",
          "model_name": "HBoxModel",
          "model_module_version": "1.5.0",
          "state": {
            "_dom_classes": [],
            "_model_module": "@jupyter-widgets/controls",
            "_model_module_version": "1.5.0",
            "_model_name": "HBoxModel",
            "_view_count": null,
            "_view_module": "@jupyter-widgets/controls",
            "_view_module_version": "1.5.0",
            "_view_name": "HBoxView",
            "box_style": "",
            "children": [
              "IPY_MODEL_c3dd444c193b4dfca6e16c6adfa55605",
              "IPY_MODEL_c79e63c0d97045e19c58568129d826b1",
              "IPY_MODEL_d9494a34ab5041c587a52b144515549d"
            ],
            "layout": "IPY_MODEL_c5e7d333b0f1464bbc5fe4aa76fe750e"
          }
        },
        "c3dd444c193b4dfca6e16c6adfa55605": {
          "model_module": "@jupyter-widgets/controls",
          "model_name": "HTMLModel",
          "model_module_version": "1.5.0",
          "state": {
            "_dom_classes": [],
            "_model_module": "@jupyter-widgets/controls",
            "_model_module_version": "1.5.0",
            "_model_name": "HTMLModel",
            "_view_count": null,
            "_view_module": "@jupyter-widgets/controls",
            "_view_module_version": "1.5.0",
            "_view_name": "HTMLView",
            "description": "",
            "description_tooltip": null,
            "layout": "IPY_MODEL_839c71a63cf549db9b3ac7fa64e59d88",
            "placeholder": "​",
            "style": "IPY_MODEL_c0d6ee92a8af4f10b1ecb56cbf8f4d89",
            "value": "100%"
          }
        },
        "c79e63c0d97045e19c58568129d826b1": {
          "model_module": "@jupyter-widgets/controls",
          "model_name": "FloatProgressModel",
          "model_module_version": "1.5.0",
          "state": {
            "_dom_classes": [],
            "_model_module": "@jupyter-widgets/controls",
            "_model_module_version": "1.5.0",
            "_model_name": "FloatProgressModel",
            "_view_count": null,
            "_view_module": "@jupyter-widgets/controls",
            "_view_module_version": "1.5.0",
            "_view_name": "ProgressView",
            "bar_style": "success",
            "description": "",
            "description_tooltip": null,
            "layout": "IPY_MODEL_0df2b4cc18b94d0bafb47e297734ae1f",
            "max": 409,
            "min": 0,
            "orientation": "horizontal",
            "style": "IPY_MODEL_b55d4ed5f6544d93851cb631ee76f09a",
            "value": 409
          }
        },
        "d9494a34ab5041c587a52b144515549d": {
          "model_module": "@jupyter-widgets/controls",
          "model_name": "HTMLModel",
          "model_module_version": "1.5.0",
          "state": {
            "_dom_classes": [],
            "_model_module": "@jupyter-widgets/controls",
            "_model_module_version": "1.5.0",
            "_model_name": "HTMLModel",
            "_view_count": null,
            "_view_module": "@jupyter-widgets/controls",
            "_view_module_version": "1.5.0",
            "_view_name": "HTMLView",
            "description": "",
            "description_tooltip": null,
            "layout": "IPY_MODEL_8403eac823424cd09a4c64710d8e16f9",
            "placeholder": "​",
            "style": "IPY_MODEL_b69eda17fc664dd7879517929e7d77a6",
            "value": " 409/409 [06:09&lt;00:00,  1.23ba/s]"
          }
        },
        "c5e7d333b0f1464bbc5fe4aa76fe750e": {
          "model_module": "@jupyter-widgets/base",
          "model_name": "LayoutModel",
          "model_module_version": "1.2.0",
          "state": {
            "_model_module": "@jupyter-widgets/base",
            "_model_module_version": "1.2.0",
            "_model_name": "LayoutModel",
            "_view_count": null,
            "_view_module": "@jupyter-widgets/base",
            "_view_module_version": "1.2.0",
            "_view_name": "LayoutView",
            "align_content": null,
            "align_items": null,
            "align_self": null,
            "border": null,
            "bottom": null,
            "display": null,
            "flex": null,
            "flex_flow": null,
            "grid_area": null,
            "grid_auto_columns": null,
            "grid_auto_flow": null,
            "grid_auto_rows": null,
            "grid_column": null,
            "grid_gap": null,
            "grid_row": null,
            "grid_template_areas": null,
            "grid_template_columns": null,
            "grid_template_rows": null,
            "height": null,
            "justify_content": null,
            "justify_items": null,
            "left": null,
            "margin": null,
            "max_height": null,
            "max_width": null,
            "min_height": null,
            "min_width": null,
            "object_fit": null,
            "object_position": null,
            "order": null,
            "overflow": null,
            "overflow_x": null,
            "overflow_y": null,
            "padding": null,
            "right": null,
            "top": null,
            "visibility": null,
            "width": null
          }
        },
        "839c71a63cf549db9b3ac7fa64e59d88": {
          "model_module": "@jupyter-widgets/base",
          "model_name": "LayoutModel",
          "model_module_version": "1.2.0",
          "state": {
            "_model_module": "@jupyter-widgets/base",
            "_model_module_version": "1.2.0",
            "_model_name": "LayoutModel",
            "_view_count": null,
            "_view_module": "@jupyter-widgets/base",
            "_view_module_version": "1.2.0",
            "_view_name": "LayoutView",
            "align_content": null,
            "align_items": null,
            "align_self": null,
            "border": null,
            "bottom": null,
            "display": null,
            "flex": null,
            "flex_flow": null,
            "grid_area": null,
            "grid_auto_columns": null,
            "grid_auto_flow": null,
            "grid_auto_rows": null,
            "grid_column": null,
            "grid_gap": null,
            "grid_row": null,
            "grid_template_areas": null,
            "grid_template_columns": null,
            "grid_template_rows": null,
            "height": null,
            "justify_content": null,
            "justify_items": null,
            "left": null,
            "margin": null,
            "max_height": null,
            "max_width": null,
            "min_height": null,
            "min_width": null,
            "object_fit": null,
            "object_position": null,
            "order": null,
            "overflow": null,
            "overflow_x": null,
            "overflow_y": null,
            "padding": null,
            "right": null,
            "top": null,
            "visibility": null,
            "width": null
          }
        },
        "c0d6ee92a8af4f10b1ecb56cbf8f4d89": {
          "model_module": "@jupyter-widgets/controls",
          "model_name": "DescriptionStyleModel",
          "model_module_version": "1.5.0",
          "state": {
            "_model_module": "@jupyter-widgets/controls",
            "_model_module_version": "1.5.0",
            "_model_name": "DescriptionStyleModel",
            "_view_count": null,
            "_view_module": "@jupyter-widgets/base",
            "_view_module_version": "1.2.0",
            "_view_name": "StyleView",
            "description_width": ""
          }
        },
        "0df2b4cc18b94d0bafb47e297734ae1f": {
          "model_module": "@jupyter-widgets/base",
          "model_name": "LayoutModel",
          "model_module_version": "1.2.0",
          "state": {
            "_model_module": "@jupyter-widgets/base",
            "_model_module_version": "1.2.0",
            "_model_name": "LayoutModel",
            "_view_count": null,
            "_view_module": "@jupyter-widgets/base",
            "_view_module_version": "1.2.0",
            "_view_name": "LayoutView",
            "align_content": null,
            "align_items": null,
            "align_self": null,
            "border": null,
            "bottom": null,
            "display": null,
            "flex": null,
            "flex_flow": null,
            "grid_area": null,
            "grid_auto_columns": null,
            "grid_auto_flow": null,
            "grid_auto_rows": null,
            "grid_column": null,
            "grid_gap": null,
            "grid_row": null,
            "grid_template_areas": null,
            "grid_template_columns": null,
            "grid_template_rows": null,
            "height": null,
            "justify_content": null,
            "justify_items": null,
            "left": null,
            "margin": null,
            "max_height": null,
            "max_width": null,
            "min_height": null,
            "min_width": null,
            "object_fit": null,
            "object_position": null,
            "order": null,
            "overflow": null,
            "overflow_x": null,
            "overflow_y": null,
            "padding": null,
            "right": null,
            "top": null,
            "visibility": null,
            "width": null
          }
        },
        "b55d4ed5f6544d93851cb631ee76f09a": {
          "model_module": "@jupyter-widgets/controls",
          "model_name": "ProgressStyleModel",
          "model_module_version": "1.5.0",
          "state": {
            "_model_module": "@jupyter-widgets/controls",
            "_model_module_version": "1.5.0",
            "_model_name": "ProgressStyleModel",
            "_view_count": null,
            "_view_module": "@jupyter-widgets/base",
            "_view_module_version": "1.2.0",
            "_view_name": "StyleView",
            "bar_color": null,
            "description_width": ""
          }
        },
        "8403eac823424cd09a4c64710d8e16f9": {
          "model_module": "@jupyter-widgets/base",
          "model_name": "LayoutModel",
          "model_module_version": "1.2.0",
          "state": {
            "_model_module": "@jupyter-widgets/base",
            "_model_module_version": "1.2.0",
            "_model_name": "LayoutModel",
            "_view_count": null,
            "_view_module": "@jupyter-widgets/base",
            "_view_module_version": "1.2.0",
            "_view_name": "LayoutView",
            "align_content": null,
            "align_items": null,
            "align_self": null,
            "border": null,
            "bottom": null,
            "display": null,
            "flex": null,
            "flex_flow": null,
            "grid_area": null,
            "grid_auto_columns": null,
            "grid_auto_flow": null,
            "grid_auto_rows": null,
            "grid_column": null,
            "grid_gap": null,
            "grid_row": null,
            "grid_template_areas": null,
            "grid_template_columns": null,
            "grid_template_rows": null,
            "height": null,
            "justify_content": null,
            "justify_items": null,
            "left": null,
            "margin": null,
            "max_height": null,
            "max_width": null,
            "min_height": null,
            "min_width": null,
            "object_fit": null,
            "object_position": null,
            "order": null,
            "overflow": null,
            "overflow_x": null,
            "overflow_y": null,
            "padding": null,
            "right": null,
            "top": null,
            "visibility": null,
            "width": null
          }
        },
        "b69eda17fc664dd7879517929e7d77a6": {
          "model_module": "@jupyter-widgets/controls",
          "model_name": "DescriptionStyleModel",
          "model_module_version": "1.5.0",
          "state": {
            "_model_module": "@jupyter-widgets/controls",
            "_model_module_version": "1.5.0",
            "_model_name": "DescriptionStyleModel",
            "_view_count": null,
            "_view_module": "@jupyter-widgets/base",
            "_view_module_version": "1.2.0",
            "_view_name": "StyleView",
            "description_width": ""
          }
        },
        "f5d4126b07474cc598721ce36823c8bd": {
          "model_module": "@jupyter-widgets/controls",
          "model_name": "HBoxModel",
          "model_module_version": "1.5.0",
          "state": {
            "_dom_classes": [],
            "_model_module": "@jupyter-widgets/controls",
            "_model_module_version": "1.5.0",
            "_model_name": "HBoxModel",
            "_view_count": null,
            "_view_module": "@jupyter-widgets/controls",
            "_view_module_version": "1.5.0",
            "_view_name": "HBoxView",
            "box_style": "",
            "children": [
              "IPY_MODEL_bbec71a0dc954f798d2032daa1e380c6",
              "IPY_MODEL_dbc221e1dd35428293c929161ffe8cc2",
              "IPY_MODEL_ef8d12de659b4c96b4f0239d2bce8fdf"
            ],
            "layout": "IPY_MODEL_8bcf7edcc2d64d35989a08623bd148f7"
          }
        },
        "bbec71a0dc954f798d2032daa1e380c6": {
          "model_module": "@jupyter-widgets/controls",
          "model_name": "HTMLModel",
          "model_module_version": "1.5.0",
          "state": {
            "_dom_classes": [],
            "_model_module": "@jupyter-widgets/controls",
            "_model_module_version": "1.5.0",
            "_model_name": "HTMLModel",
            "_view_count": null,
            "_view_module": "@jupyter-widgets/controls",
            "_view_module_version": "1.5.0",
            "_view_name": "HTMLView",
            "description": "",
            "description_tooltip": null,
            "layout": "IPY_MODEL_cbd0eba510a44ad1bd57b5aaf7f13ada",
            "placeholder": "​",
            "style": "IPY_MODEL_43678aa937c14463b163af1ccc261097",
            "value": "100%"
          }
        },
        "dbc221e1dd35428293c929161ffe8cc2": {
          "model_module": "@jupyter-widgets/controls",
          "model_name": "FloatProgressModel",
          "model_module_version": "1.5.0",
          "state": {
            "_dom_classes": [],
            "_model_module": "@jupyter-widgets/controls",
            "_model_module_version": "1.5.0",
            "_model_name": "FloatProgressModel",
            "_view_count": null,
            "_view_module": "@jupyter-widgets/controls",
            "_view_module_version": "1.5.0",
            "_view_name": "ProgressView",
            "bar_style": "success",
            "description": "",
            "description_tooltip": null,
            "layout": "IPY_MODEL_accbc8d11bcc40bb9b0bdc7ab782dc22",
            "max": 3,
            "min": 0,
            "orientation": "horizontal",
            "style": "IPY_MODEL_588977deff634f56a6717b8bfb0120a1",
            "value": 3
          }
        },
        "ef8d12de659b4c96b4f0239d2bce8fdf": {
          "model_module": "@jupyter-widgets/controls",
          "model_name": "HTMLModel",
          "model_module_version": "1.5.0",
          "state": {
            "_dom_classes": [],
            "_model_module": "@jupyter-widgets/controls",
            "_model_module_version": "1.5.0",
            "_model_name": "HTMLModel",
            "_view_count": null,
            "_view_module": "@jupyter-widgets/controls",
            "_view_module_version": "1.5.0",
            "_view_name": "HTMLView",
            "description": "",
            "description_tooltip": null,
            "layout": "IPY_MODEL_e6522f33fee24fb0b8fdc15b91ba72cd",
            "placeholder": "​",
            "style": "IPY_MODEL_dacae49d40c74691974ce0e2645df77e",
            "value": " 3/3 [00:02&lt;00:00,  1.47ba/s]"
          }
        },
        "8bcf7edcc2d64d35989a08623bd148f7": {
          "model_module": "@jupyter-widgets/base",
          "model_name": "LayoutModel",
          "model_module_version": "1.2.0",
          "state": {
            "_model_module": "@jupyter-widgets/base",
            "_model_module_version": "1.2.0",
            "_model_name": "LayoutModel",
            "_view_count": null,
            "_view_module": "@jupyter-widgets/base",
            "_view_module_version": "1.2.0",
            "_view_name": "LayoutView",
            "align_content": null,
            "align_items": null,
            "align_self": null,
            "border": null,
            "bottom": null,
            "display": null,
            "flex": null,
            "flex_flow": null,
            "grid_area": null,
            "grid_auto_columns": null,
            "grid_auto_flow": null,
            "grid_auto_rows": null,
            "grid_column": null,
            "grid_gap": null,
            "grid_row": null,
            "grid_template_areas": null,
            "grid_template_columns": null,
            "grid_template_rows": null,
            "height": null,
            "justify_content": null,
            "justify_items": null,
            "left": null,
            "margin": null,
            "max_height": null,
            "max_width": null,
            "min_height": null,
            "min_width": null,
            "object_fit": null,
            "object_position": null,
            "order": null,
            "overflow": null,
            "overflow_x": null,
            "overflow_y": null,
            "padding": null,
            "right": null,
            "top": null,
            "visibility": null,
            "width": null
          }
        },
        "cbd0eba510a44ad1bd57b5aaf7f13ada": {
          "model_module": "@jupyter-widgets/base",
          "model_name": "LayoutModel",
          "model_module_version": "1.2.0",
          "state": {
            "_model_module": "@jupyter-widgets/base",
            "_model_module_version": "1.2.0",
            "_model_name": "LayoutModel",
            "_view_count": null,
            "_view_module": "@jupyter-widgets/base",
            "_view_module_version": "1.2.0",
            "_view_name": "LayoutView",
            "align_content": null,
            "align_items": null,
            "align_self": null,
            "border": null,
            "bottom": null,
            "display": null,
            "flex": null,
            "flex_flow": null,
            "grid_area": null,
            "grid_auto_columns": null,
            "grid_auto_flow": null,
            "grid_auto_rows": null,
            "grid_column": null,
            "grid_gap": null,
            "grid_row": null,
            "grid_template_areas": null,
            "grid_template_columns": null,
            "grid_template_rows": null,
            "height": null,
            "justify_content": null,
            "justify_items": null,
            "left": null,
            "margin": null,
            "max_height": null,
            "max_width": null,
            "min_height": null,
            "min_width": null,
            "object_fit": null,
            "object_position": null,
            "order": null,
            "overflow": null,
            "overflow_x": null,
            "overflow_y": null,
            "padding": null,
            "right": null,
            "top": null,
            "visibility": null,
            "width": null
          }
        },
        "43678aa937c14463b163af1ccc261097": {
          "model_module": "@jupyter-widgets/controls",
          "model_name": "DescriptionStyleModel",
          "model_module_version": "1.5.0",
          "state": {
            "_model_module": "@jupyter-widgets/controls",
            "_model_module_version": "1.5.0",
            "_model_name": "DescriptionStyleModel",
            "_view_count": null,
            "_view_module": "@jupyter-widgets/base",
            "_view_module_version": "1.2.0",
            "_view_name": "StyleView",
            "description_width": ""
          }
        },
        "accbc8d11bcc40bb9b0bdc7ab782dc22": {
          "model_module": "@jupyter-widgets/base",
          "model_name": "LayoutModel",
          "model_module_version": "1.2.0",
          "state": {
            "_model_module": "@jupyter-widgets/base",
            "_model_module_version": "1.2.0",
            "_model_name": "LayoutModel",
            "_view_count": null,
            "_view_module": "@jupyter-widgets/base",
            "_view_module_version": "1.2.0",
            "_view_name": "LayoutView",
            "align_content": null,
            "align_items": null,
            "align_self": null,
            "border": null,
            "bottom": null,
            "display": null,
            "flex": null,
            "flex_flow": null,
            "grid_area": null,
            "grid_auto_columns": null,
            "grid_auto_flow": null,
            "grid_auto_rows": null,
            "grid_column": null,
            "grid_gap": null,
            "grid_row": null,
            "grid_template_areas": null,
            "grid_template_columns": null,
            "grid_template_rows": null,
            "height": null,
            "justify_content": null,
            "justify_items": null,
            "left": null,
            "margin": null,
            "max_height": null,
            "max_width": null,
            "min_height": null,
            "min_width": null,
            "object_fit": null,
            "object_position": null,
            "order": null,
            "overflow": null,
            "overflow_x": null,
            "overflow_y": null,
            "padding": null,
            "right": null,
            "top": null,
            "visibility": null,
            "width": null
          }
        },
        "588977deff634f56a6717b8bfb0120a1": {
          "model_module": "@jupyter-widgets/controls",
          "model_name": "ProgressStyleModel",
          "model_module_version": "1.5.0",
          "state": {
            "_model_module": "@jupyter-widgets/controls",
            "_model_module_version": "1.5.0",
            "_model_name": "ProgressStyleModel",
            "_view_count": null,
            "_view_module": "@jupyter-widgets/base",
            "_view_module_version": "1.2.0",
            "_view_name": "StyleView",
            "bar_color": null,
            "description_width": ""
          }
        },
        "e6522f33fee24fb0b8fdc15b91ba72cd": {
          "model_module": "@jupyter-widgets/base",
          "model_name": "LayoutModel",
          "model_module_version": "1.2.0",
          "state": {
            "_model_module": "@jupyter-widgets/base",
            "_model_module_version": "1.2.0",
            "_model_name": "LayoutModel",
            "_view_count": null,
            "_view_module": "@jupyter-widgets/base",
            "_view_module_version": "1.2.0",
            "_view_name": "LayoutView",
            "align_content": null,
            "align_items": null,
            "align_self": null,
            "border": null,
            "bottom": null,
            "display": null,
            "flex": null,
            "flex_flow": null,
            "grid_area": null,
            "grid_auto_columns": null,
            "grid_auto_flow": null,
            "grid_auto_rows": null,
            "grid_column": null,
            "grid_gap": null,
            "grid_row": null,
            "grid_template_areas": null,
            "grid_template_columns": null,
            "grid_template_rows": null,
            "height": null,
            "justify_content": null,
            "justify_items": null,
            "left": null,
            "margin": null,
            "max_height": null,
            "max_width": null,
            "min_height": null,
            "min_width": null,
            "object_fit": null,
            "object_position": null,
            "order": null,
            "overflow": null,
            "overflow_x": null,
            "overflow_y": null,
            "padding": null,
            "right": null,
            "top": null,
            "visibility": null,
            "width": null
          }
        },
        "dacae49d40c74691974ce0e2645df77e": {
          "model_module": "@jupyter-widgets/controls",
          "model_name": "DescriptionStyleModel",
          "model_module_version": "1.5.0",
          "state": {
            "_model_module": "@jupyter-widgets/controls",
            "_model_module_version": "1.5.0",
            "_model_name": "DescriptionStyleModel",
            "_view_count": null,
            "_view_module": "@jupyter-widgets/base",
            "_view_module_version": "1.2.0",
            "_view_name": "StyleView",
            "description_width": ""
          }
        },
        "e0af16081c6b4f22aa35c048463256d2": {
          "model_module": "@jupyter-widgets/controls",
          "model_name": "HBoxModel",
          "model_module_version": "1.5.0",
          "state": {
            "_dom_classes": [],
            "_model_module": "@jupyter-widgets/controls",
            "_model_module_version": "1.5.0",
            "_model_name": "HBoxModel",
            "_view_count": null,
            "_view_module": "@jupyter-widgets/controls",
            "_view_module_version": "1.5.0",
            "_view_name": "HBoxView",
            "box_style": "",
            "children": [
              "IPY_MODEL_d596ed11ab3c4f50adc99fe0588c2a54",
              "IPY_MODEL_39cd54bcdd4949c092b1af513cc3802f",
              "IPY_MODEL_b640bdcc2441415085e87d73b9a3d484"
            ],
            "layout": "IPY_MODEL_b446f4c04bd240d3ada8c1856d99c5ad"
          }
        },
        "d596ed11ab3c4f50adc99fe0588c2a54": {
          "model_module": "@jupyter-widgets/controls",
          "model_name": "HTMLModel",
          "model_module_version": "1.5.0",
          "state": {
            "_dom_classes": [],
            "_model_module": "@jupyter-widgets/controls",
            "_model_module_version": "1.5.0",
            "_model_name": "HTMLModel",
            "_view_count": null,
            "_view_module": "@jupyter-widgets/controls",
            "_view_module_version": "1.5.0",
            "_view_name": "HTMLView",
            "description": "",
            "description_tooltip": null,
            "layout": "IPY_MODEL_01d7906ed2af43fe82e912e24c9de195",
            "placeholder": "​",
            "style": "IPY_MODEL_897526d8191f4eddafadeed3c03974db",
            "value": "100%"
          }
        },
        "39cd54bcdd4949c092b1af513cc3802f": {
          "model_module": "@jupyter-widgets/controls",
          "model_name": "FloatProgressModel",
          "model_module_version": "1.5.0",
          "state": {
            "_dom_classes": [],
            "_model_module": "@jupyter-widgets/controls",
            "_model_module_version": "1.5.0",
            "_model_name": "FloatProgressModel",
            "_view_count": null,
            "_view_module": "@jupyter-widgets/controls",
            "_view_module_version": "1.5.0",
            "_view_name": "ProgressView",
            "bar_style": "success",
            "description": "",
            "description_tooltip": null,
            "layout": "IPY_MODEL_f8b3f8fa80814b09b3b289bdde842de5",
            "max": 3,
            "min": 0,
            "orientation": "horizontal",
            "style": "IPY_MODEL_47a782eb676642749714d61ac19ecd96",
            "value": 3
          }
        },
        "b640bdcc2441415085e87d73b9a3d484": {
          "model_module": "@jupyter-widgets/controls",
          "model_name": "HTMLModel",
          "model_module_version": "1.5.0",
          "state": {
            "_dom_classes": [],
            "_model_module": "@jupyter-widgets/controls",
            "_model_module_version": "1.5.0",
            "_model_name": "HTMLModel",
            "_view_count": null,
            "_view_module": "@jupyter-widgets/controls",
            "_view_module_version": "1.5.0",
            "_view_name": "HTMLView",
            "description": "",
            "description_tooltip": null,
            "layout": "IPY_MODEL_304c76bf233b45f6b89039765b230bf2",
            "placeholder": "​",
            "style": "IPY_MODEL_28d1664d674f4737ba0e070ad1f43ce5",
            "value": " 3/3 [00:03&lt;00:00,  1.00ba/s]"
          }
        },
        "b446f4c04bd240d3ada8c1856d99c5ad": {
          "model_module": "@jupyter-widgets/base",
          "model_name": "LayoutModel",
          "model_module_version": "1.2.0",
          "state": {
            "_model_module": "@jupyter-widgets/base",
            "_model_module_version": "1.2.0",
            "_model_name": "LayoutModel",
            "_view_count": null,
            "_view_module": "@jupyter-widgets/base",
            "_view_module_version": "1.2.0",
            "_view_name": "LayoutView",
            "align_content": null,
            "align_items": null,
            "align_self": null,
            "border": null,
            "bottom": null,
            "display": null,
            "flex": null,
            "flex_flow": null,
            "grid_area": null,
            "grid_auto_columns": null,
            "grid_auto_flow": null,
            "grid_auto_rows": null,
            "grid_column": null,
            "grid_gap": null,
            "grid_row": null,
            "grid_template_areas": null,
            "grid_template_columns": null,
            "grid_template_rows": null,
            "height": null,
            "justify_content": null,
            "justify_items": null,
            "left": null,
            "margin": null,
            "max_height": null,
            "max_width": null,
            "min_height": null,
            "min_width": null,
            "object_fit": null,
            "object_position": null,
            "order": null,
            "overflow": null,
            "overflow_x": null,
            "overflow_y": null,
            "padding": null,
            "right": null,
            "top": null,
            "visibility": null,
            "width": null
          }
        },
        "01d7906ed2af43fe82e912e24c9de195": {
          "model_module": "@jupyter-widgets/base",
          "model_name": "LayoutModel",
          "model_module_version": "1.2.0",
          "state": {
            "_model_module": "@jupyter-widgets/base",
            "_model_module_version": "1.2.0",
            "_model_name": "LayoutModel",
            "_view_count": null,
            "_view_module": "@jupyter-widgets/base",
            "_view_module_version": "1.2.0",
            "_view_name": "LayoutView",
            "align_content": null,
            "align_items": null,
            "align_self": null,
            "border": null,
            "bottom": null,
            "display": null,
            "flex": null,
            "flex_flow": null,
            "grid_area": null,
            "grid_auto_columns": null,
            "grid_auto_flow": null,
            "grid_auto_rows": null,
            "grid_column": null,
            "grid_gap": null,
            "grid_row": null,
            "grid_template_areas": null,
            "grid_template_columns": null,
            "grid_template_rows": null,
            "height": null,
            "justify_content": null,
            "justify_items": null,
            "left": null,
            "margin": null,
            "max_height": null,
            "max_width": null,
            "min_height": null,
            "min_width": null,
            "object_fit": null,
            "object_position": null,
            "order": null,
            "overflow": null,
            "overflow_x": null,
            "overflow_y": null,
            "padding": null,
            "right": null,
            "top": null,
            "visibility": null,
            "width": null
          }
        },
        "897526d8191f4eddafadeed3c03974db": {
          "model_module": "@jupyter-widgets/controls",
          "model_name": "DescriptionStyleModel",
          "model_module_version": "1.5.0",
          "state": {
            "_model_module": "@jupyter-widgets/controls",
            "_model_module_version": "1.5.0",
            "_model_name": "DescriptionStyleModel",
            "_view_count": null,
            "_view_module": "@jupyter-widgets/base",
            "_view_module_version": "1.2.0",
            "_view_name": "StyleView",
            "description_width": ""
          }
        },
        "f8b3f8fa80814b09b3b289bdde842de5": {
          "model_module": "@jupyter-widgets/base",
          "model_name": "LayoutModel",
          "model_module_version": "1.2.0",
          "state": {
            "_model_module": "@jupyter-widgets/base",
            "_model_module_version": "1.2.0",
            "_model_name": "LayoutModel",
            "_view_count": null,
            "_view_module": "@jupyter-widgets/base",
            "_view_module_version": "1.2.0",
            "_view_name": "LayoutView",
            "align_content": null,
            "align_items": null,
            "align_self": null,
            "border": null,
            "bottom": null,
            "display": null,
            "flex": null,
            "flex_flow": null,
            "grid_area": null,
            "grid_auto_columns": null,
            "grid_auto_flow": null,
            "grid_auto_rows": null,
            "grid_column": null,
            "grid_gap": null,
            "grid_row": null,
            "grid_template_areas": null,
            "grid_template_columns": null,
            "grid_template_rows": null,
            "height": null,
            "justify_content": null,
            "justify_items": null,
            "left": null,
            "margin": null,
            "max_height": null,
            "max_width": null,
            "min_height": null,
            "min_width": null,
            "object_fit": null,
            "object_position": null,
            "order": null,
            "overflow": null,
            "overflow_x": null,
            "overflow_y": null,
            "padding": null,
            "right": null,
            "top": null,
            "visibility": null,
            "width": null
          }
        },
        "47a782eb676642749714d61ac19ecd96": {
          "model_module": "@jupyter-widgets/controls",
          "model_name": "ProgressStyleModel",
          "model_module_version": "1.5.0",
          "state": {
            "_model_module": "@jupyter-widgets/controls",
            "_model_module_version": "1.5.0",
            "_model_name": "ProgressStyleModel",
            "_view_count": null,
            "_view_module": "@jupyter-widgets/base",
            "_view_module_version": "1.2.0",
            "_view_name": "StyleView",
            "bar_color": null,
            "description_width": ""
          }
        },
        "304c76bf233b45f6b89039765b230bf2": {
          "model_module": "@jupyter-widgets/base",
          "model_name": "LayoutModel",
          "model_module_version": "1.2.0",
          "state": {
            "_model_module": "@jupyter-widgets/base",
            "_model_module_version": "1.2.0",
            "_model_name": "LayoutModel",
            "_view_count": null,
            "_view_module": "@jupyter-widgets/base",
            "_view_module_version": "1.2.0",
            "_view_name": "LayoutView",
            "align_content": null,
            "align_items": null,
            "align_self": null,
            "border": null,
            "bottom": null,
            "display": null,
            "flex": null,
            "flex_flow": null,
            "grid_area": null,
            "grid_auto_columns": null,
            "grid_auto_flow": null,
            "grid_auto_rows": null,
            "grid_column": null,
            "grid_gap": null,
            "grid_row": null,
            "grid_template_areas": null,
            "grid_template_columns": null,
            "grid_template_rows": null,
            "height": null,
            "justify_content": null,
            "justify_items": null,
            "left": null,
            "margin": null,
            "max_height": null,
            "max_width": null,
            "min_height": null,
            "min_width": null,
            "object_fit": null,
            "object_position": null,
            "order": null,
            "overflow": null,
            "overflow_x": null,
            "overflow_y": null,
            "padding": null,
            "right": null,
            "top": null,
            "visibility": null,
            "width": null
          }
        },
        "28d1664d674f4737ba0e070ad1f43ce5": {
          "model_module": "@jupyter-widgets/controls",
          "model_name": "DescriptionStyleModel",
          "model_module_version": "1.5.0",
          "state": {
            "_model_module": "@jupyter-widgets/controls",
            "_model_module_version": "1.5.0",
            "_model_name": "DescriptionStyleModel",
            "_view_count": null,
            "_view_module": "@jupyter-widgets/base",
            "_view_module_version": "1.2.0",
            "_view_name": "StyleView",
            "description_width": ""
          }
        },
        "e22dcf0308aa4db59e3b68d0e0b853ed": {
          "model_module": "@jupyter-widgets/controls",
          "model_name": "HBoxModel",
          "model_module_version": "1.5.0",
          "state": {
            "_dom_classes": [],
            "_model_module": "@jupyter-widgets/controls",
            "_model_module_version": "1.5.0",
            "_model_name": "HBoxModel",
            "_view_count": null,
            "_view_module": "@jupyter-widgets/controls",
            "_view_module_version": "1.5.0",
            "_view_name": "HBoxView",
            "box_style": "",
            "children": [
              "IPY_MODEL_2d567e0a9fda447abdcfb6ce459eeb0e",
              "IPY_MODEL_860fadd59d764cd29970e365308de0d5",
              "IPY_MODEL_b456dd5dd2ed4e39a75dba0bc8d5ffec"
            ],
            "layout": "IPY_MODEL_a7717a3523f5431b94adcf0e108b0d11"
          }
        },
        "2d567e0a9fda447abdcfb6ce459eeb0e": {
          "model_module": "@jupyter-widgets/controls",
          "model_name": "HTMLModel",
          "model_module_version": "1.5.0",
          "state": {
            "_dom_classes": [],
            "_model_module": "@jupyter-widgets/controls",
            "_model_module_version": "1.5.0",
            "_model_name": "HTMLModel",
            "_view_count": null,
            "_view_module": "@jupyter-widgets/controls",
            "_view_module_version": "1.5.0",
            "_view_name": "HTMLView",
            "description": "",
            "description_tooltip": null,
            "layout": "IPY_MODEL_01811e223dd2473f811442a18f6fbff0",
            "placeholder": "​",
            "style": "IPY_MODEL_69e82fae21de42ddbe63b84bcec2a099",
            "value": "100%"
          }
        },
        "860fadd59d764cd29970e365308de0d5": {
          "model_module": "@jupyter-widgets/controls",
          "model_name": "FloatProgressModel",
          "model_module_version": "1.5.0",
          "state": {
            "_dom_classes": [],
            "_model_module": "@jupyter-widgets/controls",
            "_model_module_version": "1.5.0",
            "_model_name": "FloatProgressModel",
            "_view_count": null,
            "_view_module": "@jupyter-widgets/controls",
            "_view_module_version": "1.5.0",
            "_view_name": "ProgressView",
            "bar_style": "success",
            "description": "",
            "description_tooltip": null,
            "layout": "IPY_MODEL_562d62c86ec0449092be64e2136f0b70",
            "max": 2407,
            "min": 0,
            "orientation": "horizontal",
            "style": "IPY_MODEL_1c1ddebf3114493483705fcf732b8622",
            "value": 2407
          }
        },
        "b456dd5dd2ed4e39a75dba0bc8d5ffec": {
          "model_module": "@jupyter-widgets/controls",
          "model_name": "HTMLModel",
          "model_module_version": "1.5.0",
          "state": {
            "_dom_classes": [],
            "_model_module": "@jupyter-widgets/controls",
            "_model_module_version": "1.5.0",
            "_model_name": "HTMLModel",
            "_view_count": null,
            "_view_module": "@jupyter-widgets/controls",
            "_view_module_version": "1.5.0",
            "_view_name": "HTMLView",
            "description": "",
            "description_tooltip": null,
            "layout": "IPY_MODEL_f454b3c94fa641b8b89473e2727dc2c5",
            "placeholder": "​",
            "style": "IPY_MODEL_6120fdd8ac514a40a9b5dec33dcd7663",
            "value": " 2407/2407 [00:15&lt;00:00, 154.71it/s]"
          }
        },
        "a7717a3523f5431b94adcf0e108b0d11": {
          "model_module": "@jupyter-widgets/base",
          "model_name": "LayoutModel",
          "model_module_version": "1.2.0",
          "state": {
            "_model_module": "@jupyter-widgets/base",
            "_model_module_version": "1.2.0",
            "_model_name": "LayoutModel",
            "_view_count": null,
            "_view_module": "@jupyter-widgets/base",
            "_view_module_version": "1.2.0",
            "_view_name": "LayoutView",
            "align_content": null,
            "align_items": null,
            "align_self": null,
            "border": null,
            "bottom": null,
            "display": null,
            "flex": null,
            "flex_flow": null,
            "grid_area": null,
            "grid_auto_columns": null,
            "grid_auto_flow": null,
            "grid_auto_rows": null,
            "grid_column": null,
            "grid_gap": null,
            "grid_row": null,
            "grid_template_areas": null,
            "grid_template_columns": null,
            "grid_template_rows": null,
            "height": null,
            "justify_content": null,
            "justify_items": null,
            "left": null,
            "margin": null,
            "max_height": null,
            "max_width": null,
            "min_height": null,
            "min_width": null,
            "object_fit": null,
            "object_position": null,
            "order": null,
            "overflow": null,
            "overflow_x": null,
            "overflow_y": null,
            "padding": null,
            "right": null,
            "top": null,
            "visibility": null,
            "width": null
          }
        },
        "01811e223dd2473f811442a18f6fbff0": {
          "model_module": "@jupyter-widgets/base",
          "model_name": "LayoutModel",
          "model_module_version": "1.2.0",
          "state": {
            "_model_module": "@jupyter-widgets/base",
            "_model_module_version": "1.2.0",
            "_model_name": "LayoutModel",
            "_view_count": null,
            "_view_module": "@jupyter-widgets/base",
            "_view_module_version": "1.2.0",
            "_view_name": "LayoutView",
            "align_content": null,
            "align_items": null,
            "align_self": null,
            "border": null,
            "bottom": null,
            "display": null,
            "flex": null,
            "flex_flow": null,
            "grid_area": null,
            "grid_auto_columns": null,
            "grid_auto_flow": null,
            "grid_auto_rows": null,
            "grid_column": null,
            "grid_gap": null,
            "grid_row": null,
            "grid_template_areas": null,
            "grid_template_columns": null,
            "grid_template_rows": null,
            "height": null,
            "justify_content": null,
            "justify_items": null,
            "left": null,
            "margin": null,
            "max_height": null,
            "max_width": null,
            "min_height": null,
            "min_width": null,
            "object_fit": null,
            "object_position": null,
            "order": null,
            "overflow": null,
            "overflow_x": null,
            "overflow_y": null,
            "padding": null,
            "right": null,
            "top": null,
            "visibility": null,
            "width": null
          }
        },
        "69e82fae21de42ddbe63b84bcec2a099": {
          "model_module": "@jupyter-widgets/controls",
          "model_name": "DescriptionStyleModel",
          "model_module_version": "1.5.0",
          "state": {
            "_model_module": "@jupyter-widgets/controls",
            "_model_module_version": "1.5.0",
            "_model_name": "DescriptionStyleModel",
            "_view_count": null,
            "_view_module": "@jupyter-widgets/base",
            "_view_module_version": "1.2.0",
            "_view_name": "StyleView",
            "description_width": ""
          }
        },
        "562d62c86ec0449092be64e2136f0b70": {
          "model_module": "@jupyter-widgets/base",
          "model_name": "LayoutModel",
          "model_module_version": "1.2.0",
          "state": {
            "_model_module": "@jupyter-widgets/base",
            "_model_module_version": "1.2.0",
            "_model_name": "LayoutModel",
            "_view_count": null,
            "_view_module": "@jupyter-widgets/base",
            "_view_module_version": "1.2.0",
            "_view_name": "LayoutView",
            "align_content": null,
            "align_items": null,
            "align_self": null,
            "border": null,
            "bottom": null,
            "display": null,
            "flex": null,
            "flex_flow": null,
            "grid_area": null,
            "grid_auto_columns": null,
            "grid_auto_flow": null,
            "grid_auto_rows": null,
            "grid_column": null,
            "grid_gap": null,
            "grid_row": null,
            "grid_template_areas": null,
            "grid_template_columns": null,
            "grid_template_rows": null,
            "height": null,
            "justify_content": null,
            "justify_items": null,
            "left": null,
            "margin": null,
            "max_height": null,
            "max_width": null,
            "min_height": null,
            "min_width": null,
            "object_fit": null,
            "object_position": null,
            "order": null,
            "overflow": null,
            "overflow_x": null,
            "overflow_y": null,
            "padding": null,
            "right": null,
            "top": null,
            "visibility": null,
            "width": null
          }
        },
        "1c1ddebf3114493483705fcf732b8622": {
          "model_module": "@jupyter-widgets/controls",
          "model_name": "ProgressStyleModel",
          "model_module_version": "1.5.0",
          "state": {
            "_model_module": "@jupyter-widgets/controls",
            "_model_module_version": "1.5.0",
            "_model_name": "ProgressStyleModel",
            "_view_count": null,
            "_view_module": "@jupyter-widgets/base",
            "_view_module_version": "1.2.0",
            "_view_name": "StyleView",
            "bar_color": null,
            "description_width": ""
          }
        },
        "f454b3c94fa641b8b89473e2727dc2c5": {
          "model_module": "@jupyter-widgets/base",
          "model_name": "LayoutModel",
          "model_module_version": "1.2.0",
          "state": {
            "_model_module": "@jupyter-widgets/base",
            "_model_module_version": "1.2.0",
            "_model_name": "LayoutModel",
            "_view_count": null,
            "_view_module": "@jupyter-widgets/base",
            "_view_module_version": "1.2.0",
            "_view_name": "LayoutView",
            "align_content": null,
            "align_items": null,
            "align_self": null,
            "border": null,
            "bottom": null,
            "display": null,
            "flex": null,
            "flex_flow": null,
            "grid_area": null,
            "grid_auto_columns": null,
            "grid_auto_flow": null,
            "grid_auto_rows": null,
            "grid_column": null,
            "grid_gap": null,
            "grid_row": null,
            "grid_template_areas": null,
            "grid_template_columns": null,
            "grid_template_rows": null,
            "height": null,
            "justify_content": null,
            "justify_items": null,
            "left": null,
            "margin": null,
            "max_height": null,
            "max_width": null,
            "min_height": null,
            "min_width": null,
            "object_fit": null,
            "object_position": null,
            "order": null,
            "overflow": null,
            "overflow_x": null,
            "overflow_y": null,
            "padding": null,
            "right": null,
            "top": null,
            "visibility": null,
            "width": null
          }
        },
        "6120fdd8ac514a40a9b5dec33dcd7663": {
          "model_module": "@jupyter-widgets/controls",
          "model_name": "DescriptionStyleModel",
          "model_module_version": "1.5.0",
          "state": {
            "_model_module": "@jupyter-widgets/controls",
            "_model_module_version": "1.5.0",
            "_model_name": "DescriptionStyleModel",
            "_view_count": null,
            "_view_module": "@jupyter-widgets/base",
            "_view_module_version": "1.2.0",
            "_view_name": "StyleView",
            "description_width": ""
          }
        },
        "711984579dc6441db361aff14f1c7cc3": {
          "model_module": "@jupyter-widgets/controls",
          "model_name": "HBoxModel",
          "model_module_version": "1.5.0",
          "state": {
            "_dom_classes": [],
            "_model_module": "@jupyter-widgets/controls",
            "_model_module_version": "1.5.0",
            "_model_name": "HBoxModel",
            "_view_count": null,
            "_view_module": "@jupyter-widgets/controls",
            "_view_module_version": "1.5.0",
            "_view_name": "HBoxView",
            "box_style": "",
            "children": [
              "IPY_MODEL_3e85566a8aa0454093e116311e6ca8ec",
              "IPY_MODEL_3b6a5e39efe04c8480c53ef2d03f11eb",
              "IPY_MODEL_a8eb26df14854785ad9665b6851270c6"
            ],
            "layout": "IPY_MODEL_a1cad32fc4c64d9e82e16e546884bacf"
          }
        },
        "3e85566a8aa0454093e116311e6ca8ec": {
          "model_module": "@jupyter-widgets/controls",
          "model_name": "HTMLModel",
          "model_module_version": "1.5.0",
          "state": {
            "_dom_classes": [],
            "_model_module": "@jupyter-widgets/controls",
            "_model_module_version": "1.5.0",
            "_model_name": "HTMLModel",
            "_view_count": null,
            "_view_module": "@jupyter-widgets/controls",
            "_view_module_version": "1.5.0",
            "_view_name": "HTMLView",
            "description": "",
            "description_tooltip": null,
            "layout": "IPY_MODEL_9b3587ac3f9e4aa6ab9a190cff620860",
            "placeholder": "​",
            "style": "IPY_MODEL_71dd7615776c45f09e8f84eedfc4a0ba",
            "value": "Downloading builder script: "
          }
        },
        "3b6a5e39efe04c8480c53ef2d03f11eb": {
          "model_module": "@jupyter-widgets/controls",
          "model_name": "FloatProgressModel",
          "model_module_version": "1.5.0",
          "state": {
            "_dom_classes": [],
            "_model_module": "@jupyter-widgets/controls",
            "_model_module_version": "1.5.0",
            "_model_name": "FloatProgressModel",
            "_view_count": null,
            "_view_module": "@jupyter-widgets/controls",
            "_view_module_version": "1.5.0",
            "_view_name": "ProgressView",
            "bar_style": "success",
            "description": "",
            "description_tooltip": null,
            "layout": "IPY_MODEL_7407e02f3d2c4dad9fa5773af8488e5b",
            "max": 1715,
            "min": 0,
            "orientation": "horizontal",
            "style": "IPY_MODEL_7695e521185a4d2792269d77d199a361",
            "value": 1715
          }
        },
        "a8eb26df14854785ad9665b6851270c6": {
          "model_module": "@jupyter-widgets/controls",
          "model_name": "HTMLModel",
          "model_module_version": "1.5.0",
          "state": {
            "_dom_classes": [],
            "_model_module": "@jupyter-widgets/controls",
            "_model_module_version": "1.5.0",
            "_model_name": "HTMLModel",
            "_view_count": null,
            "_view_module": "@jupyter-widgets/controls",
            "_view_module_version": "1.5.0",
            "_view_name": "HTMLView",
            "description": "",
            "description_tooltip": null,
            "layout": "IPY_MODEL_3d16d0e4003f465594925315c1af9803",
            "placeholder": "​",
            "style": "IPY_MODEL_4e5876f4ca074be6882b15a5ea778502",
            "value": " 4.50k/? [00:00&lt;00:00, 273kB/s]"
          }
        },
        "a1cad32fc4c64d9e82e16e546884bacf": {
          "model_module": "@jupyter-widgets/base",
          "model_name": "LayoutModel",
          "model_module_version": "1.2.0",
          "state": {
            "_model_module": "@jupyter-widgets/base",
            "_model_module_version": "1.2.0",
            "_model_name": "LayoutModel",
            "_view_count": null,
            "_view_module": "@jupyter-widgets/base",
            "_view_module_version": "1.2.0",
            "_view_name": "LayoutView",
            "align_content": null,
            "align_items": null,
            "align_self": null,
            "border": null,
            "bottom": null,
            "display": null,
            "flex": null,
            "flex_flow": null,
            "grid_area": null,
            "grid_auto_columns": null,
            "grid_auto_flow": null,
            "grid_auto_rows": null,
            "grid_column": null,
            "grid_gap": null,
            "grid_row": null,
            "grid_template_areas": null,
            "grid_template_columns": null,
            "grid_template_rows": null,
            "height": null,
            "justify_content": null,
            "justify_items": null,
            "left": null,
            "margin": null,
            "max_height": null,
            "max_width": null,
            "min_height": null,
            "min_width": null,
            "object_fit": null,
            "object_position": null,
            "order": null,
            "overflow": null,
            "overflow_x": null,
            "overflow_y": null,
            "padding": null,
            "right": null,
            "top": null,
            "visibility": null,
            "width": null
          }
        },
        "9b3587ac3f9e4aa6ab9a190cff620860": {
          "model_module": "@jupyter-widgets/base",
          "model_name": "LayoutModel",
          "model_module_version": "1.2.0",
          "state": {
            "_model_module": "@jupyter-widgets/base",
            "_model_module_version": "1.2.0",
            "_model_name": "LayoutModel",
            "_view_count": null,
            "_view_module": "@jupyter-widgets/base",
            "_view_module_version": "1.2.0",
            "_view_name": "LayoutView",
            "align_content": null,
            "align_items": null,
            "align_self": null,
            "border": null,
            "bottom": null,
            "display": null,
            "flex": null,
            "flex_flow": null,
            "grid_area": null,
            "grid_auto_columns": null,
            "grid_auto_flow": null,
            "grid_auto_rows": null,
            "grid_column": null,
            "grid_gap": null,
            "grid_row": null,
            "grid_template_areas": null,
            "grid_template_columns": null,
            "grid_template_rows": null,
            "height": null,
            "justify_content": null,
            "justify_items": null,
            "left": null,
            "margin": null,
            "max_height": null,
            "max_width": null,
            "min_height": null,
            "min_width": null,
            "object_fit": null,
            "object_position": null,
            "order": null,
            "overflow": null,
            "overflow_x": null,
            "overflow_y": null,
            "padding": null,
            "right": null,
            "top": null,
            "visibility": null,
            "width": null
          }
        },
        "71dd7615776c45f09e8f84eedfc4a0ba": {
          "model_module": "@jupyter-widgets/controls",
          "model_name": "DescriptionStyleModel",
          "model_module_version": "1.5.0",
          "state": {
            "_model_module": "@jupyter-widgets/controls",
            "_model_module_version": "1.5.0",
            "_model_name": "DescriptionStyleModel",
            "_view_count": null,
            "_view_module": "@jupyter-widgets/base",
            "_view_module_version": "1.2.0",
            "_view_name": "StyleView",
            "description_width": ""
          }
        },
        "7407e02f3d2c4dad9fa5773af8488e5b": {
          "model_module": "@jupyter-widgets/base",
          "model_name": "LayoutModel",
          "model_module_version": "1.2.0",
          "state": {
            "_model_module": "@jupyter-widgets/base",
            "_model_module_version": "1.2.0",
            "_model_name": "LayoutModel",
            "_view_count": null,
            "_view_module": "@jupyter-widgets/base",
            "_view_module_version": "1.2.0",
            "_view_name": "LayoutView",
            "align_content": null,
            "align_items": null,
            "align_self": null,
            "border": null,
            "bottom": null,
            "display": null,
            "flex": null,
            "flex_flow": null,
            "grid_area": null,
            "grid_auto_columns": null,
            "grid_auto_flow": null,
            "grid_auto_rows": null,
            "grid_column": null,
            "grid_gap": null,
            "grid_row": null,
            "grid_template_areas": null,
            "grid_template_columns": null,
            "grid_template_rows": null,
            "height": null,
            "justify_content": null,
            "justify_items": null,
            "left": null,
            "margin": null,
            "max_height": null,
            "max_width": null,
            "min_height": null,
            "min_width": null,
            "object_fit": null,
            "object_position": null,
            "order": null,
            "overflow": null,
            "overflow_x": null,
            "overflow_y": null,
            "padding": null,
            "right": null,
            "top": null,
            "visibility": null,
            "width": null
          }
        },
        "7695e521185a4d2792269d77d199a361": {
          "model_module": "@jupyter-widgets/controls",
          "model_name": "ProgressStyleModel",
          "model_module_version": "1.5.0",
          "state": {
            "_model_module": "@jupyter-widgets/controls",
            "_model_module_version": "1.5.0",
            "_model_name": "ProgressStyleModel",
            "_view_count": null,
            "_view_module": "@jupyter-widgets/base",
            "_view_module_version": "1.2.0",
            "_view_name": "StyleView",
            "bar_color": null,
            "description_width": ""
          }
        },
        "3d16d0e4003f465594925315c1af9803": {
          "model_module": "@jupyter-widgets/base",
          "model_name": "LayoutModel",
          "model_module_version": "1.2.0",
          "state": {
            "_model_module": "@jupyter-widgets/base",
            "_model_module_version": "1.2.0",
            "_model_name": "LayoutModel",
            "_view_count": null,
            "_view_module": "@jupyter-widgets/base",
            "_view_module_version": "1.2.0",
            "_view_name": "LayoutView",
            "align_content": null,
            "align_items": null,
            "align_self": null,
            "border": null,
            "bottom": null,
            "display": null,
            "flex": null,
            "flex_flow": null,
            "grid_area": null,
            "grid_auto_columns": null,
            "grid_auto_flow": null,
            "grid_auto_rows": null,
            "grid_column": null,
            "grid_gap": null,
            "grid_row": null,
            "grid_template_areas": null,
            "grid_template_columns": null,
            "grid_template_rows": null,
            "height": null,
            "justify_content": null,
            "justify_items": null,
            "left": null,
            "margin": null,
            "max_height": null,
            "max_width": null,
            "min_height": null,
            "min_width": null,
            "object_fit": null,
            "object_position": null,
            "order": null,
            "overflow": null,
            "overflow_x": null,
            "overflow_y": null,
            "padding": null,
            "right": null,
            "top": null,
            "visibility": null,
            "width": null
          }
        },
        "4e5876f4ca074be6882b15a5ea778502": {
          "model_module": "@jupyter-widgets/controls",
          "model_name": "DescriptionStyleModel",
          "model_module_version": "1.5.0",
          "state": {
            "_model_module": "@jupyter-widgets/controls",
            "_model_module_version": "1.5.0",
            "_model_name": "DescriptionStyleModel",
            "_view_count": null,
            "_view_module": "@jupyter-widgets/base",
            "_view_module_version": "1.2.0",
            "_view_name": "StyleView",
            "description_width": ""
          }
        },
        "748dfb528fdd4381a116dd076c89adda": {
          "model_module": "@jupyter-widgets/controls",
          "model_name": "HBoxModel",
          "model_module_version": "1.5.0",
          "state": {
            "_dom_classes": [],
            "_model_module": "@jupyter-widgets/controls",
            "_model_module_version": "1.5.0",
            "_model_name": "HBoxModel",
            "_view_count": null,
            "_view_module": "@jupyter-widgets/controls",
            "_view_module_version": "1.5.0",
            "_view_name": "HBoxView",
            "box_style": "",
            "children": [
              "IPY_MODEL_f914452517734f9abd8ca6ec9223a3f1",
              "IPY_MODEL_7f375830a1004068b81193e7c5ac078a",
              "IPY_MODEL_c43dbdfceb3a4cdc899267dce825d87f"
            ],
            "layout": "IPY_MODEL_26461e50fdec4d7486513541237de71f"
          }
        },
        "f914452517734f9abd8ca6ec9223a3f1": {
          "model_module": "@jupyter-widgets/controls",
          "model_name": "HTMLModel",
          "model_module_version": "1.5.0",
          "state": {
            "_dom_classes": [],
            "_model_module": "@jupyter-widgets/controls",
            "_model_module_version": "1.5.0",
            "_model_name": "HTMLModel",
            "_view_count": null,
            "_view_module": "@jupyter-widgets/controls",
            "_view_module_version": "1.5.0",
            "_view_name": "HTMLView",
            "description": "",
            "description_tooltip": null,
            "layout": "IPY_MODEL_1afe2dea75324cb6ad586faa443b4f31",
            "placeholder": "​",
            "style": "IPY_MODEL_3ec9244bc6cf48c8ad1d3e015da4d1d6",
            "value": "Downloading extra modules: "
          }
        },
        "7f375830a1004068b81193e7c5ac078a": {
          "model_module": "@jupyter-widgets/controls",
          "model_name": "FloatProgressModel",
          "model_module_version": "1.5.0",
          "state": {
            "_dom_classes": [],
            "_model_module": "@jupyter-widgets/controls",
            "_model_module_version": "1.5.0",
            "_model_name": "FloatProgressModel",
            "_view_count": null,
            "_view_module": "@jupyter-widgets/controls",
            "_view_module_version": "1.5.0",
            "_view_name": "ProgressView",
            "bar_style": "success",
            "description": "",
            "description_tooltip": null,
            "layout": "IPY_MODEL_318a15d2a92b4631875062360c6f6c39",
            "max": 1119,
            "min": 0,
            "orientation": "horizontal",
            "style": "IPY_MODEL_e5c727721f274ca0812b0ed79c7046df",
            "value": 1119
          }
        },
        "c43dbdfceb3a4cdc899267dce825d87f": {
          "model_module": "@jupyter-widgets/controls",
          "model_name": "HTMLModel",
          "model_module_version": "1.5.0",
          "state": {
            "_dom_classes": [],
            "_model_module": "@jupyter-widgets/controls",
            "_model_module_version": "1.5.0",
            "_model_name": "HTMLModel",
            "_view_count": null,
            "_view_module": "@jupyter-widgets/controls",
            "_view_module_version": "1.5.0",
            "_view_name": "HTMLView",
            "description": "",
            "description_tooltip": null,
            "layout": "IPY_MODEL_49e08acedc6944c19e09544752e5e873",
            "placeholder": "​",
            "style": "IPY_MODEL_f773cf72aa7a4bd1b4086359beadc18f",
            "value": " 3.31k/? [00:00&lt;00:00, 221kB/s]"
          }
        },
        "26461e50fdec4d7486513541237de71f": {
          "model_module": "@jupyter-widgets/base",
          "model_name": "LayoutModel",
          "model_module_version": "1.2.0",
          "state": {
            "_model_module": "@jupyter-widgets/base",
            "_model_module_version": "1.2.0",
            "_model_name": "LayoutModel",
            "_view_count": null,
            "_view_module": "@jupyter-widgets/base",
            "_view_module_version": "1.2.0",
            "_view_name": "LayoutView",
            "align_content": null,
            "align_items": null,
            "align_self": null,
            "border": null,
            "bottom": null,
            "display": null,
            "flex": null,
            "flex_flow": null,
            "grid_area": null,
            "grid_auto_columns": null,
            "grid_auto_flow": null,
            "grid_auto_rows": null,
            "grid_column": null,
            "grid_gap": null,
            "grid_row": null,
            "grid_template_areas": null,
            "grid_template_columns": null,
            "grid_template_rows": null,
            "height": null,
            "justify_content": null,
            "justify_items": null,
            "left": null,
            "margin": null,
            "max_height": null,
            "max_width": null,
            "min_height": null,
            "min_width": null,
            "object_fit": null,
            "object_position": null,
            "order": null,
            "overflow": null,
            "overflow_x": null,
            "overflow_y": null,
            "padding": null,
            "right": null,
            "top": null,
            "visibility": null,
            "width": null
          }
        },
        "1afe2dea75324cb6ad586faa443b4f31": {
          "model_module": "@jupyter-widgets/base",
          "model_name": "LayoutModel",
          "model_module_version": "1.2.0",
          "state": {
            "_model_module": "@jupyter-widgets/base",
            "_model_module_version": "1.2.0",
            "_model_name": "LayoutModel",
            "_view_count": null,
            "_view_module": "@jupyter-widgets/base",
            "_view_module_version": "1.2.0",
            "_view_name": "LayoutView",
            "align_content": null,
            "align_items": null,
            "align_self": null,
            "border": null,
            "bottom": null,
            "display": null,
            "flex": null,
            "flex_flow": null,
            "grid_area": null,
            "grid_auto_columns": null,
            "grid_auto_flow": null,
            "grid_auto_rows": null,
            "grid_column": null,
            "grid_gap": null,
            "grid_row": null,
            "grid_template_areas": null,
            "grid_template_columns": null,
            "grid_template_rows": null,
            "height": null,
            "justify_content": null,
            "justify_items": null,
            "left": null,
            "margin": null,
            "max_height": null,
            "max_width": null,
            "min_height": null,
            "min_width": null,
            "object_fit": null,
            "object_position": null,
            "order": null,
            "overflow": null,
            "overflow_x": null,
            "overflow_y": null,
            "padding": null,
            "right": null,
            "top": null,
            "visibility": null,
            "width": null
          }
        },
        "3ec9244bc6cf48c8ad1d3e015da4d1d6": {
          "model_module": "@jupyter-widgets/controls",
          "model_name": "DescriptionStyleModel",
          "model_module_version": "1.5.0",
          "state": {
            "_model_module": "@jupyter-widgets/controls",
            "_model_module_version": "1.5.0",
            "_model_name": "DescriptionStyleModel",
            "_view_count": null,
            "_view_module": "@jupyter-widgets/base",
            "_view_module_version": "1.2.0",
            "_view_name": "StyleView",
            "description_width": ""
          }
        },
        "318a15d2a92b4631875062360c6f6c39": {
          "model_module": "@jupyter-widgets/base",
          "model_name": "LayoutModel",
          "model_module_version": "1.2.0",
          "state": {
            "_model_module": "@jupyter-widgets/base",
            "_model_module_version": "1.2.0",
            "_model_name": "LayoutModel",
            "_view_count": null,
            "_view_module": "@jupyter-widgets/base",
            "_view_module_version": "1.2.0",
            "_view_name": "LayoutView",
            "align_content": null,
            "align_items": null,
            "align_self": null,
            "border": null,
            "bottom": null,
            "display": null,
            "flex": null,
            "flex_flow": null,
            "grid_area": null,
            "grid_auto_columns": null,
            "grid_auto_flow": null,
            "grid_auto_rows": null,
            "grid_column": null,
            "grid_gap": null,
            "grid_row": null,
            "grid_template_areas": null,
            "grid_template_columns": null,
            "grid_template_rows": null,
            "height": null,
            "justify_content": null,
            "justify_items": null,
            "left": null,
            "margin": null,
            "max_height": null,
            "max_width": null,
            "min_height": null,
            "min_width": null,
            "object_fit": null,
            "object_position": null,
            "order": null,
            "overflow": null,
            "overflow_x": null,
            "overflow_y": null,
            "padding": null,
            "right": null,
            "top": null,
            "visibility": null,
            "width": null
          }
        },
        "e5c727721f274ca0812b0ed79c7046df": {
          "model_module": "@jupyter-widgets/controls",
          "model_name": "ProgressStyleModel",
          "model_module_version": "1.5.0",
          "state": {
            "_model_module": "@jupyter-widgets/controls",
            "_model_module_version": "1.5.0",
            "_model_name": "ProgressStyleModel",
            "_view_count": null,
            "_view_module": "@jupyter-widgets/base",
            "_view_module_version": "1.2.0",
            "_view_name": "StyleView",
            "bar_color": null,
            "description_width": ""
          }
        },
        "49e08acedc6944c19e09544752e5e873": {
          "model_module": "@jupyter-widgets/base",
          "model_name": "LayoutModel",
          "model_module_version": "1.2.0",
          "state": {
            "_model_module": "@jupyter-widgets/base",
            "_model_module_version": "1.2.0",
            "_model_name": "LayoutModel",
            "_view_count": null,
            "_view_module": "@jupyter-widgets/base",
            "_view_module_version": "1.2.0",
            "_view_name": "LayoutView",
            "align_content": null,
            "align_items": null,
            "align_self": null,
            "border": null,
            "bottom": null,
            "display": null,
            "flex": null,
            "flex_flow": null,
            "grid_area": null,
            "grid_auto_columns": null,
            "grid_auto_flow": null,
            "grid_auto_rows": null,
            "grid_column": null,
            "grid_gap": null,
            "grid_row": null,
            "grid_template_areas": null,
            "grid_template_columns": null,
            "grid_template_rows": null,
            "height": null,
            "justify_content": null,
            "justify_items": null,
            "left": null,
            "margin": null,
            "max_height": null,
            "max_width": null,
            "min_height": null,
            "min_width": null,
            "object_fit": null,
            "object_position": null,
            "order": null,
            "overflow": null,
            "overflow_x": null,
            "overflow_y": null,
            "padding": null,
            "right": null,
            "top": null,
            "visibility": null,
            "width": null
          }
        },
        "f773cf72aa7a4bd1b4086359beadc18f": {
          "model_module": "@jupyter-widgets/controls",
          "model_name": "DescriptionStyleModel",
          "model_module_version": "1.5.0",
          "state": {
            "_model_module": "@jupyter-widgets/controls",
            "_model_module_version": "1.5.0",
            "_model_name": "DescriptionStyleModel",
            "_view_count": null,
            "_view_module": "@jupyter-widgets/base",
            "_view_module_version": "1.2.0",
            "_view_name": "StyleView",
            "description_width": ""
          }
        },
        "345c44f74e3c4e6a92929a3be7a0eb0e": {
          "model_module": "@jupyter-widgets/controls",
          "model_name": "HBoxModel",
          "model_module_version": "1.5.0",
          "state": {
            "_dom_classes": [],
            "_model_module": "@jupyter-widgets/controls",
            "_model_module_version": "1.5.0",
            "_model_name": "HBoxModel",
            "_view_count": null,
            "_view_module": "@jupyter-widgets/controls",
            "_view_module_version": "1.5.0",
            "_view_name": "HBoxView",
            "box_style": "",
            "children": [
              "IPY_MODEL_1d06e8e2c2e0489380ca64879479d04a",
              "IPY_MODEL_5a54fe092aaf43718b433dcc1d3b7112",
              "IPY_MODEL_090fc2e8699a4845b1cbf675ef36d667"
            ],
            "layout": "IPY_MODEL_3ecfe0999d6f4409bdd8f4a7a4dce115"
          }
        },
        "1d06e8e2c2e0489380ca64879479d04a": {
          "model_module": "@jupyter-widgets/controls",
          "model_name": "HTMLModel",
          "model_module_version": "1.5.0",
          "state": {
            "_dom_classes": [],
            "_model_module": "@jupyter-widgets/controls",
            "_model_module_version": "1.5.0",
            "_model_name": "HTMLModel",
            "_view_count": null,
            "_view_module": "@jupyter-widgets/controls",
            "_view_module_version": "1.5.0",
            "_view_name": "HTMLView",
            "description": "",
            "description_tooltip": null,
            "layout": "IPY_MODEL_d1d446f16b3048f9bffcac7889803f71",
            "placeholder": "​",
            "style": "IPY_MODEL_149e486ef67c4aa48ffdecc47a5460be",
            "value": "100%"
          }
        },
        "5a54fe092aaf43718b433dcc1d3b7112": {
          "model_module": "@jupyter-widgets/controls",
          "model_name": "FloatProgressModel",
          "model_module_version": "1.5.0",
          "state": {
            "_dom_classes": [],
            "_model_module": "@jupyter-widgets/controls",
            "_model_module_version": "1.5.0",
            "_model_name": "FloatProgressModel",
            "_view_count": null,
            "_view_module": "@jupyter-widgets/controls",
            "_view_module_version": "1.5.0",
            "_view_name": "ProgressView",
            "bar_style": "success",
            "description": "",
            "description_tooltip": null,
            "layout": "IPY_MODEL_788ca1b32fdf440cb68cbc41dc7427aa",
            "max": 5,
            "min": 0,
            "orientation": "horizontal",
            "style": "IPY_MODEL_5ffc89b077c2415eb49f58903a513d6c",
            "value": 5
          }
        },
        "090fc2e8699a4845b1cbf675ef36d667": {
          "model_module": "@jupyter-widgets/controls",
          "model_name": "HTMLModel",
          "model_module_version": "1.5.0",
          "state": {
            "_dom_classes": [],
            "_model_module": "@jupyter-widgets/controls",
            "_model_module_version": "1.5.0",
            "_model_name": "HTMLModel",
            "_view_count": null,
            "_view_module": "@jupyter-widgets/controls",
            "_view_module_version": "1.5.0",
            "_view_name": "HTMLView",
            "description": "",
            "description_tooltip": null,
            "layout": "IPY_MODEL_5a44680c4bfc42f68864206885212d4d",
            "placeholder": "​",
            "style": "IPY_MODEL_c959c4bedeed4e15a81b964fe76f42c0",
            "value": " 5/5 [00:05&lt;00:00,  1.34s/ba]"
          }
        },
        "3ecfe0999d6f4409bdd8f4a7a4dce115": {
          "model_module": "@jupyter-widgets/base",
          "model_name": "LayoutModel",
          "model_module_version": "1.2.0",
          "state": {
            "_model_module": "@jupyter-widgets/base",
            "_model_module_version": "1.2.0",
            "_model_name": "LayoutModel",
            "_view_count": null,
            "_view_module": "@jupyter-widgets/base",
            "_view_module_version": "1.2.0",
            "_view_name": "LayoutView",
            "align_content": null,
            "align_items": null,
            "align_self": null,
            "border": null,
            "bottom": null,
            "display": null,
            "flex": null,
            "flex_flow": null,
            "grid_area": null,
            "grid_auto_columns": null,
            "grid_auto_flow": null,
            "grid_auto_rows": null,
            "grid_column": null,
            "grid_gap": null,
            "grid_row": null,
            "grid_template_areas": null,
            "grid_template_columns": null,
            "grid_template_rows": null,
            "height": null,
            "justify_content": null,
            "justify_items": null,
            "left": null,
            "margin": null,
            "max_height": null,
            "max_width": null,
            "min_height": null,
            "min_width": null,
            "object_fit": null,
            "object_position": null,
            "order": null,
            "overflow": null,
            "overflow_x": null,
            "overflow_y": null,
            "padding": null,
            "right": null,
            "top": null,
            "visibility": null,
            "width": null
          }
        },
        "d1d446f16b3048f9bffcac7889803f71": {
          "model_module": "@jupyter-widgets/base",
          "model_name": "LayoutModel",
          "model_module_version": "1.2.0",
          "state": {
            "_model_module": "@jupyter-widgets/base",
            "_model_module_version": "1.2.0",
            "_model_name": "LayoutModel",
            "_view_count": null,
            "_view_module": "@jupyter-widgets/base",
            "_view_module_version": "1.2.0",
            "_view_name": "LayoutView",
            "align_content": null,
            "align_items": null,
            "align_self": null,
            "border": null,
            "bottom": null,
            "display": null,
            "flex": null,
            "flex_flow": null,
            "grid_area": null,
            "grid_auto_columns": null,
            "grid_auto_flow": null,
            "grid_auto_rows": null,
            "grid_column": null,
            "grid_gap": null,
            "grid_row": null,
            "grid_template_areas": null,
            "grid_template_columns": null,
            "grid_template_rows": null,
            "height": null,
            "justify_content": null,
            "justify_items": null,
            "left": null,
            "margin": null,
            "max_height": null,
            "max_width": null,
            "min_height": null,
            "min_width": null,
            "object_fit": null,
            "object_position": null,
            "order": null,
            "overflow": null,
            "overflow_x": null,
            "overflow_y": null,
            "padding": null,
            "right": null,
            "top": null,
            "visibility": null,
            "width": null
          }
        },
        "149e486ef67c4aa48ffdecc47a5460be": {
          "model_module": "@jupyter-widgets/controls",
          "model_name": "DescriptionStyleModel",
          "model_module_version": "1.5.0",
          "state": {
            "_model_module": "@jupyter-widgets/controls",
            "_model_module_version": "1.5.0",
            "_model_name": "DescriptionStyleModel",
            "_view_count": null,
            "_view_module": "@jupyter-widgets/base",
            "_view_module_version": "1.2.0",
            "_view_name": "StyleView",
            "description_width": ""
          }
        },
        "788ca1b32fdf440cb68cbc41dc7427aa": {
          "model_module": "@jupyter-widgets/base",
          "model_name": "LayoutModel",
          "model_module_version": "1.2.0",
          "state": {
            "_model_module": "@jupyter-widgets/base",
            "_model_module_version": "1.2.0",
            "_model_name": "LayoutModel",
            "_view_count": null,
            "_view_module": "@jupyter-widgets/base",
            "_view_module_version": "1.2.0",
            "_view_name": "LayoutView",
            "align_content": null,
            "align_items": null,
            "align_self": null,
            "border": null,
            "bottom": null,
            "display": null,
            "flex": null,
            "flex_flow": null,
            "grid_area": null,
            "grid_auto_columns": null,
            "grid_auto_flow": null,
            "grid_auto_rows": null,
            "grid_column": null,
            "grid_gap": null,
            "grid_row": null,
            "grid_template_areas": null,
            "grid_template_columns": null,
            "grid_template_rows": null,
            "height": null,
            "justify_content": null,
            "justify_items": null,
            "left": null,
            "margin": null,
            "max_height": null,
            "max_width": null,
            "min_height": null,
            "min_width": null,
            "object_fit": null,
            "object_position": null,
            "order": null,
            "overflow": null,
            "overflow_x": null,
            "overflow_y": null,
            "padding": null,
            "right": null,
            "top": null,
            "visibility": null,
            "width": null
          }
        },
        "5ffc89b077c2415eb49f58903a513d6c": {
          "model_module": "@jupyter-widgets/controls",
          "model_name": "ProgressStyleModel",
          "model_module_version": "1.5.0",
          "state": {
            "_model_module": "@jupyter-widgets/controls",
            "_model_module_version": "1.5.0",
            "_model_name": "ProgressStyleModel",
            "_view_count": null,
            "_view_module": "@jupyter-widgets/base",
            "_view_module_version": "1.2.0",
            "_view_name": "StyleView",
            "bar_color": null,
            "description_width": ""
          }
        },
        "5a44680c4bfc42f68864206885212d4d": {
          "model_module": "@jupyter-widgets/base",
          "model_name": "LayoutModel",
          "model_module_version": "1.2.0",
          "state": {
            "_model_module": "@jupyter-widgets/base",
            "_model_module_version": "1.2.0",
            "_model_name": "LayoutModel",
            "_view_count": null,
            "_view_module": "@jupyter-widgets/base",
            "_view_module_version": "1.2.0",
            "_view_name": "LayoutView",
            "align_content": null,
            "align_items": null,
            "align_self": null,
            "border": null,
            "bottom": null,
            "display": null,
            "flex": null,
            "flex_flow": null,
            "grid_area": null,
            "grid_auto_columns": null,
            "grid_auto_flow": null,
            "grid_auto_rows": null,
            "grid_column": null,
            "grid_gap": null,
            "grid_row": null,
            "grid_template_areas": null,
            "grid_template_columns": null,
            "grid_template_rows": null,
            "height": null,
            "justify_content": null,
            "justify_items": null,
            "left": null,
            "margin": null,
            "max_height": null,
            "max_width": null,
            "min_height": null,
            "min_width": null,
            "object_fit": null,
            "object_position": null,
            "order": null,
            "overflow": null,
            "overflow_x": null,
            "overflow_y": null,
            "padding": null,
            "right": null,
            "top": null,
            "visibility": null,
            "width": null
          }
        },
        "c959c4bedeed4e15a81b964fe76f42c0": {
          "model_module": "@jupyter-widgets/controls",
          "model_name": "DescriptionStyleModel",
          "model_module_version": "1.5.0",
          "state": {
            "_model_module": "@jupyter-widgets/controls",
            "_model_module_version": "1.5.0",
            "_model_name": "DescriptionStyleModel",
            "_view_count": null,
            "_view_module": "@jupyter-widgets/base",
            "_view_module_version": "1.2.0",
            "_view_name": "StyleView",
            "description_width": ""
          }
        },
        "178a1191467f46c885eacf9448367f95": {
          "model_module": "@jupyter-widgets/controls",
          "model_name": "HBoxModel",
          "model_module_version": "1.5.0",
          "state": {
            "_dom_classes": [],
            "_model_module": "@jupyter-widgets/controls",
            "_model_module_version": "1.5.0",
            "_model_name": "HBoxModel",
            "_view_count": null,
            "_view_module": "@jupyter-widgets/controls",
            "_view_module_version": "1.5.0",
            "_view_name": "HBoxView",
            "box_style": "",
            "children": [
              "IPY_MODEL_2684e556628a44ae93ec42887b6cec89",
              "IPY_MODEL_686f33ea7e0c4298aa02c95444222c94",
              "IPY_MODEL_5863dee0f9394173b3b3da15b14d0f40"
            ],
            "layout": "IPY_MODEL_f0b450e68a944cad8ae48a3169cd25a8"
          }
        },
        "2684e556628a44ae93ec42887b6cec89": {
          "model_module": "@jupyter-widgets/controls",
          "model_name": "HTMLModel",
          "model_module_version": "1.5.0",
          "state": {
            "_dom_classes": [],
            "_model_module": "@jupyter-widgets/controls",
            "_model_module_version": "1.5.0",
            "_model_name": "HTMLModel",
            "_view_count": null,
            "_view_module": "@jupyter-widgets/controls",
            "_view_module_version": "1.5.0",
            "_view_name": "HTMLView",
            "description": "",
            "description_tooltip": null,
            "layout": "IPY_MODEL_b6c6cab3016b449ca5ac4b6a2a147025",
            "placeholder": "​",
            "style": "IPY_MODEL_c05330a8f4bf4fe6a0deb713338638bf",
            "value": "100%"
          }
        },
        "686f33ea7e0c4298aa02c95444222c94": {
          "model_module": "@jupyter-widgets/controls",
          "model_name": "FloatProgressModel",
          "model_module_version": "1.5.0",
          "state": {
            "_dom_classes": [],
            "_model_module": "@jupyter-widgets/controls",
            "_model_module_version": "1.5.0",
            "_model_name": "FloatProgressModel",
            "_view_count": null,
            "_view_module": "@jupyter-widgets/controls",
            "_view_module_version": "1.5.0",
            "_view_name": "ProgressView",
            "bar_style": "success",
            "description": "",
            "description_tooltip": null,
            "layout": "IPY_MODEL_923d4c0c04f2488891f78131cf35e13b",
            "max": 4008,
            "min": 0,
            "orientation": "horizontal",
            "style": "IPY_MODEL_780eaf43771c4feeb0cbf885e800d09c",
            "value": 4008
          }
        },
        "5863dee0f9394173b3b3da15b14d0f40": {
          "model_module": "@jupyter-widgets/controls",
          "model_name": "HTMLModel",
          "model_module_version": "1.5.0",
          "state": {
            "_dom_classes": [],
            "_model_module": "@jupyter-widgets/controls",
            "_model_module_version": "1.5.0",
            "_model_name": "HTMLModel",
            "_view_count": null,
            "_view_module": "@jupyter-widgets/controls",
            "_view_module_version": "1.5.0",
            "_view_name": "HTMLView",
            "description": "",
            "description_tooltip": null,
            "layout": "IPY_MODEL_d1749e09749c4e9d9f0898115785422f",
            "placeholder": "​",
            "style": "IPY_MODEL_e58e441f58ca469e94cf6c75e28fc0e4",
            "value": " 4008/4008 [00:23&lt;00:00, 173.69it/s]"
          }
        },
        "f0b450e68a944cad8ae48a3169cd25a8": {
          "model_module": "@jupyter-widgets/base",
          "model_name": "LayoutModel",
          "model_module_version": "1.2.0",
          "state": {
            "_model_module": "@jupyter-widgets/base",
            "_model_module_version": "1.2.0",
            "_model_name": "LayoutModel",
            "_view_count": null,
            "_view_module": "@jupyter-widgets/base",
            "_view_module_version": "1.2.0",
            "_view_name": "LayoutView",
            "align_content": null,
            "align_items": null,
            "align_self": null,
            "border": null,
            "bottom": null,
            "display": null,
            "flex": null,
            "flex_flow": null,
            "grid_area": null,
            "grid_auto_columns": null,
            "grid_auto_flow": null,
            "grid_auto_rows": null,
            "grid_column": null,
            "grid_gap": null,
            "grid_row": null,
            "grid_template_areas": null,
            "grid_template_columns": null,
            "grid_template_rows": null,
            "height": null,
            "justify_content": null,
            "justify_items": null,
            "left": null,
            "margin": null,
            "max_height": null,
            "max_width": null,
            "min_height": null,
            "min_width": null,
            "object_fit": null,
            "object_position": null,
            "order": null,
            "overflow": null,
            "overflow_x": null,
            "overflow_y": null,
            "padding": null,
            "right": null,
            "top": null,
            "visibility": null,
            "width": null
          }
        },
        "b6c6cab3016b449ca5ac4b6a2a147025": {
          "model_module": "@jupyter-widgets/base",
          "model_name": "LayoutModel",
          "model_module_version": "1.2.0",
          "state": {
            "_model_module": "@jupyter-widgets/base",
            "_model_module_version": "1.2.0",
            "_model_name": "LayoutModel",
            "_view_count": null,
            "_view_module": "@jupyter-widgets/base",
            "_view_module_version": "1.2.0",
            "_view_name": "LayoutView",
            "align_content": null,
            "align_items": null,
            "align_self": null,
            "border": null,
            "bottom": null,
            "display": null,
            "flex": null,
            "flex_flow": null,
            "grid_area": null,
            "grid_auto_columns": null,
            "grid_auto_flow": null,
            "grid_auto_rows": null,
            "grid_column": null,
            "grid_gap": null,
            "grid_row": null,
            "grid_template_areas": null,
            "grid_template_columns": null,
            "grid_template_rows": null,
            "height": null,
            "justify_content": null,
            "justify_items": null,
            "left": null,
            "margin": null,
            "max_height": null,
            "max_width": null,
            "min_height": null,
            "min_width": null,
            "object_fit": null,
            "object_position": null,
            "order": null,
            "overflow": null,
            "overflow_x": null,
            "overflow_y": null,
            "padding": null,
            "right": null,
            "top": null,
            "visibility": null,
            "width": null
          }
        },
        "c05330a8f4bf4fe6a0deb713338638bf": {
          "model_module": "@jupyter-widgets/controls",
          "model_name": "DescriptionStyleModel",
          "model_module_version": "1.5.0",
          "state": {
            "_model_module": "@jupyter-widgets/controls",
            "_model_module_version": "1.5.0",
            "_model_name": "DescriptionStyleModel",
            "_view_count": null,
            "_view_module": "@jupyter-widgets/base",
            "_view_module_version": "1.2.0",
            "_view_name": "StyleView",
            "description_width": ""
          }
        },
        "923d4c0c04f2488891f78131cf35e13b": {
          "model_module": "@jupyter-widgets/base",
          "model_name": "LayoutModel",
          "model_module_version": "1.2.0",
          "state": {
            "_model_module": "@jupyter-widgets/base",
            "_model_module_version": "1.2.0",
            "_model_name": "LayoutModel",
            "_view_count": null,
            "_view_module": "@jupyter-widgets/base",
            "_view_module_version": "1.2.0",
            "_view_name": "LayoutView",
            "align_content": null,
            "align_items": null,
            "align_self": null,
            "border": null,
            "bottom": null,
            "display": null,
            "flex": null,
            "flex_flow": null,
            "grid_area": null,
            "grid_auto_columns": null,
            "grid_auto_flow": null,
            "grid_auto_rows": null,
            "grid_column": null,
            "grid_gap": null,
            "grid_row": null,
            "grid_template_areas": null,
            "grid_template_columns": null,
            "grid_template_rows": null,
            "height": null,
            "justify_content": null,
            "justify_items": null,
            "left": null,
            "margin": null,
            "max_height": null,
            "max_width": null,
            "min_height": null,
            "min_width": null,
            "object_fit": null,
            "object_position": null,
            "order": null,
            "overflow": null,
            "overflow_x": null,
            "overflow_y": null,
            "padding": null,
            "right": null,
            "top": null,
            "visibility": null,
            "width": null
          }
        },
        "780eaf43771c4feeb0cbf885e800d09c": {
          "model_module": "@jupyter-widgets/controls",
          "model_name": "ProgressStyleModel",
          "model_module_version": "1.5.0",
          "state": {
            "_model_module": "@jupyter-widgets/controls",
            "_model_module_version": "1.5.0",
            "_model_name": "ProgressStyleModel",
            "_view_count": null,
            "_view_module": "@jupyter-widgets/base",
            "_view_module_version": "1.2.0",
            "_view_name": "StyleView",
            "bar_color": null,
            "description_width": ""
          }
        },
        "d1749e09749c4e9d9f0898115785422f": {
          "model_module": "@jupyter-widgets/base",
          "model_name": "LayoutModel",
          "model_module_version": "1.2.0",
          "state": {
            "_model_module": "@jupyter-widgets/base",
            "_model_module_version": "1.2.0",
            "_model_name": "LayoutModel",
            "_view_count": null,
            "_view_module": "@jupyter-widgets/base",
            "_view_module_version": "1.2.0",
            "_view_name": "LayoutView",
            "align_content": null,
            "align_items": null,
            "align_self": null,
            "border": null,
            "bottom": null,
            "display": null,
            "flex": null,
            "flex_flow": null,
            "grid_area": null,
            "grid_auto_columns": null,
            "grid_auto_flow": null,
            "grid_auto_rows": null,
            "grid_column": null,
            "grid_gap": null,
            "grid_row": null,
            "grid_template_areas": null,
            "grid_template_columns": null,
            "grid_template_rows": null,
            "height": null,
            "justify_content": null,
            "justify_items": null,
            "left": null,
            "margin": null,
            "max_height": null,
            "max_width": null,
            "min_height": null,
            "min_width": null,
            "object_fit": null,
            "object_position": null,
            "order": null,
            "overflow": null,
            "overflow_x": null,
            "overflow_y": null,
            "padding": null,
            "right": null,
            "top": null,
            "visibility": null,
            "width": null
          }
        },
        "e58e441f58ca469e94cf6c75e28fc0e4": {
          "model_module": "@jupyter-widgets/controls",
          "model_name": "DescriptionStyleModel",
          "model_module_version": "1.5.0",
          "state": {
            "_model_module": "@jupyter-widgets/controls",
            "_model_module_version": "1.5.0",
            "_model_name": "DescriptionStyleModel",
            "_view_count": null,
            "_view_module": "@jupyter-widgets/base",
            "_view_module_version": "1.2.0",
            "_view_name": "StyleView",
            "description_width": ""
          }
        }
      }
    }
  },
  "cells": [
    {
      "cell_type": "markdown",
      "source": [
        "# 0️⃣ Prerequisite"
      ],
      "metadata": {
        "id": "WElKKp0Oxdpz"
      }
    },
    {
      "cell_type": "code",
      "source": [
        "!sudo apt-get install -y fonts-nanum\n",
        "!sudo fc-cache -fv\n",
        "!rm ~/.cache/matplotlib -rf"
      ],
      "metadata": {
        "colab": {
          "base_uri": "https://localhost:8080/"
        },
        "id": "ZGeLeh3PgsXI",
        "outputId": "f7872e87-58a6-45a3-f905-7e55f796f622"
      },
      "execution_count": 37,
      "outputs": [
        {
          "output_type": "stream",
          "name": "stdout",
          "text": [
            "Reading package lists... Done\n",
            "Building dependency tree       \n",
            "Reading state information... Done\n",
            "fonts-nanum is already the newest version (20170925-1).\n",
            "The following package was automatically installed and is no longer required:\n",
            "  libnvidia-common-460\n",
            "Use 'sudo apt autoremove' to remove it.\n",
            "0 upgraded, 0 newly installed, 0 to remove and 21 not upgraded.\n",
            "/usr/share/fonts: caching, new cache contents: 0 fonts, 1 dirs\n",
            "/usr/share/fonts/truetype: caching, new cache contents: 0 fonts, 3 dirs\n",
            "/usr/share/fonts/truetype/humor-sans: caching, new cache contents: 1 fonts, 0 dirs\n",
            "/usr/share/fonts/truetype/liberation: caching, new cache contents: 16 fonts, 0 dirs\n",
            "/usr/share/fonts/truetype/nanum: caching, new cache contents: 10 fonts, 0 dirs\n",
            "/usr/local/share/fonts: caching, new cache contents: 0 fonts, 0 dirs\n",
            "/root/.local/share/fonts: skipping, no such directory\n",
            "/root/.fonts: skipping, no such directory\n",
            "/var/cache/fontconfig: cleaning cache directory\n",
            "/root/.cache/fontconfig: not cleaning non-existent cache directory\n",
            "/root/.fontconfig: not cleaning non-existent cache directory\n",
            "fc-cache: succeeded\n"
          ]
        }
      ]
    },
    {
      "cell_type": "markdown",
      "source": [
        "⚠️⚠️⚠️⚠️⚠️ [런타임] - [런타임 다시 시작] ⚠️⚠️⚠️⚠️⚠️"
      ],
      "metadata": {
        "id": "cebjaT-wgy-z"
      }
    },
    {
      "cell_type": "markdown",
      "source": [
        "## Mount Google Drive"
      ],
      "metadata": {
        "id": "TQ27ufcOxyyv"
      }
    },
    {
      "cell_type": "code",
      "execution_count": 1,
      "metadata": {
        "colab": {
          "base_uri": "https://localhost:8080/"
        },
        "id": "ng1Qc28Lwi-V",
        "outputId": "919492e2-68c5-4fab-c3fe-2d9745e1e72c"
      },
      "outputs": [
        {
          "output_type": "stream",
          "name": "stdout",
          "text": [
            "Drive already mounted at /content/drive; to attempt to forcibly remount, call drive.mount(\"/content/drive\", force_remount=True).\n"
          ]
        }
      ],
      "source": [
        "from google.colab import drive\n",
        "drive.mount('/content/drive')"
      ]
    },
    {
      "cell_type": "code",
      "source": [
        "import os\n",
        "os.chdir('/content/drive/MyDrive/Study/Data Science/AI 자연어 처리 전문가 양성 과정 6기/Project 2')"
      ],
      "metadata": {
        "id": "7uLdhK23wnLJ"
      },
      "execution_count": 2,
      "outputs": []
    },
    {
      "cell_type": "markdown",
      "source": [
        "## Import libraries"
      ],
      "metadata": {
        "id": "hsBoyfB0x1a8"
      }
    },
    {
      "cell_type": "code",
      "source": [
        "!pip install datasets\n",
        "!pip install levenshtein\n",
        "!pip install torchinfo\n",
        "!pip install transformers\n",
        "!pip install wandb"
      ],
      "metadata": {
        "colab": {
          "base_uri": "https://localhost:8080/"
        },
        "id": "rYTiSdFlyCJx",
        "outputId": "04e9ec40-b995-49f6-af03-9e19250f2f3a"
      },
      "execution_count": 3,
      "outputs": [
        {
          "output_type": "stream",
          "name": "stdout",
          "text": [
            "Looking in indexes: https://pypi.org/simple, https://us-python.pkg.dev/colab-wheels/public/simple/\n",
            "Requirement already satisfied: datasets in /usr/local/lib/python3.8/dist-packages (2.8.0)\n",
            "Requirement already satisfied: pyyaml>=5.1 in /usr/local/lib/python3.8/dist-packages (from datasets) (6.0)\n",
            "Requirement already satisfied: numpy>=1.17 in /usr/local/lib/python3.8/dist-packages (from datasets) (1.21.6)\n",
            "Requirement already satisfied: fsspec[http]>=2021.11.1 in /usr/local/lib/python3.8/dist-packages (from datasets) (2022.11.0)\n",
            "Requirement already satisfied: responses<0.19 in /usr/local/lib/python3.8/dist-packages (from datasets) (0.18.0)\n",
            "Requirement already satisfied: multiprocess in /usr/local/lib/python3.8/dist-packages (from datasets) (0.70.14)\n",
            "Requirement already satisfied: tqdm>=4.62.1 in /usr/local/lib/python3.8/dist-packages (from datasets) (4.64.1)\n",
            "Requirement already satisfied: dill<0.3.7 in /usr/local/lib/python3.8/dist-packages (from datasets) (0.3.6)\n",
            "Requirement already satisfied: aiohttp in /usr/local/lib/python3.8/dist-packages (from datasets) (3.8.3)\n",
            "Requirement already satisfied: huggingface-hub<1.0.0,>=0.2.0 in /usr/local/lib/python3.8/dist-packages (from datasets) (0.11.1)\n",
            "Requirement already satisfied: requests>=2.19.0 in /usr/local/lib/python3.8/dist-packages (from datasets) (2.25.1)\n",
            "Requirement already satisfied: packaging in /usr/local/lib/python3.8/dist-packages (from datasets) (21.3)\n",
            "Requirement already satisfied: xxhash in /usr/local/lib/python3.8/dist-packages (from datasets) (3.2.0)\n",
            "Requirement already satisfied: pandas in /usr/local/lib/python3.8/dist-packages (from datasets) (1.3.5)\n",
            "Requirement already satisfied: pyarrow>=6.0.0 in /usr/local/lib/python3.8/dist-packages (from datasets) (9.0.0)\n",
            "Requirement already satisfied: frozenlist>=1.1.1 in /usr/local/lib/python3.8/dist-packages (from aiohttp->datasets) (1.3.3)\n",
            "Requirement already satisfied: async-timeout<5.0,>=4.0.0a3 in /usr/local/lib/python3.8/dist-packages (from aiohttp->datasets) (4.0.2)\n",
            "Requirement already satisfied: attrs>=17.3.0 in /usr/local/lib/python3.8/dist-packages (from aiohttp->datasets) (22.2.0)\n",
            "Requirement already satisfied: charset-normalizer<3.0,>=2.0 in /usr/local/lib/python3.8/dist-packages (from aiohttp->datasets) (2.1.1)\n",
            "Requirement already satisfied: multidict<7.0,>=4.5 in /usr/local/lib/python3.8/dist-packages (from aiohttp->datasets) (6.0.3)\n",
            "Requirement already satisfied: yarl<2.0,>=1.0 in /usr/local/lib/python3.8/dist-packages (from aiohttp->datasets) (1.8.2)\n",
            "Requirement already satisfied: aiosignal>=1.1.2 in /usr/local/lib/python3.8/dist-packages (from aiohttp->datasets) (1.3.1)\n",
            "Requirement already satisfied: filelock in /usr/local/lib/python3.8/dist-packages (from huggingface-hub<1.0.0,>=0.2.0->datasets) (3.8.2)\n",
            "Requirement already satisfied: typing-extensions>=3.7.4.3 in /usr/local/lib/python3.8/dist-packages (from huggingface-hub<1.0.0,>=0.2.0->datasets) (4.4.0)\n",
            "Requirement already satisfied: pyparsing!=3.0.5,>=2.0.2 in /usr/local/lib/python3.8/dist-packages (from packaging->datasets) (3.0.9)\n",
            "Requirement already satisfied: idna<3,>=2.5 in /usr/local/lib/python3.8/dist-packages (from requests>=2.19.0->datasets) (2.10)\n",
            "Requirement already satisfied: chardet<5,>=3.0.2 in /usr/local/lib/python3.8/dist-packages (from requests>=2.19.0->datasets) (4.0.0)\n",
            "Requirement already satisfied: certifi>=2017.4.17 in /usr/local/lib/python3.8/dist-packages (from requests>=2.19.0->datasets) (2022.12.7)\n",
            "Requirement already satisfied: urllib3<1.27,>=1.21.1 in /usr/local/lib/python3.8/dist-packages (from requests>=2.19.0->datasets) (1.26.13)\n",
            "Requirement already satisfied: pytz>=2017.3 in /usr/local/lib/python3.8/dist-packages (from pandas->datasets) (2022.7)\n",
            "Requirement already satisfied: python-dateutil>=2.7.3 in /usr/local/lib/python3.8/dist-packages (from pandas->datasets) (2.8.2)\n",
            "Requirement already satisfied: six>=1.5 in /usr/local/lib/python3.8/dist-packages (from python-dateutil>=2.7.3->pandas->datasets) (1.15.0)\n",
            "Looking in indexes: https://pypi.org/simple, https://us-python.pkg.dev/colab-wheels/public/simple/\n",
            "Requirement already satisfied: levenshtein in /usr/local/lib/python3.8/dist-packages (0.20.9)\n",
            "Requirement already satisfied: rapidfuzz<3.0.0,>=2.3.0 in /usr/local/lib/python3.8/dist-packages (from levenshtein) (2.13.7)\n",
            "Looking in indexes: https://pypi.org/simple, https://us-python.pkg.dev/colab-wheels/public/simple/\n",
            "Requirement already satisfied: torchinfo in /usr/local/lib/python3.8/dist-packages (1.7.1)\n",
            "Looking in indexes: https://pypi.org/simple, https://us-python.pkg.dev/colab-wheels/public/simple/\n",
            "Requirement already satisfied: transformers in /usr/local/lib/python3.8/dist-packages (4.25.1)\n",
            "Requirement already satisfied: requests in /usr/local/lib/python3.8/dist-packages (from transformers) (2.25.1)\n",
            "Requirement already satisfied: pyyaml>=5.1 in /usr/local/lib/python3.8/dist-packages (from transformers) (6.0)\n",
            "Requirement already satisfied: numpy>=1.17 in /usr/local/lib/python3.8/dist-packages (from transformers) (1.21.6)\n",
            "Requirement already satisfied: tokenizers!=0.11.3,<0.14,>=0.11.1 in /usr/local/lib/python3.8/dist-packages (from transformers) (0.13.2)\n",
            "Requirement already satisfied: tqdm>=4.27 in /usr/local/lib/python3.8/dist-packages (from transformers) (4.64.1)\n",
            "Requirement already satisfied: regex!=2019.12.17 in /usr/local/lib/python3.8/dist-packages (from transformers) (2022.6.2)\n",
            "Requirement already satisfied: filelock in /usr/local/lib/python3.8/dist-packages (from transformers) (3.8.2)\n",
            "Requirement already satisfied: huggingface-hub<1.0,>=0.10.0 in /usr/local/lib/python3.8/dist-packages (from transformers) (0.11.1)\n",
            "Requirement already satisfied: packaging>=20.0 in /usr/local/lib/python3.8/dist-packages (from transformers) (21.3)\n",
            "Requirement already satisfied: typing-extensions>=3.7.4.3 in /usr/local/lib/python3.8/dist-packages (from huggingface-hub<1.0,>=0.10.0->transformers) (4.4.0)\n",
            "Requirement already satisfied: pyparsing!=3.0.5,>=2.0.2 in /usr/local/lib/python3.8/dist-packages (from packaging>=20.0->transformers) (3.0.9)\n",
            "Requirement already satisfied: chardet<5,>=3.0.2 in /usr/local/lib/python3.8/dist-packages (from requests->transformers) (4.0.0)\n",
            "Requirement already satisfied: certifi>=2017.4.17 in /usr/local/lib/python3.8/dist-packages (from requests->transformers) (2022.12.7)\n",
            "Requirement already satisfied: urllib3<1.27,>=1.21.1 in /usr/local/lib/python3.8/dist-packages (from requests->transformers) (1.26.13)\n",
            "Requirement already satisfied: idna<3,>=2.5 in /usr/local/lib/python3.8/dist-packages (from requests->transformers) (2.10)\n",
            "Looking in indexes: https://pypi.org/simple, https://us-python.pkg.dev/colab-wheels/public/simple/\n",
            "Requirement already satisfied: wandb in /usr/local/lib/python3.8/dist-packages (0.13.7)\n",
            "Requirement already satisfied: protobuf!=4.21.0,<5,>=3.12.0 in /usr/local/lib/python3.8/dist-packages (from wandb) (3.19.6)\n",
            "Requirement already satisfied: promise<3,>=2.0 in /usr/local/lib/python3.8/dist-packages (from wandb) (2.3)\n",
            "Requirement already satisfied: docker-pycreds>=0.4.0 in /usr/local/lib/python3.8/dist-packages (from wandb) (0.4.0)\n",
            "Requirement already satisfied: Click!=8.0.0,>=7.0 in /usr/local/lib/python3.8/dist-packages (from wandb) (7.1.2)\n",
            "Requirement already satisfied: sentry-sdk>=1.0.0 in /usr/local/lib/python3.8/dist-packages (from wandb) (1.12.1)\n",
            "Requirement already satisfied: setproctitle in /usr/local/lib/python3.8/dist-packages (from wandb) (1.3.2)\n",
            "Requirement already satisfied: requests<3,>=2.0.0 in /usr/local/lib/python3.8/dist-packages (from wandb) (2.25.1)\n",
            "Requirement already satisfied: psutil>=5.0.0 in /usr/local/lib/python3.8/dist-packages (from wandb) (5.4.8)\n",
            "Requirement already satisfied: setuptools in /usr/local/lib/python3.8/dist-packages (from wandb) (57.4.0)\n",
            "Requirement already satisfied: GitPython>=1.0.0 in /usr/local/lib/python3.8/dist-packages (from wandb) (3.1.30)\n",
            "Requirement already satisfied: pathtools in /usr/local/lib/python3.8/dist-packages (from wandb) (0.1.2)\n",
            "Requirement already satisfied: shortuuid>=0.5.0 in /usr/local/lib/python3.8/dist-packages (from wandb) (1.0.11)\n",
            "Requirement already satisfied: PyYAML in /usr/local/lib/python3.8/dist-packages (from wandb) (6.0)\n",
            "Requirement already satisfied: six>=1.4.0 in /usr/local/lib/python3.8/dist-packages (from docker-pycreds>=0.4.0->wandb) (1.15.0)\n",
            "Requirement already satisfied: gitdb<5,>=4.0.1 in /usr/local/lib/python3.8/dist-packages (from GitPython>=1.0.0->wandb) (4.0.10)\n",
            "Requirement already satisfied: certifi>=2017.4.17 in /usr/local/lib/python3.8/dist-packages (from requests<3,>=2.0.0->wandb) (2022.12.7)\n",
            "Requirement already satisfied: urllib3<1.27,>=1.21.1 in /usr/local/lib/python3.8/dist-packages (from requests<3,>=2.0.0->wandb) (1.26.13)\n",
            "Requirement already satisfied: chardet<5,>=3.0.2 in /usr/local/lib/python3.8/dist-packages (from requests<3,>=2.0.0->wandb) (4.0.0)\n",
            "Requirement already satisfied: idna<3,>=2.5 in /usr/local/lib/python3.8/dist-packages (from requests<3,>=2.0.0->wandb) (2.10)\n",
            "Requirement already satisfied: smmap<6,>=3.0.1 in /usr/local/lib/python3.8/dist-packages (from gitdb<5,>=4.0.1->GitPython>=1.0.0->wandb) (5.0.0)\n"
          ]
        }
      ]
    },
    {
      "cell_type": "code",
      "source": [
        "# Log in to your W&B account\n",
        "import wandb\n",
        "wandb.login(key='eeef6909a6674c953c756358e614461bdced83c4')"
      ],
      "metadata": {
        "colab": {
          "base_uri": "https://localhost:8080/"
        },
        "id": "6A-CdTbzbKr9",
        "outputId": "077b22d6-0d46-4de1-d6e0-9c0225b74a56"
      },
      "execution_count": 4,
      "outputs": [
        {
          "output_type": "stream",
          "name": "stderr",
          "text": [
            "\u001b[34m\u001b[1mwandb\u001b[0m: Currently logged in as: \u001b[33myangdk02\u001b[0m. Use \u001b[1m`wandb login --relogin`\u001b[0m to force relogin\n",
            "\u001b[34m\u001b[1mwandb\u001b[0m: \u001b[33mWARNING\u001b[0m If you're specifying your api key in code, ensure this code is not shared publicly.\n",
            "\u001b[34m\u001b[1mwandb\u001b[0m: \u001b[33mWARNING\u001b[0m Consider setting the WANDB_API_KEY environment variable, or running `wandb login` from the command line.\n",
            "\u001b[34m\u001b[1mwandb\u001b[0m: Appending key for api.wandb.ai to your netrc file: /root/.netrc\n"
          ]
        },
        {
          "output_type": "execute_result",
          "data": {
            "text/plain": [
              "True"
            ]
          },
          "metadata": {},
          "execution_count": 4
        }
      ]
    },
    {
      "cell_type": "code",
      "source": [
        "import csv\n",
        "import json\n",
        "import math\n",
        "import numpy as np\n",
        "import pandas as pd\n",
        "import pickle\n",
        "import random\n",
        "import warnings\n",
        "\n",
        "from collections import defaultdict, OrderedDict\n",
        "from datasets import Dataset, load_metric\n",
        "from easydict import EasyDict as edict\n",
        "from Levenshtein import distance\n",
        "from pathlib import Path\n",
        "from tqdm.auto import tqdm\n",
        "\n",
        "import torch\n",
        "from torchinfo import summary\n",
        "\n",
        "from transformers import (\n",
        "    AutoConfig,\n",
        "    AutoTokenizer,\n",
        "    AutoModelForQuestionAnswering,\n",
        "    default_data_collator,\n",
        "    EarlyStoppingCallback,\n",
        "    get_cosine_schedule_with_warmup,\n",
        "    PreTrainedTokenizerFast,\n",
        "    Trainer,\n",
        "    TrainingArguments\n",
        ")\n",
        "\n",
        "import matplotlib.pyplot as plt"
      ],
      "metadata": {
        "id": "HQMbaIqixW0D"
      },
      "execution_count": 5,
      "outputs": []
    },
    {
      "cell_type": "code",
      "source": [
        "args = edict({\n",
        "       'lr': 1e-1,\n",
        "       'batch_size': {\n",
        "            'train': 512,\n",
        "            'dev': 512,\n",
        "            'test': 512\n",
        "        },\n",
        "        'seed': 42,\n",
        "        'device': torch.device('cuda' if torch.cuda.is_available() else 'cpu'),\n",
        "        'doc_stride': 200, # The authorized overlap between two part of the context when splitting it is needed.\n",
        "        'epochs': 30,\n",
        "        'max_length': 1024, # The maximum length of a feature (question and context)\n",
        "        'model_checkpoint': 'monologg/kobigbird-bert-base',\n",
        "        'n_best_size': 10,\n",
        "        'max_answer_length': 5\n",
        "})\n",
        "args['accumulation'] = int(args.batch_size.train/16)\n",
        "args['model_name'] = args.model_checkpoint.split(\"/\")[-1]\n",
        "args['name'] = f'{args.model_name}_lr{args.lr}_ep{args.epochs}_max{args.max_length}_{random.randrange(0, 1024)}'"
      ],
      "metadata": {
        "id": "bC3Qq7ZsyT6f"
      },
      "execution_count": 6,
      "outputs": []
    },
    {
      "cell_type": "code",
      "source": [
        "wandb.init(\n",
        "    project=\"groom_proj2_korean-mrc\",\n",
        "    name = f\"experiment-{args.name}\",\n",
        "    config=dict(args))"
      ],
      "metadata": {
        "colab": {
          "base_uri": "https://localhost:8080/",
          "height": 93
        },
        "id": "wQbJQtXJcM-Q",
        "outputId": "e90433f1-f74d-4894-9b5f-e51b89a2bab0"
      },
      "execution_count": 7,
      "outputs": [
        {
          "output_type": "display_data",
          "data": {
            "text/plain": [
              "<IPython.core.display.HTML object>"
            ],
            "text/html": [
              "Tracking run with wandb version 0.13.7"
            ]
          },
          "metadata": {}
        },
        {
          "output_type": "display_data",
          "data": {
            "text/plain": [
              "<IPython.core.display.HTML object>"
            ],
            "text/html": [
              "Run data is saved locally in <code>/content/drive/MyDrive/Study/Data Science/AI 자연어 처리 전문가 양성 과정 6기/Project 2/wandb/run-20230109_072122-2le2bdov</code>"
            ]
          },
          "metadata": {}
        },
        {
          "output_type": "display_data",
          "data": {
            "text/plain": [
              "<IPython.core.display.HTML object>"
            ],
            "text/html": [
              "Syncing run <strong><a href=\"https://wandb.ai/yangdk02/groom_proj2_korean-mrc/runs/2le2bdov\" target=\"_blank\">experiment-kobigbird-bert-base_lr0.1_ep30_max1024_331</a></strong> to <a href=\"https://wandb.ai/yangdk02/groom_proj2_korean-mrc\" target=\"_blank\">Weights & Biases</a> (<a href=\"https://wandb.me/run\" target=\"_blank\">docs</a>)<br/>"
            ]
          },
          "metadata": {}
        },
        {
          "output_type": "execute_result",
          "data": {
            "text/html": [
              "<button onClick=\"this.nextSibling.style.display='block';this.style.display='none';\">Display W&B run</button><iframe src=\"https://wandb.ai/yangdk02/groom_proj2_korean-mrc/runs/2le2bdov?jupyter=true\" style=\"border:none;width:100%;height:420px;display:none;\"></iframe>"
            ],
            "text/plain": [
              "<wandb.sdk.wandb_run.Run at 0x7f1d2a34a6a0>"
            ]
          },
          "metadata": {},
          "execution_count": 7
        }
      ]
    },
    {
      "cell_type": "code",
      "source": [
        "def seed_everthing(seed):\n",
        "    random.seed(seed)\n",
        "    np.random.seed(seed)\n",
        "    os.environ[\"PYTHONHASHSEED\"] = str(seed)\n",
        "    torch.manual_seed(seed)\n",
        "    torch.cuda.manual_seed(seed)\n",
        "    torch.backends.cudnn.deterministic = True\n",
        "    torch.backends.cudnn.benchmark = True\n",
        "\n",
        "seed_everthing(args.seed)"
      ],
      "metadata": {
        "id": "cXNCAaaHyWsO"
      },
      "execution_count": 8,
      "outputs": []
    },
    {
      "cell_type": "markdown",
      "source": [
        "## Loading the model & tokenizer"
      ],
      "metadata": {
        "id": "2VkUa0JYx4JU"
      }
    },
    {
      "cell_type": "code",
      "source": [
        "config = AutoConfig.from_pretrained(args.model_checkpoint)\n",
        "tokenizer = AutoTokenizer.from_pretrained(args.model_checkpoint)"
      ],
      "metadata": {
        "id": "RAtI7az3yOv1"
      },
      "execution_count": 9,
      "outputs": []
    },
    {
      "cell_type": "code",
      "source": [
        "model = AutoModelForQuestionAnswering.from_pretrained(args.model_checkpoint)\n",
        "model.to(args.device)\n",
        "\n",
        "summary(model)"
      ],
      "metadata": {
        "colab": {
          "base_uri": "https://localhost:8080/"
        },
        "id": "g7X3QPtXCQOC",
        "outputId": "1a7f3a82-73f2-4ee2-a9ab-9925e2d15dc1"
      },
      "execution_count": 10,
      "outputs": [
        {
          "output_type": "stream",
          "name": "stderr",
          "text": [
            "Some weights of the model checkpoint at monologg/kobigbird-bert-base were not used when initializing BigBirdForQuestionAnswering: ['bert.pooler.bias', 'cls.predictions.decoder.bias', 'cls.seq_relationship.weight', 'cls.predictions.transform.dense.weight', 'cls.predictions.decoder.weight', 'cls.predictions.transform.dense.bias', 'cls.predictions.bias', 'cls.seq_relationship.bias', 'cls.predictions.transform.LayerNorm.weight', 'cls.predictions.transform.LayerNorm.bias', 'bert.pooler.weight']\n",
            "- This IS expected if you are initializing BigBirdForQuestionAnswering from the checkpoint of a model trained on another task or with another architecture (e.g. initializing a BertForSequenceClassification model from a BertForPreTraining model).\n",
            "- This IS NOT expected if you are initializing BigBirdForQuestionAnswering from the checkpoint of a model that you expect to be exactly identical (initializing a BertForSequenceClassification model from a BertForSequenceClassification model).\n",
            "Some weights of BigBirdForQuestionAnswering were not initialized from the model checkpoint at monologg/kobigbird-bert-base and are newly initialized: ['qa_classifier.intermediate.dense.bias', 'qa_classifier.output.LayerNorm.bias', 'qa_classifier.qa_outputs.weight', 'qa_classifier.output.dense.weight', 'qa_classifier.intermediate.dense.weight', 'qa_classifier.output.LayerNorm.weight', 'qa_classifier.output.dense.bias', 'qa_classifier.qa_outputs.bias']\n",
            "You should probably TRAIN this model on a down-stream task to be able to use it for predictions and inference.\n"
          ]
        },
        {
          "output_type": "execute_result",
          "data": {
            "text/plain": [
              "==========================================================================================\n",
              "Layer (type:depth-idx)                                            Param #\n",
              "==========================================================================================\n",
              "BigBirdForQuestionAnswering                                       --\n",
              "├─BigBirdModel: 1-1                                               --\n",
              "│    └─BigBirdEmbeddings: 2-1                                     --\n",
              "│    │    └─Embedding: 3-1                                        24,960,000\n",
              "│    │    └─Embedding: 3-2                                        3,145,728\n",
              "│    │    └─Embedding: 3-3                                        1,536\n",
              "│    │    └─LayerNorm: 3-4                                        1,536\n",
              "│    │    └─Dropout: 3-5                                          --\n",
              "│    └─BigBirdEncoder: 2-2                                        --\n",
              "│    │    └─ModuleList: 3-6                                       85,054,464\n",
              "├─BigBirdForQuestionAnsweringHead: 1-2                            --\n",
              "│    └─Dropout: 2-3                                               --\n",
              "│    └─BigBirdIntermediate: 2-4                                   --\n",
              "│    │    └─Linear: 3-7                                           2,362,368\n",
              "│    │    └─NewGELUActivation: 3-8                                --\n",
              "│    └─BigBirdOutput: 2-5                                         --\n",
              "│    │    └─Linear: 3-9                                           2,360,064\n",
              "│    │    └─LayerNorm: 3-10                                       1,536\n",
              "│    │    └─Dropout: 3-11                                         --\n",
              "│    └─Linear: 2-6                                                1,538\n",
              "==========================================================================================\n",
              "Total params: 117,888,770\n",
              "Trainable params: 117,888,770\n",
              "Non-trainable params: 0\n",
              "=========================================================================================="
            ]
          },
          "metadata": {},
          "execution_count": 10
        }
      ]
    },
    {
      "cell_type": "code",
      "source": [
        "config"
      ],
      "metadata": {
        "colab": {
          "base_uri": "https://localhost:8080/"
        },
        "id": "5flu2Y9ICU_N",
        "outputId": "fe5941e2-5a74-48a8-9b20-199b1e97b9ff"
      },
      "execution_count": 11,
      "outputs": [
        {
          "output_type": "execute_result",
          "data": {
            "text/plain": [
              "BigBirdConfig {\n",
              "  \"_name_or_path\": \"monologg/kobigbird-bert-base\",\n",
              "  \"architectures\": [\n",
              "    \"BigBirdForMaskedLM\"\n",
              "  ],\n",
              "  \"attention_probs_dropout_prob\": 0.1,\n",
              "  \"attention_type\": \"block_sparse\",\n",
              "  \"block_size\": 64,\n",
              "  \"bos_token_id\": 5,\n",
              "  \"classifier_dropout\": null,\n",
              "  \"eos_token_id\": 6,\n",
              "  \"gradient_checkpointing\": false,\n",
              "  \"hidden_act\": \"gelu_new\",\n",
              "  \"hidden_dropout_prob\": 0.1,\n",
              "  \"hidden_size\": 768,\n",
              "  \"initializer_range\": 0.02,\n",
              "  \"intermediate_size\": 3072,\n",
              "  \"layer_norm_eps\": 1e-12,\n",
              "  \"max_position_embeddings\": 4096,\n",
              "  \"model_type\": \"big_bird\",\n",
              "  \"num_attention_heads\": 12,\n",
              "  \"num_hidden_layers\": 12,\n",
              "  \"num_random_blocks\": 3,\n",
              "  \"pad_token_id\": 0,\n",
              "  \"position_embedding_type\": \"absolute\",\n",
              "  \"rescale_embeddings\": false,\n",
              "  \"sep_token_id\": 3,\n",
              "  \"tokenizer_class\": \"BertTokenizer\",\n",
              "  \"torch_dtype\": \"float32\",\n",
              "  \"transformers_version\": \"4.25.1\",\n",
              "  \"type_vocab_size\": 2,\n",
              "  \"use_bias\": true,\n",
              "  \"use_cache\": true,\n",
              "  \"vocab_size\": 32500\n",
              "}"
            ]
          },
          "metadata": {},
          "execution_count": 11
        }
      ]
    },
    {
      "cell_type": "code",
      "source": [
        "for ids, sp_tok in sorted(zip(tokenizer.all_special_ids, tokenizer.all_special_tokens)):\n",
        "  print(ids, sp_tok)"
      ],
      "metadata": {
        "colab": {
          "base_uri": "https://localhost:8080/"
        },
        "id": "zIc-QsT3k6bV",
        "outputId": "6e322e0d-abd6-4910-fdbd-c73d33f1136d"
      },
      "execution_count": 12,
      "outputs": [
        {
          "output_type": "stream",
          "name": "stdout",
          "text": [
            "0 [PAD]\n",
            "1 [UNK]\n",
            "2 [CLS]\n",
            "3 [SEP]\n",
            "4 [MASK]\n",
            "5 <s>\n",
            "6 </s>\n"
          ]
        }
      ]
    },
    {
      "cell_type": "markdown",
      "source": [
        "# 1️⃣ Data Preprocessing & Augmentation"
      ],
      "metadata": {
        "id": "oA3AGW1qxndR"
      }
    },
    {
      "cell_type": "markdown",
      "source": [
        "## Loading the dataset"
      ],
      "metadata": {
        "id": "Lv0w72ZyeoFM"
      }
    },
    {
      "cell_type": "markdown",
      "source": [
        "### KLUE"
      ],
      "metadata": {
        "id": "WqkRICY1Lq-X"
      }
    },
    {
      "cell_type": "code",
      "source": [
        "def read_klue(path):\n",
        "    path = Path(path)\n",
        "    with open(path, 'rb') as f:\n",
        "        data = json.load(f)\n",
        "\n",
        "    news_categories = []\n",
        "    guids = []\n",
        "    contexts = []\n",
        "    questions = []\n",
        "    answers = []\n",
        "    for group in data['data']:\n",
        "        news_category = group['news_category']\n",
        "        for passage in group['paragraphs']:\n",
        "            context = passage['context']\n",
        "            for qa in passage['qas']:\n",
        "                question = qa['question']\n",
        "                for answer in qa['answers']:\n",
        "                    news_categories.append(news_category)\n",
        "                    guids.append(qa[\"guid\"])\n",
        "                    contexts.append(context)\n",
        "                    questions.append(question)\n",
        "                    answers.append({\"answer_start\": [answer[\"answer_start\"]], \"text\": [answer[\"text\"]]})\n",
        "\n",
        "    return news_categories, guids, contexts, questions, answers"
      ],
      "metadata": {
        "id": "P8AGzj1_em6M"
      },
      "execution_count": 13,
      "outputs": []
    },
    {
      "cell_type": "code",
      "source": [
        "file_path = 'input/train.json'\n",
        "\n",
        "news_categories, guids, contexts, questions, answers = read_klue(file_path)\n",
        "\n",
        "df = pd.DataFrame(\n",
        "    list(zip(news_categories, guids , answers, contexts, questions)),\n",
        "    columns =['news_categories', 'id', 'answers', 'context','question'])\n",
        "df"
      ],
      "metadata": {
        "colab": {
          "base_uri": "https://localhost:8080/",
          "height": 468
        },
        "id": "ScxBYi-wf--O",
        "outputId": "08ce7fa9-24d6-4efe-cd8a-268c75256f3d"
      },
      "execution_count": 14,
      "outputs": [
        {
          "output_type": "execute_result",
          "data": {
            "text/plain": [
              "      news_categories                                id  \\\n",
              "0                  종합  798db07f0b9046759deed9d4a35ce31e   \n",
              "1                  종합  798db07f0b9046759deed9d4a35ce31e   \n",
              "2                  경제  67c85e4f86ae43939b807684537c909c   \n",
              "3                None  d2764543b0a84596942b34071541bed4   \n",
              "4                생활경제  435aa49b68e8414d8c5e4f8102782b81   \n",
              "...               ...                               ...   \n",
              "17658           문화/TV  43662d491d8e42b6a92255afd11e0634   \n",
              "17659           문화/TV  43662d491d8e42b6a92255afd11e0634   \n",
              "17660              테크  6e16e6a74b40457883771416d3522dc4   \n",
              "17661            생활경제  ea6f9861cab94491b1df195b75e29558   \n",
              "17662            생활경제  ea6f9861cab94491b1df195b75e29558   \n",
              "\n",
              "                                                 answers  \\\n",
              "0             {'answer_start': [478], 'text': ['한 달가량']}   \n",
              "1               {'answer_start': [478], 'text': ['한 달']}   \n",
              "2          {'answer_start': [1422], 'text': ['삼보테크놀로지']}   \n",
              "3          {'answer_start': [107], 'text': ['와쿠이 히데아키']}   \n",
              "4         {'answer_start': [408], 'text': ['‘교동반점 짬뽕’']}   \n",
              "...                                                  ...   \n",
              "17658  {'answer_start': [170], 'text': ['‘혹성탈출: 반격의 서...   \n",
              "17659  {'answer_start': [171], 'text': ['혹성탈출: 반격의 서막']}   \n",
              "17660        {'answer_start': [197], 'text': ['8시 10분']}   \n",
              "17661           {'answer_start': [276], 'text': ['28개']}   \n",
              "17662            {'answer_start': [276], 'text': ['28']}   \n",
              "\n",
              "                                                 context  \\\n",
              "0      올여름 장마가 17일 제주도에서 시작됐다. 서울 등 중부지방은 예년보다 사나흘 정도...   \n",
              "1      올여름 장마가 17일 제주도에서 시작됐다. 서울 등 중부지방은 예년보다 사나흘 정도...   \n",
              "2      부산시와 (재)부산정보산업진흥원(원장 이인숙)이 ‘2020~2021년 지역SW서비스...   \n",
              "3      시범 경기에서는 16이닝을 던져 15실점을 기록하는 등 성적이 좋지 않았지만 본인으...   \n",
              "4      유명 맛집 이름을 달고 나온 편의점 자체상표(PB) 라면이 인기를 끌고 있다. ‘검...   \n",
              "...                                                  ...   \n",
              "17658  유인원 무리의 리더 시저는 인간 건축가 말콤(제이슨 클락)에게 작별 인사를 한다. ...   \n",
              "17659  유인원 무리의 리더 시저는 인간 건축가 말콤(제이슨 클락)에게 작별 인사를 한다. ...   \n",
              "17660  ASUS(에이수스) 그래픽카드 공식수입사 인텍앤컴퍼니(대표 서정욱)는 10월 16일...   \n",
              "17661  한국인 최초로 쇼팽국제피아노콩쿠르에서 우승을 차지한 ‘21세 쇼팽’ 조성진 마케팅이...   \n",
              "17662  한국인 최초로 쇼팽국제피아노콩쿠르에서 우승을 차지한 ‘21세 쇼팽’ 조성진 마케팅이...   \n",
              "\n",
              "                                       question  \n",
              "0           북태평양 기단과 오호츠크해 기단이 만나 국내에 머무르는 기간은?  \n",
              "1           북태평양 기단과 오호츠크해 기단이 만나 국내에 머무르는 기간은?  \n",
              "2                   지능형 생산자동화 기반기술을 개발중인 스타트업은?  \n",
              "3                   개막전에서 3안타 2실점을 기록해서 패한 선수는?  \n",
              "4                       컵라면 매출에서 불닭볶음면을 이긴 상품은?  \n",
              "...                                         ...  \n",
              "17658                      혹성탈출의 두 번째 프리퀄의 제목은?  \n",
              "17659                      혹성탈출의 두 번째 프리퀄의 제목은?  \n",
              "17660               인택엔컴퍼니가 실시하는 추첨판매 신청 마감시간은?  \n",
              "17661  유니버셜뮤직과 협력하여 만든 메가기프트를 살 수 있는 업체의 매장 수는?  \n",
              "17662  유니버셜뮤직과 협력하여 만든 메가기프트를 살 수 있는 업체의 매장 수는?  \n",
              "\n",
              "[17663 rows x 5 columns]"
            ],
            "text/html": [
              "\n",
              "  <div id=\"df-3a103ebc-33cf-41a8-9d2d-a0a86400819e\">\n",
              "    <div class=\"colab-df-container\">\n",
              "      <div>\n",
              "<style scoped>\n",
              "    .dataframe tbody tr th:only-of-type {\n",
              "        vertical-align: middle;\n",
              "    }\n",
              "\n",
              "    .dataframe tbody tr th {\n",
              "        vertical-align: top;\n",
              "    }\n",
              "\n",
              "    .dataframe thead th {\n",
              "        text-align: right;\n",
              "    }\n",
              "</style>\n",
              "<table border=\"1\" class=\"dataframe\">\n",
              "  <thead>\n",
              "    <tr style=\"text-align: right;\">\n",
              "      <th></th>\n",
              "      <th>news_categories</th>\n",
              "      <th>id</th>\n",
              "      <th>answers</th>\n",
              "      <th>context</th>\n",
              "      <th>question</th>\n",
              "    </tr>\n",
              "  </thead>\n",
              "  <tbody>\n",
              "    <tr>\n",
              "      <th>0</th>\n",
              "      <td>종합</td>\n",
              "      <td>798db07f0b9046759deed9d4a35ce31e</td>\n",
              "      <td>{'answer_start': [478], 'text': ['한 달가량']}</td>\n",
              "      <td>올여름 장마가 17일 제주도에서 시작됐다. 서울 등 중부지방은 예년보다 사나흘 정도...</td>\n",
              "      <td>북태평양 기단과 오호츠크해 기단이 만나 국내에 머무르는 기간은?</td>\n",
              "    </tr>\n",
              "    <tr>\n",
              "      <th>1</th>\n",
              "      <td>종합</td>\n",
              "      <td>798db07f0b9046759deed9d4a35ce31e</td>\n",
              "      <td>{'answer_start': [478], 'text': ['한 달']}</td>\n",
              "      <td>올여름 장마가 17일 제주도에서 시작됐다. 서울 등 중부지방은 예년보다 사나흘 정도...</td>\n",
              "      <td>북태평양 기단과 오호츠크해 기단이 만나 국내에 머무르는 기간은?</td>\n",
              "    </tr>\n",
              "    <tr>\n",
              "      <th>2</th>\n",
              "      <td>경제</td>\n",
              "      <td>67c85e4f86ae43939b807684537c909c</td>\n",
              "      <td>{'answer_start': [1422], 'text': ['삼보테크놀로지']}</td>\n",
              "      <td>부산시와 (재)부산정보산업진흥원(원장 이인숙)이 ‘2020~2021년 지역SW서비스...</td>\n",
              "      <td>지능형 생산자동화 기반기술을 개발중인 스타트업은?</td>\n",
              "    </tr>\n",
              "    <tr>\n",
              "      <th>3</th>\n",
              "      <td>None</td>\n",
              "      <td>d2764543b0a84596942b34071541bed4</td>\n",
              "      <td>{'answer_start': [107], 'text': ['와쿠이 히데아키']}</td>\n",
              "      <td>시범 경기에서는 16이닝을 던져 15실점을 기록하는 등 성적이 좋지 않았지만 본인으...</td>\n",
              "      <td>개막전에서 3안타 2실점을 기록해서 패한 선수는?</td>\n",
              "    </tr>\n",
              "    <tr>\n",
              "      <th>4</th>\n",
              "      <td>생활경제</td>\n",
              "      <td>435aa49b68e8414d8c5e4f8102782b81</td>\n",
              "      <td>{'answer_start': [408], 'text': ['‘교동반점 짬뽕’']}</td>\n",
              "      <td>유명 맛집 이름을 달고 나온 편의점 자체상표(PB) 라면이 인기를 끌고 있다. ‘검...</td>\n",
              "      <td>컵라면 매출에서 불닭볶음면을 이긴 상품은?</td>\n",
              "    </tr>\n",
              "    <tr>\n",
              "      <th>...</th>\n",
              "      <td>...</td>\n",
              "      <td>...</td>\n",
              "      <td>...</td>\n",
              "      <td>...</td>\n",
              "      <td>...</td>\n",
              "    </tr>\n",
              "    <tr>\n",
              "      <th>17658</th>\n",
              "      <td>문화/TV</td>\n",
              "      <td>43662d491d8e42b6a92255afd11e0634</td>\n",
              "      <td>{'answer_start': [170], 'text': ['‘혹성탈출: 반격의 서...</td>\n",
              "      <td>유인원 무리의 리더 시저는 인간 건축가 말콤(제이슨 클락)에게 작별 인사를 한다. ...</td>\n",
              "      <td>혹성탈출의 두 번째 프리퀄의 제목은?</td>\n",
              "    </tr>\n",
              "    <tr>\n",
              "      <th>17659</th>\n",
              "      <td>문화/TV</td>\n",
              "      <td>43662d491d8e42b6a92255afd11e0634</td>\n",
              "      <td>{'answer_start': [171], 'text': ['혹성탈출: 반격의 서막']}</td>\n",
              "      <td>유인원 무리의 리더 시저는 인간 건축가 말콤(제이슨 클락)에게 작별 인사를 한다. ...</td>\n",
              "      <td>혹성탈출의 두 번째 프리퀄의 제목은?</td>\n",
              "    </tr>\n",
              "    <tr>\n",
              "      <th>17660</th>\n",
              "      <td>테크</td>\n",
              "      <td>6e16e6a74b40457883771416d3522dc4</td>\n",
              "      <td>{'answer_start': [197], 'text': ['8시 10분']}</td>\n",
              "      <td>ASUS(에이수스) 그래픽카드 공식수입사 인텍앤컴퍼니(대표 서정욱)는 10월 16일...</td>\n",
              "      <td>인택엔컴퍼니가 실시하는 추첨판매 신청 마감시간은?</td>\n",
              "    </tr>\n",
              "    <tr>\n",
              "      <th>17661</th>\n",
              "      <td>생활경제</td>\n",
              "      <td>ea6f9861cab94491b1df195b75e29558</td>\n",
              "      <td>{'answer_start': [276], 'text': ['28개']}</td>\n",
              "      <td>한국인 최초로 쇼팽국제피아노콩쿠르에서 우승을 차지한 ‘21세 쇼팽’ 조성진 마케팅이...</td>\n",
              "      <td>유니버셜뮤직과 협력하여 만든 메가기프트를 살 수 있는 업체의 매장 수는?</td>\n",
              "    </tr>\n",
              "    <tr>\n",
              "      <th>17662</th>\n",
              "      <td>생활경제</td>\n",
              "      <td>ea6f9861cab94491b1df195b75e29558</td>\n",
              "      <td>{'answer_start': [276], 'text': ['28']}</td>\n",
              "      <td>한국인 최초로 쇼팽국제피아노콩쿠르에서 우승을 차지한 ‘21세 쇼팽’ 조성진 마케팅이...</td>\n",
              "      <td>유니버셜뮤직과 협력하여 만든 메가기프트를 살 수 있는 업체의 매장 수는?</td>\n",
              "    </tr>\n",
              "  </tbody>\n",
              "</table>\n",
              "<p>17663 rows × 5 columns</p>\n",
              "</div>\n",
              "      <button class=\"colab-df-convert\" onclick=\"convertToInteractive('df-3a103ebc-33cf-41a8-9d2d-a0a86400819e')\"\n",
              "              title=\"Convert this dataframe to an interactive table.\"\n",
              "              style=\"display:none;\">\n",
              "        \n",
              "  <svg xmlns=\"http://www.w3.org/2000/svg\" height=\"24px\"viewBox=\"0 0 24 24\"\n",
              "       width=\"24px\">\n",
              "    <path d=\"M0 0h24v24H0V0z\" fill=\"none\"/>\n",
              "    <path d=\"M18.56 5.44l.94 2.06.94-2.06 2.06-.94-2.06-.94-.94-2.06-.94 2.06-2.06.94zm-11 1L8.5 8.5l.94-2.06 2.06-.94-2.06-.94L8.5 2.5l-.94 2.06-2.06.94zm10 10l.94 2.06.94-2.06 2.06-.94-2.06-.94-.94-2.06-.94 2.06-2.06.94z\"/><path d=\"M17.41 7.96l-1.37-1.37c-.4-.4-.92-.59-1.43-.59-.52 0-1.04.2-1.43.59L10.3 9.45l-7.72 7.72c-.78.78-.78 2.05 0 2.83L4 21.41c.39.39.9.59 1.41.59.51 0 1.02-.2 1.41-.59l7.78-7.78 2.81-2.81c.8-.78.8-2.07 0-2.86zM5.41 20L4 18.59l7.72-7.72 1.47 1.35L5.41 20z\"/>\n",
              "  </svg>\n",
              "      </button>\n",
              "      \n",
              "  <style>\n",
              "    .colab-df-container {\n",
              "      display:flex;\n",
              "      flex-wrap:wrap;\n",
              "      gap: 12px;\n",
              "    }\n",
              "\n",
              "    .colab-df-convert {\n",
              "      background-color: #E8F0FE;\n",
              "      border: none;\n",
              "      border-radius: 50%;\n",
              "      cursor: pointer;\n",
              "      display: none;\n",
              "      fill: #1967D2;\n",
              "      height: 32px;\n",
              "      padding: 0 0 0 0;\n",
              "      width: 32px;\n",
              "    }\n",
              "\n",
              "    .colab-df-convert:hover {\n",
              "      background-color: #E2EBFA;\n",
              "      box-shadow: 0px 1px 2px rgba(60, 64, 67, 0.3), 0px 1px 3px 1px rgba(60, 64, 67, 0.15);\n",
              "      fill: #174EA6;\n",
              "    }\n",
              "\n",
              "    [theme=dark] .colab-df-convert {\n",
              "      background-color: #3B4455;\n",
              "      fill: #D2E3FC;\n",
              "    }\n",
              "\n",
              "    [theme=dark] .colab-df-convert:hover {\n",
              "      background-color: #434B5C;\n",
              "      box-shadow: 0px 1px 3px 1px rgba(0, 0, 0, 0.15);\n",
              "      filter: drop-shadow(0px 1px 2px rgba(0, 0, 0, 0.3));\n",
              "      fill: #FFFFFF;\n",
              "    }\n",
              "  </style>\n",
              "\n",
              "      <script>\n",
              "        const buttonEl =\n",
              "          document.querySelector('#df-3a103ebc-33cf-41a8-9d2d-a0a86400819e button.colab-df-convert');\n",
              "        buttonEl.style.display =\n",
              "          google.colab.kernel.accessAllowed ? 'block' : 'none';\n",
              "\n",
              "        async function convertToInteractive(key) {\n",
              "          const element = document.querySelector('#df-3a103ebc-33cf-41a8-9d2d-a0a86400819e');\n",
              "          const dataTable =\n",
              "            await google.colab.kernel.invokeFunction('convertToInteractive',\n",
              "                                                     [key], {});\n",
              "          if (!dataTable) return;\n",
              "\n",
              "          const docLinkHtml = 'Like what you see? Visit the ' +\n",
              "            '<a target=\"_blank\" href=https://colab.research.google.com/notebooks/data_table.ipynb>data table notebook</a>'\n",
              "            + ' to learn more about interactive tables.';\n",
              "          element.innerHTML = '';\n",
              "          dataTable['output_type'] = 'display_data';\n",
              "          await google.colab.output.renderOutput(dataTable, element);\n",
              "          const docLink = document.createElement('div');\n",
              "          docLink.innerHTML = docLinkHtml;\n",
              "          element.appendChild(docLink);\n",
              "        }\n",
              "      </script>\n",
              "    </div>\n",
              "  </div>\n",
              "  "
            ]
          },
          "metadata": {},
          "execution_count": 14
        }
      ]
    },
    {
      "cell_type": "code",
      "source": [
        "df = (\n",
        "    df.assign(answer_length=df['answers'].map(lambda x: len(x['text'][0])))\n",
        "    .sort_values('answer_length')\n",
        "    .drop_duplicates(subset=['id'], keep=\"first\")\n",
        ").drop('answer_length', axis=1).sort_index().reset_index(drop=True)\n",
        "df"
      ],
      "metadata": {
        "colab": {
          "base_uri": "https://localhost:8080/",
          "height": 520
        },
        "id": "OGWCyJ4hhz7M",
        "outputId": "3e4bb70a-1c7c-4e83-deeb-817f1e48c6e8"
      },
      "execution_count": 15,
      "outputs": [
        {
          "output_type": "execute_result",
          "data": {
            "text/plain": [
              "      news_categories                                id  \\\n",
              "0                  종합  798db07f0b9046759deed9d4a35ce31e   \n",
              "1                  경제  67c85e4f86ae43939b807684537c909c   \n",
              "2                None  d2764543b0a84596942b34071541bed4   \n",
              "3                생활경제  435aa49b68e8414d8c5e4f8102782b81   \n",
              "4                생활경제  4fa200ce1e3a4a279c43c1de40fb27b3   \n",
              "...               ...                               ...   \n",
              "12032           중기 의료  b04093b7ee9449d98215c467526cecac   \n",
              "12033              산업  ab75ad70e2804f5abeafebdd23a0deaa   \n",
              "12034           문화/TV  43662d491d8e42b6a92255afd11e0634   \n",
              "12035              테크  6e16e6a74b40457883771416d3522dc4   \n",
              "12036            생활경제  ea6f9861cab94491b1df195b75e29558   \n",
              "\n",
              "                                                 answers  \\\n",
              "0               {'answer_start': [478], 'text': ['한 달']}   \n",
              "1          {'answer_start': [1422], 'text': ['삼보테크놀로지']}   \n",
              "2          {'answer_start': [107], 'text': ['와쿠이 히데아키']}   \n",
              "3           {'answer_start': [409], 'text': ['교동반점 짬뽕']}   \n",
              "4             {'answer_start': [617], 'text': ['불닭볶음면']}   \n",
              "...                                                  ...   \n",
              "12032     {'answer_start': [229], 'text': ['전문 경영인 체제']}   \n",
              "12033     {'answer_start': [134], 'text': ['롯데백화점 잠실점']}   \n",
              "12034  {'answer_start': [171], 'text': ['혹성탈출: 반격의 서막']}   \n",
              "12035        {'answer_start': [197], 'text': ['8시 10분']}   \n",
              "12036            {'answer_start': [276], 'text': ['28']}   \n",
              "\n",
              "                                                 context  \\\n",
              "0      올여름 장마가 17일 제주도에서 시작됐다. 서울 등 중부지방은 예년보다 사나흘 정도...   \n",
              "1      부산시와 (재)부산정보산업진흥원(원장 이인숙)이 ‘2020~2021년 지역SW서비스...   \n",
              "2      시범 경기에서는 16이닝을 던져 15실점을 기록하는 등 성적이 좋지 않았지만 본인으...   \n",
              "3      유명 맛집 이름을 달고 나온 편의점 자체상표(PB) 라면이 인기를 끌고 있다. ‘검...   \n",
              "4      유명 맛집 이름을 달고 나온 편의점 자체상표(PB) 라면이 인기를 끌고 있다. ‘검...   \n",
              "...                                                  ...   \n",
              "12032  “오너 경영은 중견기업이 글로벌 전문기업이나 대기업으로 성장하는 밑거름이 될 것입니...   \n",
              "12033  홈 뷰티 디바이스 브랜드 ‘엘리닉(L.linic)’이 고객 감사의 달을 맞아 전국 ...   \n",
              "12034  유인원 무리의 리더 시저는 인간 건축가 말콤(제이슨 클락)에게 작별 인사를 한다. ...   \n",
              "12035  ASUS(에이수스) 그래픽카드 공식수입사 인텍앤컴퍼니(대표 서정욱)는 10월 16일...   \n",
              "12036  한국인 최초로 쇼팽국제피아노콩쿠르에서 우승을 차지한 ‘21세 쇼팽’ 조성진 마케팅이...   \n",
              "\n",
              "                                       question  \n",
              "0           북태평양 기단과 오호츠크해 기단이 만나 국내에 머무르는 기간은?  \n",
              "1                   지능형 생산자동화 기반기술을 개발중인 스타트업은?  \n",
              "2                   개막전에서 3안타 2실점을 기록해서 패한 선수는?  \n",
              "3                       컵라면 매출에서 불닭볶음면을 이긴 상품은?  \n",
              "4                 재작년 세븐일레븐 컵라면 중 제일 많이 팔린 제품은?  \n",
              "...                                         ...  \n",
              "12032                이동기 학회장은 오너 경영을 무엇과 비교했는가?  \n",
              "12033          팝업스토어 앵콜 행사를 가장 먼저 시작하는 곳은 어디인가?  \n",
              "12034                      혹성탈출의 두 번째 프리퀄의 제목은?  \n",
              "12035               인택엔컴퍼니가 실시하는 추첨판매 신청 마감시간은?  \n",
              "12036  유니버셜뮤직과 협력하여 만든 메가기프트를 살 수 있는 업체의 매장 수는?  \n",
              "\n",
              "[12037 rows x 5 columns]"
            ],
            "text/html": [
              "\n",
              "  <div id=\"df-ab38f717-6d46-479f-9748-3c6644576de6\">\n",
              "    <div class=\"colab-df-container\">\n",
              "      <div>\n",
              "<style scoped>\n",
              "    .dataframe tbody tr th:only-of-type {\n",
              "        vertical-align: middle;\n",
              "    }\n",
              "\n",
              "    .dataframe tbody tr th {\n",
              "        vertical-align: top;\n",
              "    }\n",
              "\n",
              "    .dataframe thead th {\n",
              "        text-align: right;\n",
              "    }\n",
              "</style>\n",
              "<table border=\"1\" class=\"dataframe\">\n",
              "  <thead>\n",
              "    <tr style=\"text-align: right;\">\n",
              "      <th></th>\n",
              "      <th>news_categories</th>\n",
              "      <th>id</th>\n",
              "      <th>answers</th>\n",
              "      <th>context</th>\n",
              "      <th>question</th>\n",
              "    </tr>\n",
              "  </thead>\n",
              "  <tbody>\n",
              "    <tr>\n",
              "      <th>0</th>\n",
              "      <td>종합</td>\n",
              "      <td>798db07f0b9046759deed9d4a35ce31e</td>\n",
              "      <td>{'answer_start': [478], 'text': ['한 달']}</td>\n",
              "      <td>올여름 장마가 17일 제주도에서 시작됐다. 서울 등 중부지방은 예년보다 사나흘 정도...</td>\n",
              "      <td>북태평양 기단과 오호츠크해 기단이 만나 국내에 머무르는 기간은?</td>\n",
              "    </tr>\n",
              "    <tr>\n",
              "      <th>1</th>\n",
              "      <td>경제</td>\n",
              "      <td>67c85e4f86ae43939b807684537c909c</td>\n",
              "      <td>{'answer_start': [1422], 'text': ['삼보테크놀로지']}</td>\n",
              "      <td>부산시와 (재)부산정보산업진흥원(원장 이인숙)이 ‘2020~2021년 지역SW서비스...</td>\n",
              "      <td>지능형 생산자동화 기반기술을 개발중인 스타트업은?</td>\n",
              "    </tr>\n",
              "    <tr>\n",
              "      <th>2</th>\n",
              "      <td>None</td>\n",
              "      <td>d2764543b0a84596942b34071541bed4</td>\n",
              "      <td>{'answer_start': [107], 'text': ['와쿠이 히데아키']}</td>\n",
              "      <td>시범 경기에서는 16이닝을 던져 15실점을 기록하는 등 성적이 좋지 않았지만 본인으...</td>\n",
              "      <td>개막전에서 3안타 2실점을 기록해서 패한 선수는?</td>\n",
              "    </tr>\n",
              "    <tr>\n",
              "      <th>3</th>\n",
              "      <td>생활경제</td>\n",
              "      <td>435aa49b68e8414d8c5e4f8102782b81</td>\n",
              "      <td>{'answer_start': [409], 'text': ['교동반점 짬뽕']}</td>\n",
              "      <td>유명 맛집 이름을 달고 나온 편의점 자체상표(PB) 라면이 인기를 끌고 있다. ‘검...</td>\n",
              "      <td>컵라면 매출에서 불닭볶음면을 이긴 상품은?</td>\n",
              "    </tr>\n",
              "    <tr>\n",
              "      <th>4</th>\n",
              "      <td>생활경제</td>\n",
              "      <td>4fa200ce1e3a4a279c43c1de40fb27b3</td>\n",
              "      <td>{'answer_start': [617], 'text': ['불닭볶음면']}</td>\n",
              "      <td>유명 맛집 이름을 달고 나온 편의점 자체상표(PB) 라면이 인기를 끌고 있다. ‘검...</td>\n",
              "      <td>재작년 세븐일레븐 컵라면 중 제일 많이 팔린 제품은?</td>\n",
              "    </tr>\n",
              "    <tr>\n",
              "      <th>...</th>\n",
              "      <td>...</td>\n",
              "      <td>...</td>\n",
              "      <td>...</td>\n",
              "      <td>...</td>\n",
              "      <td>...</td>\n",
              "    </tr>\n",
              "    <tr>\n",
              "      <th>12032</th>\n",
              "      <td>중기 의료</td>\n",
              "      <td>b04093b7ee9449d98215c467526cecac</td>\n",
              "      <td>{'answer_start': [229], 'text': ['전문 경영인 체제']}</td>\n",
              "      <td>“오너 경영은 중견기업이 글로벌 전문기업이나 대기업으로 성장하는 밑거름이 될 것입니...</td>\n",
              "      <td>이동기 학회장은 오너 경영을 무엇과 비교했는가?</td>\n",
              "    </tr>\n",
              "    <tr>\n",
              "      <th>12033</th>\n",
              "      <td>산업</td>\n",
              "      <td>ab75ad70e2804f5abeafebdd23a0deaa</td>\n",
              "      <td>{'answer_start': [134], 'text': ['롯데백화점 잠실점']}</td>\n",
              "      <td>홈 뷰티 디바이스 브랜드 ‘엘리닉(L.linic)’이 고객 감사의 달을 맞아 전국 ...</td>\n",
              "      <td>팝업스토어 앵콜 행사를 가장 먼저 시작하는 곳은 어디인가?</td>\n",
              "    </tr>\n",
              "    <tr>\n",
              "      <th>12034</th>\n",
              "      <td>문화/TV</td>\n",
              "      <td>43662d491d8e42b6a92255afd11e0634</td>\n",
              "      <td>{'answer_start': [171], 'text': ['혹성탈출: 반격의 서막']}</td>\n",
              "      <td>유인원 무리의 리더 시저는 인간 건축가 말콤(제이슨 클락)에게 작별 인사를 한다. ...</td>\n",
              "      <td>혹성탈출의 두 번째 프리퀄의 제목은?</td>\n",
              "    </tr>\n",
              "    <tr>\n",
              "      <th>12035</th>\n",
              "      <td>테크</td>\n",
              "      <td>6e16e6a74b40457883771416d3522dc4</td>\n",
              "      <td>{'answer_start': [197], 'text': ['8시 10분']}</td>\n",
              "      <td>ASUS(에이수스) 그래픽카드 공식수입사 인텍앤컴퍼니(대표 서정욱)는 10월 16일...</td>\n",
              "      <td>인택엔컴퍼니가 실시하는 추첨판매 신청 마감시간은?</td>\n",
              "    </tr>\n",
              "    <tr>\n",
              "      <th>12036</th>\n",
              "      <td>생활경제</td>\n",
              "      <td>ea6f9861cab94491b1df195b75e29558</td>\n",
              "      <td>{'answer_start': [276], 'text': ['28']}</td>\n",
              "      <td>한국인 최초로 쇼팽국제피아노콩쿠르에서 우승을 차지한 ‘21세 쇼팽’ 조성진 마케팅이...</td>\n",
              "      <td>유니버셜뮤직과 협력하여 만든 메가기프트를 살 수 있는 업체의 매장 수는?</td>\n",
              "    </tr>\n",
              "  </tbody>\n",
              "</table>\n",
              "<p>12037 rows × 5 columns</p>\n",
              "</div>\n",
              "      <button class=\"colab-df-convert\" onclick=\"convertToInteractive('df-ab38f717-6d46-479f-9748-3c6644576de6')\"\n",
              "              title=\"Convert this dataframe to an interactive table.\"\n",
              "              style=\"display:none;\">\n",
              "        \n",
              "  <svg xmlns=\"http://www.w3.org/2000/svg\" height=\"24px\"viewBox=\"0 0 24 24\"\n",
              "       width=\"24px\">\n",
              "    <path d=\"M0 0h24v24H0V0z\" fill=\"none\"/>\n",
              "    <path d=\"M18.56 5.44l.94 2.06.94-2.06 2.06-.94-2.06-.94-.94-2.06-.94 2.06-2.06.94zm-11 1L8.5 8.5l.94-2.06 2.06-.94-2.06-.94L8.5 2.5l-.94 2.06-2.06.94zm10 10l.94 2.06.94-2.06 2.06-.94-2.06-.94-.94-2.06-.94 2.06-2.06.94z\"/><path d=\"M17.41 7.96l-1.37-1.37c-.4-.4-.92-.59-1.43-.59-.52 0-1.04.2-1.43.59L10.3 9.45l-7.72 7.72c-.78.78-.78 2.05 0 2.83L4 21.41c.39.39.9.59 1.41.59.51 0 1.02-.2 1.41-.59l7.78-7.78 2.81-2.81c.8-.78.8-2.07 0-2.86zM5.41 20L4 18.59l7.72-7.72 1.47 1.35L5.41 20z\"/>\n",
              "  </svg>\n",
              "      </button>\n",
              "      \n",
              "  <style>\n",
              "    .colab-df-container {\n",
              "      display:flex;\n",
              "      flex-wrap:wrap;\n",
              "      gap: 12px;\n",
              "    }\n",
              "\n",
              "    .colab-df-convert {\n",
              "      background-color: #E8F0FE;\n",
              "      border: none;\n",
              "      border-radius: 50%;\n",
              "      cursor: pointer;\n",
              "      display: none;\n",
              "      fill: #1967D2;\n",
              "      height: 32px;\n",
              "      padding: 0 0 0 0;\n",
              "      width: 32px;\n",
              "    }\n",
              "\n",
              "    .colab-df-convert:hover {\n",
              "      background-color: #E2EBFA;\n",
              "      box-shadow: 0px 1px 2px rgba(60, 64, 67, 0.3), 0px 1px 3px 1px rgba(60, 64, 67, 0.15);\n",
              "      fill: #174EA6;\n",
              "    }\n",
              "\n",
              "    [theme=dark] .colab-df-convert {\n",
              "      background-color: #3B4455;\n",
              "      fill: #D2E3FC;\n",
              "    }\n",
              "\n",
              "    [theme=dark] .colab-df-convert:hover {\n",
              "      background-color: #434B5C;\n",
              "      box-shadow: 0px 1px 3px 1px rgba(0, 0, 0, 0.15);\n",
              "      filter: drop-shadow(0px 1px 2px rgba(0, 0, 0, 0.3));\n",
              "      fill: #FFFFFF;\n",
              "    }\n",
              "  </style>\n",
              "\n",
              "      <script>\n",
              "        const buttonEl =\n",
              "          document.querySelector('#df-ab38f717-6d46-479f-9748-3c6644576de6 button.colab-df-convert');\n",
              "        buttonEl.style.display =\n",
              "          google.colab.kernel.accessAllowed ? 'block' : 'none';\n",
              "\n",
              "        async function convertToInteractive(key) {\n",
              "          const element = document.querySelector('#df-ab38f717-6d46-479f-9748-3c6644576de6');\n",
              "          const dataTable =\n",
              "            await google.colab.kernel.invokeFunction('convertToInteractive',\n",
              "                                                     [key], {});\n",
              "          if (!dataTable) return;\n",
              "\n",
              "          const docLinkHtml = 'Like what you see? Visit the ' +\n",
              "            '<a target=\"_blank\" href=https://colab.research.google.com/notebooks/data_table.ipynb>data table notebook</a>'\n",
              "            + ' to learn more about interactive tables.';\n",
              "          element.innerHTML = '';\n",
              "          dataTable['output_type'] = 'display_data';\n",
              "          await google.colab.output.renderOutput(dataTable, element);\n",
              "          const docLink = document.createElement('div');\n",
              "          docLink.innerHTML = docLinkHtml;\n",
              "          element.appendChild(docLink);\n",
              "        }\n",
              "      </script>\n",
              "    </div>\n",
              "  </div>\n",
              "  "
            ]
          },
          "metadata": {},
          "execution_count": 15
        }
      ]
    },
    {
      "cell_type": "code",
      "source": [
        "def draw_pie(df):\n",
        "    ratio = df['news_categories'].value_counts().values.tolist()\n",
        "    labels = df['news_categories'].value_counts().index.tolist()\n",
        "\n",
        "    plt.figure(figsize=(15, 15))\n",
        "    plt.rc('font', family='NanumBarunGothic') \n",
        "    plt.pie(ratio, labels=labels, autopct='%.1f%%')\n",
        "    plt.show()"
      ],
      "metadata": {
        "id": "UAqjPuOEiScz"
      },
      "execution_count": 16,
      "outputs": []
    },
    {
      "cell_type": "code",
      "source": [
        "draw_pie(df)"
      ],
      "metadata": {
        "colab": {
          "base_uri": "https://localhost:8080/",
          "height": 846
        },
        "id": "pgEEHctjmK2a",
        "outputId": "022596d2-d4d4-4980-a773-6bf298ea31d6"
      },
      "execution_count": 17,
      "outputs": [
        {
          "output_type": "display_data",
          "data": {
            "text/plain": [
              "<Figure size 1080x1080 with 1 Axes>"
            ],
            "image/png": "[encoded data removed]"
          },
          "metadata": {}
        }
      ]
    },
    {
      "cell_type": "code",
      "source": [
        "weight = df['answers'].map(lambda x: len(x['text'][0]))\n",
        "\n",
        "print(weight.describe())\n",
        "\n",
        "plt.hist(weight, bins=len(set(weight)), histtype='bar')\n",
        "plt.xlabel('length of answer')\n",
        "plt.show()\n",
        "\n",
        "q3 = weight.quantile(0.75)\n",
        "q1 = weight.quantile(0.25)\n",
        "iqr = q3 - q1\n",
        "\n",
        "print(q3 + 1.5 * iqr)"
      ],
      "metadata": {
        "colab": {
          "base_uri": "https://localhost:8080/",
          "height": 454
        },
        "id": "XvsHOVL42RPr",
        "outputId": "5a80e94f-d182-4374-f251-f06b1a9388d8"
      },
      "execution_count": 18,
      "outputs": [
        {
          "output_type": "stream",
          "name": "stdout",
          "text": [
            "count    12037.000000\n",
            "mean         4.774113\n",
            "std          3.738334\n",
            "min          1.000000\n",
            "25%          3.000000\n",
            "50%          4.000000\n",
            "75%          6.000000\n",
            "max         81.000000\n",
            "Name: answers, dtype: float64\n"
          ]
        },
        {
          "output_type": "display_data",
          "data": {
            "text/plain": [
              "<Figure size 432x288 with 1 Axes>"
            ],
            "image/png": "[encoded data removed]"
          },
          "metadata": {
            "needs_background": "light"
          }
        },
        {
          "output_type": "stream",
          "name": "stdout",
          "text": [
            "10.5\n"
          ]
        }
      ]
    },
    {
      "cell_type": "markdown",
      "source": [
        "### AI-Hub 뉴스 기사 기계독해 데이터\n",
        "\n",
        "- [뉴스 기사 기계독해 데이터](https://aihub.or.kr/aihubdata/data/view.do?currMenu=115&topMenu=100&aihubDataSe=realm&dataSetSn=577)"
      ],
      "metadata": {
        "id": "eYgeCyZ5LSFK"
      }
    },
    {
      "cell_type": "code",
      "source": [
        "def read_news(path):\n",
        "    path = Path(path)\n",
        "    with open(path, 'rb') as f:\n",
        "        data = json.load(f)\n",
        "\n",
        "    news_categories = []\n",
        "    guids = []\n",
        "    contexts = []\n",
        "    questions = []\n",
        "    answers = []\n",
        "    for group in data['data']:\n",
        "        news_category = group['doc_class']['code']\n",
        "        for passage in group['paragraphs']:\n",
        "            context = passage['context']\n",
        "            for qa in passage['qas']:\n",
        "                news_categories.append(news_category)\n",
        "                guids.append(qa[\"question_id\"])\n",
        "                contexts.append(context)\n",
        "                questions.append(qa['question'])\n",
        "                answers.append({\"answer_start\": [qa['answers']['answer_start']], \"text\": [qa['answers']['text']]})\n",
        "                \n",
        "    return news_categories, guids, contexts, questions, answers"
      ],
      "metadata": {
        "id": "Kini23kOXzIs"
      },
      "execution_count": 19,
      "outputs": []
    },
    {
      "cell_type": "code",
      "source": [
        "file_path = 'input/TL_span_extraction.json'\n",
        "\n",
        "news_categories, guids, contexts, questions, answers = read_news(file_path)\n",
        "\n",
        "news_df = pd.DataFrame(\n",
        "    list(zip(news_categories, guids , answers, contexts, questions)),\n",
        "    columns =['news_categories', 'id', 'answers', 'context', 'question'])\n",
        "news_df"
      ],
      "metadata": {
        "colab": {
          "base_uri": "https://localhost:8080/",
          "height": 424
        },
        "id": "fn8thieiZsxF",
        "outputId": "84bab9bf-c8f1-4358-8957-e047a58a8719"
      },
      "execution_count": 20,
      "outputs": [
        {
          "output_type": "execute_result",
          "data": {
            "text/plain": [
              "       news_categories       id  \\\n",
              "0                  스포츠  4559297   \n",
              "1                  스포츠  4690367   \n",
              "2                   지역  4559299   \n",
              "3                   지역  4690369   \n",
              "4                   문화  4559300   \n",
              "...                ...      ...   \n",
              "223931              기타  4961427   \n",
              "223932              기타  4830355   \n",
              "223933              기타  4961425   \n",
              "223934              기타  4830354   \n",
              "223935              기타  4961424   \n",
              "\n",
              "                                                answers  \\\n",
              "0       {'answer_start': [4], 'text': ['서부권역 다목적 체육관']}   \n",
              "1       {'answer_start': [4], 'text': ['서부권역 다목적 체육관']}   \n",
              "2             {'answer_start': [104], 'text': ['총 5회']}   \n",
              "3             {'answer_start': [104], 'text': ['총 5회']}   \n",
              "4            {'answer_start': [713], 'text': ['악동뮤지션']}   \n",
              "...                                                 ...   \n",
              "223931          {'answer_start': [68], 'text': ['여수시']}   \n",
              "223932         {'answer_start': [580], 'text': ['하철경']}   \n",
              "223933         {'answer_start': [580], 'text': ['하철경']}   \n",
              "223934          {'answer_start': [202], 'text': ['6명']}   \n",
              "223935          {'answer_start': [202], 'text': ['6명']}   \n",
              "\n",
              "                                                  context  \\\n",
              "0       익산시 서부권역 다목적 체육관이 내달 개관을 앞두고 막바지 개관 준비가 한창이다. ...   \n",
              "1       익산시 서부권역 다목적 체육관이 내달 개관을 앞두고 막바지 개관 준비가 한창이다. ...   \n",
              "2       무주군건강가정ㆍ다문화가족지원센터(센터장 장진원)가 아버지와 자녀를 대상으로 ‘아빠하...   \n",
              "3       무주군건강가정ㆍ다문화가족지원센터(센터장 장진원)가 아버지와 자녀를 대상으로 ‘아빠하...   \n",
              "4       양희은의 노래 <엄마가 딸에게>는 엄마와 딸이 차마 말하지 못하는 속마음을 서로에게...   \n",
              "...                                                   ...   \n",
              "223931  권오봉 여수시장이 지난 6일 자산공원 현충탑에서 개최된 제66회 현충일 추념식에서 ...   \n",
              "223932  임농 하철경 화백(61)은 한국화를 현대적 점묘화법 형태로 선보이는 작업으로 알려져...   \n",
              "223933  임농 하철경 화백(61)은 한국화를 현대적 점묘화법 형태로 선보이는 작업으로 알려져...   \n",
              "223934  광주대학교(총장 김혁종)는 지난 9일 학교 행정관 회의실에서 장기근속자 공로패 수여...   \n",
              "223935  광주대학교(총장 김혁종)는 지난 9일 학교 행정관 회의실에서 장기근속자 공로패 수여...   \n",
              "\n",
              "                                         question  \n",
              "0              익산시에서 시민들의 건강을 위해 운영을 준비 중인 시설은 뭐야  \n",
              "1                 거주민들의 건강을 위하여 익산지역은 어떤 걸 만들고 있어  \n",
              "2           무주군에서 진행되는 부자 부녀 대상 행사 횟수는 전부 몇 번이나 돼  \n",
              "3                   전체 몇 번의 부자 부녀 대상 활동을 무주군이 실시해  \n",
              "4       가수 양희은의 콜라보 프로젝트 중 여덟 번째 곡 나무는 어떤 후배와 불렀지  \n",
              "...                                           ...  \n",
              "223931                   어느 지역에서 현충탑을 새롭게 만들기로 했어  \n",
              "223932           전통수묵화의 거장으로 진도에 미술품을 기증한 사람은 누구야  \n",
              "223933               전통수묵화의 거장으로 진도에 미술품을 누가 기증했어  \n",
              "223934             광주대학교로부터 공로패를 전달받게 된 교원은 몇 명이야  \n",
              "223935         광주대학교로부터 얼마나 되는 교원이 공로패를 전달받게 된 거야  \n",
              "\n",
              "[223936 rows x 5 columns]"
            ],
            "text/html": [
              "\n",
              "  <div id=\"df-e3263338-db41-4b61-b879-705206b9b4ce\">\n",
              "    <div class=\"colab-df-container\">\n",
              "      <div>\n",
              "<style scoped>\n",
              "    .dataframe tbody tr th:only-of-type {\n",
              "        vertical-align: middle;\n",
              "    }\n",
              "\n",
              "    .dataframe tbody tr th {\n",
              "        vertical-align: top;\n",
              "    }\n",
              "\n",
              "    .dataframe thead th {\n",
              "        text-align: right;\n",
              "    }\n",
              "</style>\n",
              "<table border=\"1\" class=\"dataframe\">\n",
              "  <thead>\n",
              "    <tr style=\"text-align: right;\">\n",
              "      <th></th>\n",
              "      <th>news_categories</th>\n",
              "      <th>id</th>\n",
              "      <th>answers</th>\n",
              "      <th>context</th>\n",
              "      <th>question</th>\n",
              "    </tr>\n",
              "  </thead>\n",
              "  <tbody>\n",
              "    <tr>\n",
              "      <th>0</th>\n",
              "      <td>스포츠</td>\n",
              "      <td>4559297</td>\n",
              "      <td>{'answer_start': [4], 'text': ['서부권역 다목적 체육관']}</td>\n",
              "      <td>익산시 서부권역 다목적 체육관이 내달 개관을 앞두고 막바지 개관 준비가 한창이다. ...</td>\n",
              "      <td>익산시에서 시민들의 건강을 위해 운영을 준비 중인 시설은 뭐야</td>\n",
              "    </tr>\n",
              "    <tr>\n",
              "      <th>1</th>\n",
              "      <td>스포츠</td>\n",
              "      <td>4690367</td>\n",
              "      <td>{'answer_start': [4], 'text': ['서부권역 다목적 체육관']}</td>\n",
              "      <td>익산시 서부권역 다목적 체육관이 내달 개관을 앞두고 막바지 개관 준비가 한창이다. ...</td>\n",
              "      <td>거주민들의 건강을 위하여 익산지역은 어떤 걸 만들고 있어</td>\n",
              "    </tr>\n",
              "    <tr>\n",
              "      <th>2</th>\n",
              "      <td>지역</td>\n",
              "      <td>4559299</td>\n",
              "      <td>{'answer_start': [104], 'text': ['총 5회']}</td>\n",
              "      <td>무주군건강가정ㆍ다문화가족지원센터(센터장 장진원)가 아버지와 자녀를 대상으로 ‘아빠하...</td>\n",
              "      <td>무주군에서 진행되는 부자 부녀 대상 행사 횟수는 전부 몇 번이나 돼</td>\n",
              "    </tr>\n",
              "    <tr>\n",
              "      <th>3</th>\n",
              "      <td>지역</td>\n",
              "      <td>4690369</td>\n",
              "      <td>{'answer_start': [104], 'text': ['총 5회']}</td>\n",
              "      <td>무주군건강가정ㆍ다문화가족지원센터(센터장 장진원)가 아버지와 자녀를 대상으로 ‘아빠하...</td>\n",
              "      <td>전체 몇 번의 부자 부녀 대상 활동을 무주군이 실시해</td>\n",
              "    </tr>\n",
              "    <tr>\n",
              "      <th>4</th>\n",
              "      <td>문화</td>\n",
              "      <td>4559300</td>\n",
              "      <td>{'answer_start': [713], 'text': ['악동뮤지션']}</td>\n",
              "      <td>양희은의 노래 &lt;엄마가 딸에게&gt;는 엄마와 딸이 차마 말하지 못하는 속마음을 서로에게...</td>\n",
              "      <td>가수 양희은의 콜라보 프로젝트 중 여덟 번째 곡 나무는 어떤 후배와 불렀지</td>\n",
              "    </tr>\n",
              "    <tr>\n",
              "      <th>...</th>\n",
              "      <td>...</td>\n",
              "      <td>...</td>\n",
              "      <td>...</td>\n",
              "      <td>...</td>\n",
              "      <td>...</td>\n",
              "    </tr>\n",
              "    <tr>\n",
              "      <th>223931</th>\n",
              "      <td>기타</td>\n",
              "      <td>4961427</td>\n",
              "      <td>{'answer_start': [68], 'text': ['여수시']}</td>\n",
              "      <td>권오봉 여수시장이 지난 6일 자산공원 현충탑에서 개최된 제66회 현충일 추념식에서 ...</td>\n",
              "      <td>어느 지역에서 현충탑을 새롭게 만들기로 했어</td>\n",
              "    </tr>\n",
              "    <tr>\n",
              "      <th>223932</th>\n",
              "      <td>기타</td>\n",
              "      <td>4830355</td>\n",
              "      <td>{'answer_start': [580], 'text': ['하철경']}</td>\n",
              "      <td>임농 하철경 화백(61)은 한국화를 현대적 점묘화법 형태로 선보이는 작업으로 알려져...</td>\n",
              "      <td>전통수묵화의 거장으로 진도에 미술품을 기증한 사람은 누구야</td>\n",
              "    </tr>\n",
              "    <tr>\n",
              "      <th>223933</th>\n",
              "      <td>기타</td>\n",
              "      <td>4961425</td>\n",
              "      <td>{'answer_start': [580], 'text': ['하철경']}</td>\n",
              "      <td>임농 하철경 화백(61)은 한국화를 현대적 점묘화법 형태로 선보이는 작업으로 알려져...</td>\n",
              "      <td>전통수묵화의 거장으로 진도에 미술품을 누가 기증했어</td>\n",
              "    </tr>\n",
              "    <tr>\n",
              "      <th>223934</th>\n",
              "      <td>기타</td>\n",
              "      <td>4830354</td>\n",
              "      <td>{'answer_start': [202], 'text': ['6명']}</td>\n",
              "      <td>광주대학교(총장 김혁종)는 지난 9일 학교 행정관 회의실에서 장기근속자 공로패 수여...</td>\n",
              "      <td>광주대학교로부터 공로패를 전달받게 된 교원은 몇 명이야</td>\n",
              "    </tr>\n",
              "    <tr>\n",
              "      <th>223935</th>\n",
              "      <td>기타</td>\n",
              "      <td>4961424</td>\n",
              "      <td>{'answer_start': [202], 'text': ['6명']}</td>\n",
              "      <td>광주대학교(총장 김혁종)는 지난 9일 학교 행정관 회의실에서 장기근속자 공로패 수여...</td>\n",
              "      <td>광주대학교로부터 얼마나 되는 교원이 공로패를 전달받게 된 거야</td>\n",
              "    </tr>\n",
              "  </tbody>\n",
              "</table>\n",
              "<p>223936 rows × 5 columns</p>\n",
              "</div>\n",
              "      <button class=\"colab-df-convert\" onclick=\"convertToInteractive('df-e3263338-db41-4b61-b879-705206b9b4ce')\"\n",
              "              title=\"Convert this dataframe to an interactive table.\"\n",
              "              style=\"display:none;\">\n",
              "        \n",
              "  <svg xmlns=\"http://www.w3.org/2000/svg\" height=\"24px\"viewBox=\"0 0 24 24\"\n",
              "       width=\"24px\">\n",
              "    <path d=\"M0 0h24v24H0V0z\" fill=\"none\"/>\n",
              "    <path d=\"M18.56 5.44l.94 2.06.94-2.06 2.06-.94-2.06-.94-.94-2.06-.94 2.06-2.06.94zm-11 1L8.5 8.5l.94-2.06 2.06-.94-2.06-.94L8.5 2.5l-.94 2.06-2.06.94zm10 10l.94 2.06.94-2.06 2.06-.94-2.06-.94-.94-2.06-.94 2.06-2.06.94z\"/><path d=\"M17.41 7.96l-1.37-1.37c-.4-.4-.92-.59-1.43-.59-.52 0-1.04.2-1.43.59L10.3 9.45l-7.72 7.72c-.78.78-.78 2.05 0 2.83L4 21.41c.39.39.9.59 1.41.59.51 0 1.02-.2 1.41-.59l7.78-7.78 2.81-2.81c.8-.78.8-2.07 0-2.86zM5.41 20L4 18.59l7.72-7.72 1.47 1.35L5.41 20z\"/>\n",
              "  </svg>\n",
              "      </button>\n",
              "      \n",
              "  <style>\n",
              "    .colab-df-container {\n",
              "      display:flex;\n",
              "      flex-wrap:wrap;\n",
              "      gap: 12px;\n",
              "    }\n",
              "\n",
              "    .colab-df-convert {\n",
              "      background-color: #E8F0FE;\n",
              "      border: none;\n",
              "      border-radius: 50%;\n",
              "      cursor: pointer;\n",
              "      display: none;\n",
              "      fill: #1967D2;\n",
              "      height: 32px;\n",
              "      padding: 0 0 0 0;\n",
              "      width: 32px;\n",
              "    }\n",
              "\n",
              "    .colab-df-convert:hover {\n",
              "      background-color: #E2EBFA;\n",
              "      box-shadow: 0px 1px 2px rgba(60, 64, 67, 0.3), 0px 1px 3px 1px rgba(60, 64, 67, 0.15);\n",
              "      fill: #174EA6;\n",
              "    }\n",
              "\n",
              "    [theme=dark] .colab-df-convert {\n",
              "      background-color: #3B4455;\n",
              "      fill: #D2E3FC;\n",
              "    }\n",
              "\n",
              "    [theme=dark] .colab-df-convert:hover {\n",
              "      background-color: #434B5C;\n",
              "      box-shadow: 0px 1px 3px 1px rgba(0, 0, 0, 0.15);\n",
              "      filter: drop-shadow(0px 1px 2px rgba(0, 0, 0, 0.3));\n",
              "      fill: #FFFFFF;\n",
              "    }\n",
              "  </style>\n",
              "\n",
              "      <script>\n",
              "        const buttonEl =\n",
              "          document.querySelector('#df-e3263338-db41-4b61-b879-705206b9b4ce button.colab-df-convert');\n",
              "        buttonEl.style.display =\n",
              "          google.colab.kernel.accessAllowed ? 'block' : 'none';\n",
              "\n",
              "        async function convertToInteractive(key) {\n",
              "          const element = document.querySelector('#df-e3263338-db41-4b61-b879-705206b9b4ce');\n",
              "          const dataTable =\n",
              "            await google.colab.kernel.invokeFunction('convertToInteractive',\n",
              "                                                     [key], {});\n",
              "          if (!dataTable) return;\n",
              "\n",
              "          const docLinkHtml = 'Like what you see? Visit the ' +\n",
              "            '<a target=\"_blank\" href=https://colab.research.google.com/notebooks/data_table.ipynb>data table notebook</a>'\n",
              "            + ' to learn more about interactive tables.';\n",
              "          element.innerHTML = '';\n",
              "          dataTable['output_type'] = 'display_data';\n",
              "          await google.colab.output.renderOutput(dataTable, element);\n",
              "          const docLink = document.createElement('div');\n",
              "          docLink.innerHTML = docLinkHtml;\n",
              "          element.appendChild(docLink);\n",
              "        }\n",
              "      </script>\n",
              "    </div>\n",
              "  </div>\n",
              "  "
            ]
          },
          "metadata": {},
          "execution_count": 20
        }
      ]
    },
    {
      "cell_type": "code",
      "source": [
        "'''file_path = 'input/VL_span_extraction.json'\n",
        "\n",
        "news_categories, guids, contexts, questions, answers = read_news(file_path)\n",
        "\n",
        "dev_news_df = pd.DataFrame(\n",
        "    list(zip(news_categories, guids , answers, contexts, questions)),\n",
        "    columns =['news_categories', 'id', 'answers', 'context', 'question'])\n",
        "dev_news_df'''"
      ],
      "metadata": {
        "colab": {
          "base_uri": "https://localhost:8080/",
          "height": 53
        },
        "id": "RhZkHZdTHYri",
        "outputId": "1eec41ce-1c79-45e2-95a3-8b77056d51af"
      },
      "execution_count": 21,
      "outputs": [
        {
          "output_type": "execute_result",
          "data": {
            "text/plain": [
              "\"file_path = 'input/VL_span_extraction.json'\\n\\nnews_categories, guids, contexts, questions, answers = read_news(file_path)\\n\\ndev_news_df = pd.DataFrame(\\n    list(zip(news_categories, guids , answers, contexts, questions)),\\n    columns =['news_categories', 'id', 'answers', 'context', 'question'])\\ndev_news_df\""
            ],
            "application/vnd.google.colaboratory.intrinsic+json": {
              "type": "string"
            }
          },
          "metadata": {},
          "execution_count": 21
        }
      ]
    },
    {
      "cell_type": "code",
      "source": [
        "'''news_df = pd.concat([train_news_df, dev_news_df])\n",
        "print(news_df.shape)'''"
      ],
      "metadata": {
        "colab": {
          "base_uri": "https://localhost:8080/",
          "height": 35
        },
        "id": "S-QHoWLfHyZg",
        "outputId": "b9b4dacd-b9fa-423f-9691-edf2492706b5"
      },
      "execution_count": 22,
      "outputs": [
        {
          "output_type": "execute_result",
          "data": {
            "text/plain": [
              "'news_df = pd.concat([train_news_df, dev_news_df])\\nprint(news_df.shape)'"
            ],
            "application/vnd.google.colaboratory.intrinsic+json": {
              "type": "string"
            }
          },
          "metadata": {},
          "execution_count": 22
        }
      ]
    },
    {
      "cell_type": "code",
      "source": [
        "news_df.loc[news_df.duplicated(['id']), :]"
      ],
      "metadata": {
        "colab": {
          "base_uri": "https://localhost:8080/",
          "height": 49
        },
        "id": "VlcLpfSKpjt3",
        "outputId": "5cadde6c-a155-4e6a-a7f2-d453f5dad092"
      },
      "execution_count": 23,
      "outputs": [
        {
          "output_type": "execute_result",
          "data": {
            "text/plain": [
              "Empty DataFrame\n",
              "Columns: [news_categories, id, answers, context, question]\n",
              "Index: []"
            ],
            "text/html": [
              "\n",
              "  <div id=\"df-b5e2d6f0-1bd5-495d-a0ea-a52b77b0dc69\">\n",
              "    <div class=\"colab-df-container\">\n",
              "      <div>\n",
              "<style scoped>\n",
              "    .dataframe tbody tr th:only-of-type {\n",
              "        vertical-align: middle;\n",
              "    }\n",
              "\n",
              "    .dataframe tbody tr th {\n",
              "        vertical-align: top;\n",
              "    }\n",
              "\n",
              "    .dataframe thead th {\n",
              "        text-align: right;\n",
              "    }\n",
              "</style>\n",
              "<table border=\"1\" class=\"dataframe\">\n",
              "  <thead>\n",
              "    <tr style=\"text-align: right;\">\n",
              "      <th></th>\n",
              "      <th>news_categories</th>\n",
              "      <th>id</th>\n",
              "      <th>answers</th>\n",
              "      <th>context</th>\n",
              "      <th>question</th>\n",
              "    </tr>\n",
              "  </thead>\n",
              "  <tbody>\n",
              "  </tbody>\n",
              "</table>\n",
              "</div>\n",
              "      <button class=\"colab-df-convert\" onclick=\"convertToInteractive('df-b5e2d6f0-1bd5-495d-a0ea-a52b77b0dc69')\"\n",
              "              title=\"Convert this dataframe to an interactive table.\"\n",
              "              style=\"display:none;\">\n",
              "        \n",
              "  <svg xmlns=\"http://www.w3.org/2000/svg\" height=\"24px\"viewBox=\"0 0 24 24\"\n",
              "       width=\"24px\">\n",
              "    <path d=\"M0 0h24v24H0V0z\" fill=\"none\"/>\n",
              "    <path d=\"M18.56 5.44l.94 2.06.94-2.06 2.06-.94-2.06-.94-.94-2.06-.94 2.06-2.06.94zm-11 1L8.5 8.5l.94-2.06 2.06-.94-2.06-.94L8.5 2.5l-.94 2.06-2.06.94zm10 10l.94 2.06.94-2.06 2.06-.94-2.06-.94-.94-2.06-.94 2.06-2.06.94z\"/><path d=\"M17.41 7.96l-1.37-1.37c-.4-.4-.92-.59-1.43-.59-.52 0-1.04.2-1.43.59L10.3 9.45l-7.72 7.72c-.78.78-.78 2.05 0 2.83L4 21.41c.39.39.9.59 1.41.59.51 0 1.02-.2 1.41-.59l7.78-7.78 2.81-2.81c.8-.78.8-2.07 0-2.86zM5.41 20L4 18.59l7.72-7.72 1.47 1.35L5.41 20z\"/>\n",
              "  </svg>\n",
              "      </button>\n",
              "      \n",
              "  <style>\n",
              "    .colab-df-container {\n",
              "      display:flex;\n",
              "      flex-wrap:wrap;\n",
              "      gap: 12px;\n",
              "    }\n",
              "\n",
              "    .colab-df-convert {\n",
              "      background-color: #E8F0FE;\n",
              "      border: none;\n",
              "      border-radius: 50%;\n",
              "      cursor: pointer;\n",
              "      display: none;\n",
              "      fill: #1967D2;\n",
              "      height: 32px;\n",
              "      padding: 0 0 0 0;\n",
              "      width: 32px;\n",
              "    }\n",
              "\n",
              "    .colab-df-convert:hover {\n",
              "      background-color: #E2EBFA;\n",
              "      box-shadow: 0px 1px 2px rgba(60, 64, 67, 0.3), 0px 1px 3px 1px rgba(60, 64, 67, 0.15);\n",
              "      fill: #174EA6;\n",
              "    }\n",
              "\n",
              "    [theme=dark] .colab-df-convert {\n",
              "      background-color: #3B4455;\n",
              "      fill: #D2E3FC;\n",
              "    }\n",
              "\n",
              "    [theme=dark] .colab-df-convert:hover {\n",
              "      background-color: #434B5C;\n",
              "      box-shadow: 0px 1px 3px 1px rgba(0, 0, 0, 0.15);\n",
              "      filter: drop-shadow(0px 1px 2px rgba(0, 0, 0, 0.3));\n",
              "      fill: #FFFFFF;\n",
              "    }\n",
              "  </style>\n",
              "\n",
              "      <script>\n",
              "        const buttonEl =\n",
              "          document.querySelector('#df-b5e2d6f0-1bd5-495d-a0ea-a52b77b0dc69 button.colab-df-convert');\n",
              "        buttonEl.style.display =\n",
              "          google.colab.kernel.accessAllowed ? 'block' : 'none';\n",
              "\n",
              "        async function convertToInteractive(key) {\n",
              "          const element = document.querySelector('#df-b5e2d6f0-1bd5-495d-a0ea-a52b77b0dc69');\n",
              "          const dataTable =\n",
              "            await google.colab.kernel.invokeFunction('convertToInteractive',\n",
              "                                                     [key], {});\n",
              "          if (!dataTable) return;\n",
              "\n",
              "          const docLinkHtml = 'Like what you see? Visit the ' +\n",
              "            '<a target=\"_blank\" href=https://colab.research.google.com/notebooks/data_table.ipynb>data table notebook</a>'\n",
              "            + ' to learn more about interactive tables.';\n",
              "          element.innerHTML = '';\n",
              "          dataTable['output_type'] = 'display_data';\n",
              "          await google.colab.output.renderOutput(dataTable, element);\n",
              "          const docLink = document.createElement('div');\n",
              "          docLink.innerHTML = docLinkHtml;\n",
              "          element.appendChild(docLink);\n",
              "        }\n",
              "      </script>\n",
              "    </div>\n",
              "  </div>\n",
              "  "
            ]
          },
          "metadata": {},
          "execution_count": 23
        }
      ]
    },
    {
      "cell_type": "code",
      "source": [
        "draw_pie(news_df)"
      ],
      "metadata": {
        "colab": {
          "base_uri": "https://localhost:8080/",
          "height": 846
        },
        "id": "lEsNG7yAiktQ",
        "outputId": "5c8161db-6eae-4021-c1ec-c2c29f3c7f14"
      },
      "execution_count": 26,
      "outputs": [
        {
          "output_type": "display_data",
          "data": {
            "text/plain": [
              "<Figure size 1080x1080 with 1 Axes>"
            ],
            "image/png": "[encoded data removed]"
          },
          "metadata": {}
        }
      ]
    },
    {
      "cell_type": "code",
      "source": [
        "my_list = ['스포츠', '정치', '지역']\n",
        "news_df = news_df[~news_df['news_categories'].isin(my_list)]\n",
        "print(news_df.shape)"
      ],
      "metadata": {
        "colab": {
          "base_uri": "https://localhost:8080/"
        },
        "id": "lEsXzQE7iWQW",
        "outputId": "dbae4595-ac22-4edd-e094-dbcd2e216553"
      },
      "execution_count": 27,
      "outputs": [
        {
          "output_type": "stream",
          "name": "stdout",
          "text": [
            "(134432, 5)\n"
          ]
        }
      ]
    },
    {
      "cell_type": "code",
      "source": [
        "news_df = news_df.sample(frac=0.15, random_state=args.seed)\n",
        "print(news_df.shape)"
      ],
      "metadata": {
        "colab": {
          "base_uri": "https://localhost:8080/"
        },
        "id": "7bynh0EYDEUy",
        "outputId": "919fdb83-e763-4664-99b2-22e60793c8d4"
      },
      "execution_count": 32,
      "outputs": [
        {
          "output_type": "stream",
          "name": "stdout",
          "text": [
            "(20165, 5)\n"
          ]
        }
      ]
    },
    {
      "cell_type": "code",
      "source": [
        "'''del train_news_df, dev_news_df\n",
        "import gc\n",
        "gc.collect()'''"
      ],
      "metadata": {
        "colab": {
          "base_uri": "https://localhost:8080/",
          "height": 35
        },
        "id": "msKRH2-_NTBW",
        "outputId": "d336a0c9-0c16-4dba-90b2-408516e32fa8"
      },
      "execution_count": 33,
      "outputs": [
        {
          "output_type": "execute_result",
          "data": {
            "text/plain": [
              "'del train_news_df, dev_news_df\\nimport gc\\ngc.collect()'"
            ],
            "application/vnd.google.colaboratory.intrinsic+json": {
              "type": "string"
            }
          },
          "metadata": {},
          "execution_count": 33
        }
      ]
    },
    {
      "cell_type": "markdown",
      "source": [
        "### AI-Hub 도서자료 기계독해"
      ],
      "metadata": {
        "id": "WaBh6GZXEpF5"
      }
    },
    {
      "cell_type": "code",
      "source": [
        "'''def read_books(path):\n",
        "    path = Path(path)\n",
        "    with open(path, 'rb') as f:\n",
        "        data = json.load(f)\n",
        "\n",
        "    news_categories = []\n",
        "    guids = []\n",
        "    contexts = []\n",
        "    questions = []\n",
        "    answers = []\n",
        "    is_impossibles = []\n",
        "    for group in data['data']:\n",
        "        news_category = group['agency']\n",
        "        for passage in group['paragraphs']:\n",
        "            context = passage['context']\n",
        "            for qa in passage['qas']:\n",
        "                for answer in qa['answers']:\n",
        "                    news_categories.append(news_category)\n",
        "                    guids.append(qa[\"id\"])\n",
        "                    contexts.append(context)\n",
        "                    questions.append(qa['question'])\n",
        "                    answers.append({\"answer_start\": [answer[\"answer_start\"]], \"text\": [answer[\"text\"]]})\n",
        "                    is_impossibles.append(qa[\"is_impossible\"])\n",
        "                \n",
        "    return news_categories, guids, contexts, questions, answers, is_impossibles'''"
      ],
      "metadata": {
        "colab": {
          "base_uri": "https://localhost:8080/",
          "height": 87
        },
        "id": "dOZ3S8wyFVya",
        "outputId": "e84af732-e32a-4d94-b5c7-fa71fe181c5e"
      },
      "execution_count": 34,
      "outputs": [
        {
          "output_type": "execute_result",
          "data": {
            "text/plain": [
              "'def read_books(path):\\n    path = Path(path)\\n    with open(path, \\'rb\\') as f:\\n        data = json.load(f)\\n\\n    news_categories = []\\n    guids = []\\n    contexts = []\\n    questions = []\\n    answers = []\\n    is_impossibles = []\\n    for group in data[\\'data\\']:\\n        news_category = group[\\'agency\\']\\n        for passage in group[\\'paragraphs\\']:\\n            context = passage[\\'context\\']\\n            for qa in passage[\\'qas\\']:\\n                for answer in qa[\\'answers\\']:\\n                    news_categories.append(news_category)\\n                    guids.append(qa[\"id\"])\\n                    contexts.append(context)\\n                    questions.append(qa[\\'question\\'])\\n                    answers.append({\"answer_start\": [answer[\"answer_start\"]], \"text\": [answer[\"text\"]]})\\n                    is_impossibles.append(qa[\"is_impossible\"])\\n                \\n    return news_categories, guids, contexts, questions, answers, is_impossibles'"
            ],
            "application/vnd.google.colaboratory.intrinsic+json": {
              "type": "string"
            }
          },
          "metadata": {},
          "execution_count": 34
        }
      ]
    },
    {
      "cell_type": "code",
      "source": [
        "'''file_path = 'input/도서_220419_add.json'\n",
        "\n",
        "news_categories, guids, contexts, questions, answers, is_impossibles = read_books(file_path)\n",
        "\n",
        "train_books_df = pd.DataFrame(\n",
        "    list(zip(news_categories, guids , answers, contexts, questions, is_impossibles)),\n",
        "    columns =['news_categories', 'id', 'answers', 'context', 'question', 'is_impossibles'])\n",
        "\n",
        "train_books_df = train_books_df.loc[train_books_df.is_impossibles == False, :].drop('is_impossibles', axis=1).sort_index().reset_index(drop=True)\n",
        "\n",
        "train_books_df'''"
      ],
      "metadata": {
        "colab": {
          "base_uri": "https://localhost:8080/",
          "height": 70
        },
        "id": "20l4afL8F2mO",
        "outputId": "ec041133-db98-44ca-9273-a813b5593e26"
      },
      "execution_count": 35,
      "outputs": [
        {
          "output_type": "execute_result",
          "data": {
            "text/plain": [
              "\"file_path = 'input/도서_220419_add.json'\\n\\nnews_categories, guids, contexts, questions, answers, is_impossibles = read_books(file_path)\\n\\ntrain_books_df = pd.DataFrame(\\n    list(zip(news_categories, guids , answers, contexts, questions, is_impossibles)),\\n    columns =['news_categories', 'id', 'answers', 'context', 'question', 'is_impossibles'])\\n\\ntrain_books_df = train_books_df.loc[train_books_df.is_impossibles == False, :].drop('is_impossibles', axis=1).sort_index().reset_index(drop=True)\\n\\ntrain_books_df\""
            ],
            "application/vnd.google.colaboratory.intrinsic+json": {
              "type": "string"
            }
          },
          "metadata": {},
          "execution_count": 35
        }
      ]
    },
    {
      "cell_type": "code",
      "source": [
        "'''file_path = 'input/도서.json'\n",
        "\n",
        "news_categories, guids, contexts, questions, answers, is_impossibles = read_books(file_path)\n",
        "\n",
        "dev_books_df = pd.DataFrame(\n",
        "    list(zip(news_categories, guids , answers, contexts, questions, is_impossibles)),\n",
        "    columns =['news_categories', 'id', 'answers', 'context', 'question', 'is_impossibles'])\n",
        "\n",
        "dev_books_df = dev_books_df.loc[dev_books_df.is_impossibles == False, :].drop('is_impossibles', axis=1).sort_index().reset_index(drop=True)\n",
        "\n",
        "dev_books_df'''"
      ],
      "metadata": {
        "colab": {
          "base_uri": "https://localhost:8080/",
          "height": 53
        },
        "id": "o9WNkuCuG9JL",
        "outputId": "d4d22827-cc7e-4374-8ceb-36a9e6b1ed5f"
      },
      "execution_count": 36,
      "outputs": [
        {
          "output_type": "execute_result",
          "data": {
            "text/plain": [
              "\"file_path = 'input/도서.json'\\n\\nnews_categories, guids, contexts, questions, answers, is_impossibles = read_books(file_path)\\n\\ndev_books_df = pd.DataFrame(\\n    list(zip(news_categories, guids , answers, contexts, questions, is_impossibles)),\\n    columns =['news_categories', 'id', 'answers', 'context', 'question', 'is_impossibles'])\\n\\ndev_books_df = dev_books_df.loc[dev_books_df.is_impossibles == False, :].drop('is_impossibles', axis=1).sort_index().reset_index(drop=True)\\n\\ndev_books_df\""
            ],
            "application/vnd.google.colaboratory.intrinsic+json": {
              "type": "string"
            }
          },
          "metadata": {},
          "execution_count": 36
        }
      ]
    },
    {
      "cell_type": "code",
      "source": [
        "'''books_df = pd.concat([train_books_df, dev_books_df])\n",
        "print(books_df.shape)'''"
      ],
      "metadata": {
        "colab": {
          "base_uri": "https://localhost:8080/",
          "height": 35
        },
        "id": "rDcGUYoyIeEX",
        "outputId": "fee50317-c18e-4758-a13a-898a9f2cfb7c"
      },
      "execution_count": 37,
      "outputs": [
        {
          "output_type": "execute_result",
          "data": {
            "text/plain": [
              "'books_df = pd.concat([train_books_df, dev_books_df])\\nprint(books_df.shape)'"
            ],
            "application/vnd.google.colaboratory.intrinsic+json": {
              "type": "string"
            }
          },
          "metadata": {},
          "execution_count": 37
        }
      ]
    },
    {
      "cell_type": "code",
      "source": [
        "'''books_df.loc[books_df.duplicated(['id']), :]'''"
      ],
      "metadata": {
        "colab": {
          "base_uri": "https://localhost:8080/",
          "height": 35
        },
        "id": "7q8EkpKXIj4x",
        "outputId": "28bb3068-e2a5-4329-b2fd-134760bf2d4b"
      },
      "execution_count": 38,
      "outputs": [
        {
          "output_type": "execute_result",
          "data": {
            "text/plain": [
              "\"books_df.loc[books_df.duplicated(['id']), :]\""
            ],
            "application/vnd.google.colaboratory.intrinsic+json": {
              "type": "string"
            }
          },
          "metadata": {},
          "execution_count": 38
        }
      ]
    },
    {
      "cell_type": "code",
      "source": [
        "'''draw_pie(books_df)'''"
      ],
      "metadata": {
        "colab": {
          "base_uri": "https://localhost:8080/",
          "height": 35
        },
        "id": "-9q-hvEeIpyN",
        "outputId": "3fc439c0-7a66-439e-d051-f491ef78e21b"
      },
      "execution_count": 39,
      "outputs": [
        {
          "output_type": "execute_result",
          "data": {
            "text/plain": [
              "'draw_pie(books_df)'"
            ],
            "application/vnd.google.colaboratory.intrinsic+json": {
              "type": "string"
            }
          },
          "metadata": {},
          "execution_count": 39
        }
      ]
    },
    {
      "cell_type": "code",
      "source": [
        "'''del train_books_df, dev_books_df\n",
        "import gc\n",
        "gc.collect()'''"
      ],
      "metadata": {
        "colab": {
          "base_uri": "https://localhost:8080/",
          "height": 35
        },
        "id": "dcWqP5OqI50e",
        "outputId": "55eaac14-a6be-4326-c248-5ab3d8df17fe"
      },
      "execution_count": 40,
      "outputs": [
        {
          "output_type": "execute_result",
          "data": {
            "text/plain": [
              "'del train_books_df, dev_books_df\\nimport gc\\ngc.collect()'"
            ],
            "application/vnd.google.colaboratory.intrinsic+json": {
              "type": "string"
            }
          },
          "metadata": {},
          "execution_count": 40
        }
      ]
    },
    {
      "cell_type": "markdown",
      "source": [
        "### AI-Hub 기계독해\n",
        "\n",
        "- https://aihub.or.kr/aihubdata/data/view.do?currMenu=115&topMenu=100&aihubDataSe=realm&dataSetSn=89"
      ],
      "metadata": {
        "id": "T18IEhS8ScA1"
      }
    },
    {
      "cell_type": "code",
      "source": [
        "'''def read_squad(path):\n",
        "    path = Path(path)\n",
        "    with open(path, 'rb') as f:\n",
        "        data = json.load(f)\n",
        "\n",
        "    news_categories = []\n",
        "    guids = []\n",
        "    contexts = []\n",
        "    questions = []\n",
        "    answers = []\n",
        "    for group in data['data']:\n",
        "        news_category = group['source']\n",
        "        for passage in group['paragraphs']:\n",
        "            context = passage['context']\n",
        "            for qa in passage['qas']:\n",
        "                for answer in qa['answers']:\n",
        "                    news_categories.append(news_category)\n",
        "                    guids.append(qa[\"id\"])\n",
        "                    contexts.append(context)\n",
        "                    questions.append(qa['question'])\n",
        "                    answers.append({\"answer_start\": [answer[\"answer_start\"]], \"text\": [answer[\"text\"]]})\n",
        "                \n",
        "    return news_categories, guids, contexts, questions, answers'''"
      ],
      "metadata": {
        "id": "xi5ramNFXDEY",
        "colab": {
          "base_uri": "https://localhost:8080/",
          "height": 87
        },
        "outputId": "2516b4a1-c3aa-4ba1-a7bf-7f50c05e28f4"
      },
      "execution_count": 41,
      "outputs": [
        {
          "output_type": "execute_result",
          "data": {
            "text/plain": [
              "'def read_squad(path):\\n    path = Path(path)\\n    with open(path, \\'rb\\') as f:\\n        data = json.load(f)\\n\\n    news_categories = []\\n    guids = []\\n    contexts = []\\n    questions = []\\n    answers = []\\n    for group in data[\\'data\\']:\\n        news_category = group[\\'source\\']\\n        for passage in group[\\'paragraphs\\']:\\n            context = passage[\\'context\\']\\n            for qa in passage[\\'qas\\']:\\n                for answer in qa[\\'answers\\']:\\n                    news_categories.append(news_category)\\n                    guids.append(qa[\"id\"])\\n                    contexts.append(context)\\n                    questions.append(qa[\\'question\\'])\\n                    answers.append({\"answer_start\": [answer[\"answer_start\"]], \"text\": [answer[\"text\"]]})\\n                \\n    return news_categories, guids, contexts, questions, answers'"
            ],
            "application/vnd.google.colaboratory.intrinsic+json": {
              "type": "string"
            }
          },
          "metadata": {},
          "execution_count": 41
        }
      ]
    },
    {
      "cell_type": "code",
      "source": [
        "'''file_path = 'input/ko_nia_normal_squad_all.json'\n",
        "\n",
        "news_categories, guids, contexts, questions, answers = read_squad(file_path)\n",
        "\n",
        "squad_df = pd.DataFrame(\n",
        "    list(zip(news_categories, guids , answers, contexts, questions)),\n",
        "    columns =['news_categories', 'id', 'answers', 'context', 'question'])\n",
        "\n",
        "sources = {\n",
        "    1: '정치',\n",
        "    2: '경제',\n",
        "    3: '사회',\n",
        "    4: '생활',\n",
        "    5: 'IT/과학',\n",
        "    6: '연예',\n",
        "    7: '스포츠',\n",
        "    8: '문화',\n",
        "    9: '미용/건강'\n",
        "}\n",
        "squad_df = squad_df.replace({\"news_categories\": sources})\n",
        "\n",
        "squad_df'''"
      ],
      "metadata": {
        "colab": {
          "base_uri": "https://localhost:8080/",
          "height": 70
        },
        "id": "Xt4AUkHDSwJo",
        "outputId": "6772246e-2e5a-4cde-9996-dc57d89eec2b"
      },
      "execution_count": 42,
      "outputs": [
        {
          "output_type": "execute_result",
          "data": {
            "text/plain": [
              "'file_path = \\'input/ko_nia_normal_squad_all.json\\'\\n\\nnews_categories, guids, contexts, questions, answers = read_squad(file_path)\\n\\nsquad_df = pd.DataFrame(\\n    list(zip(news_categories, guids , answers, contexts, questions)),\\n    columns =[\\'news_categories\\', \\'id\\', \\'answers\\', \\'context\\', \\'question\\'])\\n\\nsources = {\\n    1: \\'정치\\',\\n    2: \\'경제\\',\\n    3: \\'사회\\',\\n    4: \\'생활\\',\\n    5: \\'IT/과학\\',\\n    6: \\'연예\\',\\n    7: \\'스포츠\\',\\n    8: \\'문화\\',\\n    9: \\'미용/건강\\'\\n}\\nsquad_df = squad_df.replace({\"news_categories\": sources})\\n\\nsquad_df'"
            ],
            "application/vnd.google.colaboratory.intrinsic+json": {
              "type": "string"
            }
          },
          "metadata": {},
          "execution_count": 42
        }
      ]
    },
    {
      "cell_type": "code",
      "source": [
        "'''squad_df.loc[squad_df.duplicated(['id']), :]'''"
      ],
      "metadata": {
        "colab": {
          "base_uri": "https://localhost:8080/",
          "height": 35
        },
        "id": "k4RUvw4nqXdr",
        "outputId": "a7a6ebd0-ed22-4aab-dfbf-6f10c1bb0527"
      },
      "execution_count": 43,
      "outputs": [
        {
          "output_type": "execute_result",
          "data": {
            "text/plain": [
              "\"squad_df.loc[squad_df.duplicated(['id']), :]\""
            ],
            "application/vnd.google.colaboratory.intrinsic+json": {
              "type": "string"
            }
          },
          "metadata": {},
          "execution_count": 43
        }
      ]
    },
    {
      "cell_type": "code",
      "source": [
        "'''draw_pie(squad_df)'''"
      ],
      "metadata": {
        "colab": {
          "base_uri": "https://localhost:8080/",
          "height": 35
        },
        "id": "ZWdG7LT1hKXi",
        "outputId": "3149ef41-dcf5-4f4c-e34b-bb7cd0c5dc22"
      },
      "execution_count": 44,
      "outputs": [
        {
          "output_type": "execute_result",
          "data": {
            "text/plain": [
              "'draw_pie(squad_df)'"
            ],
            "application/vnd.google.colaboratory.intrinsic+json": {
              "type": "string"
            }
          },
          "metadata": {},
          "execution_count": 44
        }
      ]
    },
    {
      "cell_type": "markdown",
      "source": [
        "### Concat"
      ],
      "metadata": {
        "id": "48hpbR9ilB0h"
      }
    },
    {
      "cell_type": "code",
      "source": [
        "train_df = df.sample(frac=0.8, random_state=args.seed)\n",
        "dev_df = df.drop(train_df.index)\n",
        "print(f'{df.shape[0]} =====> train: {train_df.shape[0]} + dev: {dev_df.shape[0]}')"
      ],
      "metadata": {
        "id": "UJSWF0G5gemd",
        "colab": {
          "base_uri": "https://localhost:8080/"
        },
        "outputId": "68366bd4-6ee3-4489-87ae-f6668d674d94"
      },
      "execution_count": 45,
      "outputs": [
        {
          "output_type": "stream",
          "name": "stdout",
          "text": [
            "12037 =====> train: 9630 + dev: 2407\n"
          ]
        }
      ]
    },
    {
      "cell_type": "code",
      "source": [
        "before = train_df.shape[0]\n",
        "train_df = pd.concat([train_df, news_df])\n",
        "train_df['id'] = train_df['id'].astype(str)\n",
        "print(f'train: {train_df.shape[0]} <===== {before} + {news_df.shape[0]}')\n",
        "\n",
        "'''before = train_df.shape[0]\n",
        "train_df = pd.concat([train_df, books_df])\n",
        "train_df['id'] = train_df['id'].astype(str)\n",
        "print(f'train: {train_df.shape[0]} <===== {before} + {books_df.shape[0]}')'''\n",
        "\n",
        "'''before = train_df.shape[0]\n",
        "train_df = pd.concat([train_df, squad_df])\n",
        "print(f'train: {train_df.shape[0]} <===== {before} + {squad_df.shape[0]}')'''"
      ],
      "metadata": {
        "colab": {
          "base_uri": "https://localhost:8080/",
          "height": 53
        },
        "id": "LCB_M0NfL3f6",
        "outputId": "a1a9d50d-1691-42eb-e496-d4ec2bba4473"
      },
      "execution_count": 46,
      "outputs": [
        {
          "output_type": "stream",
          "name": "stdout",
          "text": [
            "train: 29795 <===== 9630 + 20165\n"
          ]
        },
        {
          "output_type": "execute_result",
          "data": {
            "text/plain": [
              "\"before = train_df.shape[0]\\ntrain_df = pd.concat([train_df, squad_df])\\nprint(f'train: {train_df.shape[0]} <===== {before} + {squad_df.shape[0]}')\""
            ],
            "application/vnd.google.colaboratory.intrinsic+json": {
              "type": "string"
            }
          },
          "metadata": {},
          "execution_count": 46
        }
      ]
    },
    {
      "cell_type": "code",
      "source": [
        "train_df = train_df.drop(['news_categories'], axis=1)\n",
        "dev_df = dev_df.drop(['news_categories'], axis=1)\n",
        "print(train_df.shape)\n",
        "print(dev_df.shape)"
      ],
      "metadata": {
        "colab": {
          "base_uri": "https://localhost:8080/"
        },
        "id": "hsmfJAuNnaAZ",
        "outputId": "b5528e5d-b578-48f5-820b-c60fbb1c5259"
      },
      "execution_count": 47,
      "outputs": [
        {
          "output_type": "stream",
          "name": "stdout",
          "text": [
            "(29795, 4)\n",
            "(2407, 4)\n"
          ]
        }
      ]
    },
    {
      "cell_type": "code",
      "source": [
        "train_dataset = Dataset.from_pandas(train_df)\n",
        "dev_dataset = Dataset.from_pandas(dev_df)"
      ],
      "metadata": {
        "id": "wuj8BBY7g2G0"
      },
      "execution_count": 48,
      "outputs": []
    },
    {
      "cell_type": "code",
      "source": [
        "print(\"Number of Train Samples:\", len(train_dataset))\n",
        "print(\"Number of Dev Samples:\", len(dev_dataset))\n",
        "print(train_dataset[0])\n",
        "print(dev_dataset[0])"
      ],
      "metadata": {
        "colab": {
          "base_uri": "https://localhost:8080/"
        },
        "id": "VyGKBHMUhFmt",
        "outputId": "16bd19d1-2113-4f88-9787-441b467fe86e"
      },
      "execution_count": 49,
      "outputs": [
        {
          "output_type": "stream",
          "name": "stdout",
          "text": [
            "Number of Train Samples: 29795\n",
            "Number of Dev Samples: 2407\n",
            "{'id': '71a97d4e2e6041c3b6f4822e262af3a5', 'answers': {'answer_start': [1241], 'text': ['예약 번호']}, 'context': '세부퍼시픽은 신종 코로나바이러스 감염증(코로나19)로 인한 항공 여행에 대한 불안감을 해소하고 승객의 여행 편의를 높이기 위해 2020년 12월 31일까지 여행하는 승객 대상 유연한 여행 정책을 연장 적용한다고 발표했다. 세부퍼시픽 마케팅 및 고객 경험 담당 부사장인 캔디스 이요그(Candice Iyog)는 “세부퍼시픽은 코로나19로 인해 전 세계적으로 불확실성이 가중되는 상황에서 여행에 대한 우려를 완화시키기 위해 승객들의 목소리를 경청하며 정책을 보완하고 개선해 나가고 있습니다. 이에 따라 연장된 유연한 여행 정책이 승객들의 여행 계획에 조금이나마 도움이 되기를 바랍니다”라고 전했다. 금 번 연장된 여행 정책은 아래와 같이 적용된다. - 2년 유효기간의 트래블 펀드 트래블 펀드란 기존 항공권 예약을 위해 지불했던 총 금액을 현금으로 환불 받지 않고 온라인 상에 저장해 둘 수 있는 가상 지갑으로 항공편이 취소되었거나 여행 계획을 취소하려는 승객이 취할 수 있는 옵션이다. 2년 유효기간을 갖는 트래블 펀드는 최대 12개월 이내 항공편 예약시 트래블 펀드를 사용할 수 있으며 이를 통해 최대 2023년까지의 항공편에 트래블 펀드 사용이 가능하다. 유효기간 동안 승객들은 트래블 펀드를 이용하여 추후 새로운 항공권을 예약하거나 추가수하물, 옆좌석 구매 등 부가 서비스를 이용할 때 사용할 수 있다. 현재 여행 날짜가 미정인 승객들이 원하는 때 사용이 가능한 편리한 옵션으로 트래블 펀드 금액을 이미 소지하고 있는 고객의 경우 2년의 유효기간이 소급 적용되거나 트래블 펀드가 생성된 날로부터 2년이 적용된다. - 무제한 예약 변경 가능 세부퍼시픽의 승객은 재예약 또는 변경수수료를 지불하지 않고 항공편을 무제한 예약 변경할 수 있다. 이는 신종코로나바이러스로 인해 각 국의 여행 규정과 제한사항이 시시각각 변하고 있는 상황에서 여행객들이 여행관리를 보다 편리하고 유연하게 할 수 있게 하기 위한 목적으로서 선택한 여행 날짜에 따라 최소한의 요금 차액이 적용될 수 있다. - 취소된 항공편의 승객을 위한 옵션 전액 환불 또는 항공권에 상응하는 금액을 유효기간 2년의 트래블 펀드로 전환하여 추후 여행이 확정될 때 사용할 수 있다. 취소된 항공편의 승객은 원래 여행 날짜로부터 90이내 날짜의 항공편으로 변경하는 경우 수수료나 운임 차액 적용 없이 무제한으로 재예약이 가능하다 상기 옵션은 세부퍼시픽 웹 사이트의 ‘예약관리’ 메뉴를 통해 이용할 수 있다. Getgo 계정이 있는 경우에는 로그인을, 없는 경우에는 예약 번호만 입력하면 온라인을 통해 편리한 예약 변경 및 관리를 할 수 있으며 항공권 출발시간 2시간 전까지 필요한 변경 조치를 취할 수 있다. 또한 모든 세부퍼시픽의 승객은 웹사이트를 통해 연락처 정보와 주소를 쉽게 업데이트 할 수 있다. 여행사를 통해 항공편을 예약 한 경우 해당 여행사를 통해 조정해야 한다. 한편, 캔디스 이요그 부사장은 \"우리는 여행이 곧 재개될 것으로 기대하며 여전히 ‘우리 모두가 다시 여행하는 날’(#EveryJuanWillFlyAgain)을 위해 준비하고 있습니다.\"라고 전했으며 현재, 세부퍼시픽은 승객과 직원의 안전을 지키기 위해 전 세계 항공 표준에 따라 강화 된 위생, 예방 조치를 지속적으로 시행하고 있다. 여기에는 비대면 탑승 절차, 모든 항공기 및 시설에 대한 철저한 청소 및 소독 절차, 승객과 승무원의 마스크 및 안면 보호대 필수 착용, 세부퍼시픽 대면 직원에 대한 신속한 항체 검사가 포함된다.', 'question': '웹 사이트 아이디가 없어도 예약 변경을 하기 위해서 알고 있어야 하는 것은?', '__index_level_0__': 9432}\n",
            "{'id': '67c85e4f86ae43939b807684537c909c', 'answers': {'answer_start': [1422], 'text': ['삼보테크놀로지']}, 'context': '부산시와 (재)부산정보산업진흥원(원장 이인숙)이 ‘2020~2021년 지역SW서비스사업화 지원사업’ 공모사업에 4개 과제가 선정되어 본격적인 사업 착수에 나선다. 과학기술정보통신부가 주관하는 ‘지역SW서비스사업화 지원사업’은 강소SW기업 및 초기 스타트업의 SW서비스 사업화 지원과 신시장 진출 지원을 통해 기업 경쟁력 강화와 지역경제 활성화를 도모하는 사업이다. 올해부터 2개년으로 진행되며, 국비와 시비, 민자 등 2년간 약 37억원의 예산이 투입된다. 앞서 진흥원은 부산의 미래 먹거리산업인 스마트해양, 지능형기계, 지능정보서비스 분야로 사전 수요조사를 진행했고, 평가를 통해 선정된 5개 과제를 공모사업에 신청했다. 그 결과 부산의 4개 과제가 최종 선정되는 쾌거를 거뒀다. 당 사업은 전국 진흥기관을 대상으로 공모를 시작해, 총 17개 지역에서 42개 과제가 선정되었으며, 4개 과제가 선정된 곳은 부산과 강원지역 뿐이다. 금번 선정된 과제들은 ‘인공지능융합센서와 서보 이송 로봇을 이용한 전단보강재의 자동용접시스템 개발’ 등 총 4개 과제다. 부산시가 지원하고, 부산정보산업진흥원과 지역기업, 대학, 연구소 등이 컨소시엄을 구성하여 기술개발 및 사업화 지원을 추진한다. 2개의 Track으로 구분되는 이번사업은 Track 1(SW중소기업)에서 ㈜에이아이플랫폼, 엔컴(주), Track 2(스타트업)에서는 ㈜토즈, 삼보테크놀로지를 지원한다. ○ ‘Track 1‘의 (주)에이아이플랫폼이 주관기업으로 진행하는 <인공지능 기반 망막 내 아밀로이드 플라크 영상 분석을 통한 치매조기진단 플랫폼 상용화>는 치매 확진의 원인이 되는 중요 단백질(아밀로이드 플라크)을 자체개발 관측장비로 진단한다. 이를 통해 치매를 조기 발견하여, 각종 경제적 비용과 치료 및 예방 등 사회적 문제를 해 결하고 시민들이 쉽게 접근 가능한 실효성 있는 치매관리체계 개발을 목표로 한다. ○ 엔컴(주)이 주관기업으로 참여하는 <AI영상분석 기반 가공철근 생산성 향상 시스템 기술개발 및 사업화>는 산업안전, 환경규제, 생산체계의 변화로 침체된 부산 핵심 산업인 철강업 활성화에 나선다. 실시간으로 절곡되어 나오는 가공철근의 형상을 인식하고 불량 형상 판단 시 적합한 교정 값을 절곡설비에 전달함으로써, 무중단 생산이 가능한 영상분석 기술과 생산설비 자동화 제어기술을 개발한다. ○ ‘Track 2’의 ㈜토즈는 자립기반이 약한 국내 중소형 조선소의 산업기술 변화에 혁신적인 대응을 위해 <가상현실 기반 원격 다자간 선박 및 해양구조물 사전 검사 시스템>을 개발한다. 선박 건조 前, 설계 단계에서 설계자 뿐만 아니라 생산관리자, 품질관리자, 선급검사관, 선주감독관 등의 이해관계자가 공동으로 가상의 환경에서 선박 및 해양구조물의 자재 배치와 간섭, 작업성, 설계 오작 등에 대한 검사를 진행할 수 있는 기술을 확보하여 조선소의 업무효율을 극대화 할 예정이다. ○ 삼보테크놀로지는 재래식 건설 부자재의 시공성, 안전성, 내구성 등의 문제점을 보완하여 시민 안전과 건설근로자의 환경개선, 생산성 및 수익성 향상을 위해 <인공지능융합센서와 새들형 토치 서보 이송 로봇을 이용한 고속 SRD 전단보강재 자동용접시스템>을 개발한다. 로봇응용 SRD 용접자동화 설비를 제작하고, 용접 모니터링 및 품질검사 소프트웨어를 개발하여 건설분야에 4차산업 대비 지능형 생산자동화 기반기술을 확보할 예정이다. (재)부산정보산업진흥원 이인숙 원장은 “이번 코로나19 사태로 인해 부산 기업들이 매출과 고용유지, 자재수급 등에 큰 타격을 입었지만, 지역SW서비스사업화 지원사업을 통해 지역과 기업차원에서 기반을 다지는 계기가 됐으면 좋겠다‘며 ”진흥원은 어려운 사태를 대비해 지역 기업들을 지원할 수 있는 다른 방편을 계속 모색 중이며, 더욱 성장해 나갈 수 있도록 적극 지원하겠다“고 전했다.', 'question': '지능형 생산자동화 기반기술을 개발중인 스타트업은?', '__index_level_0__': 1}\n"
          ]
        }
      ]
    },
    {
      "cell_type": "code",
      "source": [
        "del df, news_df\n",
        "#del books_df, squad_df\n",
        "import gc\n",
        "gc.collect()"
      ],
      "metadata": {
        "colab": {
          "base_uri": "https://localhost:8080/"
        },
        "id": "e7i7VoDMqlMc",
        "outputId": "d42f12d7-81ab-457f-f119-c53550f4f5aa"
      },
      "execution_count": 50,
      "outputs": [
        {
          "output_type": "execute_result",
          "data": {
            "text/plain": [
              "3078"
            ]
          },
          "metadata": {},
          "execution_count": 50
        }
      ]
    },
    {
      "cell_type": "markdown",
      "source": [
        "## Preprocessing the dataset"
      ],
      "metadata": {
        "id": "0ReLitX9fNsE"
      }
    },
    {
      "cell_type": "code",
      "source": [
        "pad_on_right = tokenizer.padding_side == \"right\""
      ],
      "metadata": {
        "id": "pxHaP2d6m04T"
      },
      "execution_count": 37,
      "outputs": []
    },
    {
      "cell_type": "code",
      "source": [
        "def prepare_train_features(examples):\n",
        "    # Some of the questions have lots of whitespace on the left, which is not useful and will make the\n",
        "    # truncation of the context fail (the tokenized question will take a lots of space). So we remove that\n",
        "    # left whitespace\n",
        "    examples[\"question\"] = [q.lstrip() for q in examples[\"question\"]]\n",
        "\n",
        "    # Tokenize our examples with truncation and padding, but keep the overflows using a stride. This results\n",
        "    # in one example possible giving several features when a context is long, each of those features having a\n",
        "    # context that overlaps a bit the context of the previous feature.\n",
        "    tokenized_examples = tokenizer(\n",
        "        examples[\"question\" if pad_on_right else \"context\"],\n",
        "        examples[\"context\" if pad_on_right else \"question\"],\n",
        "        truncation=\"only_second\" if pad_on_right else \"only_first\",\n",
        "        max_length=args.max_length,\n",
        "        stride=args.doc_stride,\n",
        "        return_overflowing_tokens=True,\n",
        "        return_offsets_mapping=True,\n",
        "        padding=\"max_length\",\n",
        "    )\n",
        "\n",
        "    # Since one example might give us several features if it has a long context, we need a map from a feature to\n",
        "    # its corresponding example. This key gives us just that.\n",
        "    sample_mapping = tokenized_examples.pop(\"overflow_to_sample_mapping\")\n",
        "    # The offset mappings will give us a map from token to character position in the original context. This will\n",
        "    # help us compute the start_positions and end_positions.\n",
        "    offset_mapping = tokenized_examples.pop(\"offset_mapping\")\n",
        "\n",
        "    # Let's label those examples!\n",
        "    tokenized_examples[\"start_positions\"] = []\n",
        "    tokenized_examples[\"end_positions\"] = []\n",
        "\n",
        "    for i, offsets in enumerate(offset_mapping):\n",
        "        # We will label impossible answers with the index of the CLS token.\n",
        "        input_ids = tokenized_examples[\"input_ids\"][i]\n",
        "        cls_index = input_ids.index(tokenizer.cls_token_id)\n",
        "\n",
        "        # Grab the sequence corresponding to that example (to know what is the context and what is the question).\n",
        "        sequence_ids = tokenized_examples.sequence_ids(i)\n",
        "\n",
        "        # One example can give several spans, this is the index of the example containing this span of text.\n",
        "        sample_index = sample_mapping[i]\n",
        "        answers = examples[\"answers\"][sample_index]\n",
        "        # If no answers are given, set the cls_index as answer.\n",
        "        if len(answers[\"answer_start\"]) == 0:\n",
        "            tokenized_examples[\"start_positions\"].append(cls_index)\n",
        "            tokenized_examples[\"end_positions\"].append(cls_index)\n",
        "        else:\n",
        "            # Start/end character index of the answer in the text.\n",
        "            start_char = answers[\"answer_start\"][0]\n",
        "            end_char = start_char + len(answers[\"text\"][0])\n",
        "\n",
        "            # Start token index of the current span in the text.\n",
        "            token_start_index = 0\n",
        "            while sequence_ids[token_start_index] != (1 if pad_on_right else 0):\n",
        "                token_start_index += 1\n",
        "\n",
        "            # End token index of the current span in the text.\n",
        "            token_end_index = len(input_ids) - 1\n",
        "            while sequence_ids[token_end_index] != (1 if pad_on_right else 0):\n",
        "                token_end_index -= 1\n",
        "\n",
        "            # Detect if the answer is out of the span (in which case this feature is labeled with the CLS index).\n",
        "            if not (offsets[token_start_index][0] <= start_char and offsets[token_end_index][1] >= end_char):\n",
        "                tokenized_examples[\"start_positions\"].append(cls_index)\n",
        "                tokenized_examples[\"end_positions\"].append(cls_index)\n",
        "            else:\n",
        "                # Otherwise move the token_start_index and token_end_index to the two ends of the answer.\n",
        "                # Note: we could go after the last offset if the answer is the last word (edge case).\n",
        "                while token_start_index < len(offsets) and offsets[token_start_index][0] <= start_char:\n",
        "                    token_start_index += 1\n",
        "                tokenized_examples[\"start_positions\"].append(token_start_index - 1)\n",
        "                while offsets[token_end_index][1] >= end_char:\n",
        "                    token_end_index -= 1\n",
        "                tokenized_examples[\"end_positions\"].append(token_end_index + 1)\n",
        "\n",
        "    return tokenized_examples"
      ],
      "metadata": {
        "id": "D17AuF-am_0y"
      },
      "execution_count": 38,
      "outputs": []
    },
    {
      "cell_type": "code",
      "source": [
        "train_tokenized_dataset = train_dataset.map(prepare_train_features, batched=True, remove_columns=train_dataset.column_names)\n",
        "dev_tokenized_dataset = dev_dataset.map(prepare_train_features, batched=True, remove_columns=dev_dataset.column_names)"
      ],
      "metadata": {
        "colab": {
          "base_uri": "https://localhost:8080/",
          "height": 81,
          "referenced_widgets": [
            "6f384d9785ba4821877898c10fa037a4",
            "c3dd444c193b4dfca6e16c6adfa55605",
            "c79e63c0d97045e19c58568129d826b1",
            "d9494a34ab5041c587a52b144515549d",
            "c5e7d333b0f1464bbc5fe4aa76fe750e",
            "839c71a63cf549db9b3ac7fa64e59d88",
            "c0d6ee92a8af4f10b1ecb56cbf8f4d89",
            "0df2b4cc18b94d0bafb47e297734ae1f",
            "b55d4ed5f6544d93851cb631ee76f09a",
            "8403eac823424cd09a4c64710d8e16f9",
            "b69eda17fc664dd7879517929e7d77a6",
            "f5d4126b07474cc598721ce36823c8bd",
            "bbec71a0dc954f798d2032daa1e380c6",
            "dbc221e1dd35428293c929161ffe8cc2",
            "ef8d12de659b4c96b4f0239d2bce8fdf",
            "8bcf7edcc2d64d35989a08623bd148f7",
            "cbd0eba510a44ad1bd57b5aaf7f13ada",
            "43678aa937c14463b163af1ccc261097",
            "accbc8d11bcc40bb9b0bdc7ab782dc22",
            "588977deff634f56a6717b8bfb0120a1",
            "e6522f33fee24fb0b8fdc15b91ba72cd",
            "dacae49d40c74691974ce0e2645df77e"
          ]
        },
        "id": "wNdLUW_VnhwQ",
        "outputId": "b0f7c60a-8418-40e2-a025-f4c4f1da2b31"
      },
      "execution_count": 39,
      "outputs": [
        {
          "output_type": "display_data",
          "data": {
            "text/plain": [
              "  0%|          | 0/409 [00:00<?, ?ba/s]"
            ],
            "application/vnd.jupyter.widget-view+json": {
              "version_major": 2,
              "version_minor": 0,
              "model_id": "6f384d9785ba4821877898c10fa037a4"
            }
          },
          "metadata": {}
        },
        {
          "output_type": "display_data",
          "data": {
            "text/plain": [
              "  0%|          | 0/3 [00:00<?, ?ba/s]"
            ],
            "application/vnd.jupyter.widget-view+json": {
              "version_major": 2,
              "version_minor": 0,
              "model_id": "f5d4126b07474cc598721ce36823c8bd"
            }
          },
          "metadata": {}
        }
      ]
    },
    {
      "cell_type": "markdown",
      "source": [
        "# 2️⃣ Training & Fine-tuning the model"
      ],
      "metadata": {
        "id": "WXj8jILJ-lWV"
      }
    },
    {
      "cell_type": "code",
      "source": [
        "training_args = TrainingArguments(\n",
        "    f\"{args.name}-finetuned-klue\",\n",
        "    evaluation_strategy=\"epoch\",\n",
        "    save_strategy='epoch',\n",
        "    logging_strategy='epoch',\n",
        "    learning_rate=args.lr,\n",
        "    per_device_train_batch_size=args.batch_size.train // args.accumulation,\n",
        "    per_device_eval_batch_size=args.batch_size.dev // args.accumulation,\n",
        "    num_train_epochs=args.epochs,\n",
        "    gradient_accumulation_steps=args.accumulation, # Number of updates steps to accumulate the gradients for, before performing a backward/update pass.\n",
        "    fp16=True, # Whether to use fp16 16-bit (mixed) precision training instead of 32-bit training.\n",
        "    weight_decay=0.01,\n",
        "    report_to = 'wandb',\n",
        "    load_best_model_at_end = True,\n",
        "    seed=args.seed\n",
        ")"
      ],
      "metadata": {
        "id": "dqQ_o-ijoV_E"
      },
      "execution_count": 41,
      "outputs": []
    },
    {
      "cell_type": "code",
      "source": [
        "training_args"
      ],
      "metadata": {
        "colab": {
          "base_uri": "https://localhost:8080/"
        },
        "id": "Jx9HtVB2pHnL",
        "outputId": "4b2b3e69-78a4-414e-8c52-880683be1b20"
      },
      "execution_count": 42,
      "outputs": [
        {
          "output_type": "execute_result",
          "data": {
            "text/plain": [
              "TrainingArguments(\n",
              "_n_gpu=1,\n",
              "adafactor=False,\n",
              "adam_beta1=0.9,\n",
              "adam_beta2=0.999,\n",
              "adam_epsilon=1e-08,\n",
              "auto_find_batch_size=False,\n",
              "bf16=False,\n",
              "bf16_full_eval=False,\n",
              "data_seed=None,\n",
              "dataloader_drop_last=False,\n",
              "dataloader_num_workers=0,\n",
              "dataloader_pin_memory=True,\n",
              "ddp_bucket_cap_mb=None,\n",
              "ddp_find_unused_parameters=None,\n",
              "ddp_timeout=1800,\n",
              "debug=[],\n",
              "deepspeed=None,\n",
              "disable_tqdm=False,\n",
              "do_eval=True,\n",
              "do_predict=False,\n",
              "do_train=False,\n",
              "eval_accumulation_steps=None,\n",
              "eval_delay=0,\n",
              "eval_steps=None,\n",
              "evaluation_strategy=epoch,\n",
              "fp16=True,\n",
              "fp16_backend=auto,\n",
              "fp16_full_eval=False,\n",
              "fp16_opt_level=O1,\n",
              "fsdp=[],\n",
              "fsdp_min_num_params=0,\n",
              "fsdp_transformer_layer_cls_to_wrap=None,\n",
              "full_determinism=False,\n",
              "gradient_accumulation_steps=32,\n",
              "gradient_checkpointing=False,\n",
              "greater_is_better=False,\n",
              "group_by_length=False,\n",
              "half_precision_backend=auto,\n",
              "hub_model_id=None,\n",
              "hub_private_repo=False,\n",
              "hub_strategy=every_save,\n",
              "hub_token=<HUB_TOKEN>,\n",
              "ignore_data_skip=False,\n",
              "include_inputs_for_metrics=False,\n",
              "jit_mode_eval=False,\n",
              "label_names=None,\n",
              "label_smoothing_factor=0.0,\n",
              "learning_rate=1e-05,\n",
              "length_column_name=length,\n",
              "load_best_model_at_end=True,\n",
              "local_rank=-1,\n",
              "log_level=passive,\n",
              "log_level_replica=passive,\n",
              "log_on_each_node=True,\n",
              "logging_dir=kobigbird-bert-base_lr1e-05_ep30_max1024_918-finetuned-klue/runs/Jan09_04-01-59_466bdcba2f59,\n",
              "logging_first_step=False,\n",
              "logging_nan_inf_filter=True,\n",
              "logging_steps=500,\n",
              "logging_strategy=steps,\n",
              "lr_scheduler_type=linear,\n",
              "max_grad_norm=1.0,\n",
              "max_steps=-1,\n",
              "metric_for_best_model=loss,\n",
              "mp_parameters=,\n",
              "no_cuda=False,\n",
              "num_train_epochs=30,\n",
              "optim=adamw_hf,\n",
              "optim_args=None,\n",
              "output_dir=kobigbird-bert-base_lr1e-05_ep30_max1024_918-finetuned-klue,\n",
              "overwrite_output_dir=False,\n",
              "past_index=-1,\n",
              "per_device_eval_batch_size=4,\n",
              "per_device_train_batch_size=4,\n",
              "prediction_loss_only=False,\n",
              "push_to_hub=False,\n",
              "push_to_hub_model_id=None,\n",
              "push_to_hub_organization=None,\n",
              "push_to_hub_token=<PUSH_TO_HUB_TOKEN>,\n",
              "ray_scope=last,\n",
              "remove_unused_columns=True,\n",
              "report_to=['wandb'],\n",
              "resume_from_checkpoint=None,\n",
              "run_name=kobigbird-bert-base_lr1e-05_ep30_max1024_918-finetuned-klue,\n",
              "save_on_each_node=False,\n",
              "save_steps=500,\n",
              "save_strategy=epoch,\n",
              "save_total_limit=None,\n",
              "seed=42,\n",
              "sharded_ddp=[],\n",
              "skip_memory_metrics=True,\n",
              "tf32=None,\n",
              "torchdynamo=None,\n",
              "tpu_metrics_debug=False,\n",
              "tpu_num_cores=None,\n",
              "use_ipex=False,\n",
              "use_legacy_prediction_loop=False,\n",
              "use_mps_device=False,\n",
              "warmup_ratio=0.0,\n",
              "warmup_steps=0,\n",
              "weight_decay=0.01,\n",
              "xpu_backend=None,\n",
              ")"
            ]
          },
          "metadata": {},
          "execution_count": 42
        }
      ]
    },
    {
      "cell_type": "code",
      "source": [
        "data_collator = default_data_collator"
      ],
      "metadata": {
        "id": "KURT-wp2pBT9"
      },
      "execution_count": 43,
      "outputs": []
    },
    {
      "cell_type": "code",
      "source": [
        "optimizer = torch.optim.AdamW(model.parameters(), lr=args.lr, weight_decay=0.01)\n",
        "scheduler = get_cosine_schedule_with_warmup(optimizer=optimizer, num_warmup_steps=2000, num_training_steps=60000)\n",
        "optimizers = optimizer, scheduler"
      ],
      "metadata": {
        "id": "YyB8EfFnqwt5"
      },
      "execution_count": 44,
      "outputs": []
    },
    {
      "cell_type": "code",
      "source": [
        "trainer = Trainer(\n",
        "    model,\n",
        "    training_args,\n",
        "    train_dataset=train_tokenized_dataset,\n",
        "    eval_dataset=dev_tokenized_dataset,\n",
        "    data_collator=data_collator,\n",
        "    tokenizer=tokenizer,\n",
        "    optimizers=optimizers,\n",
        "    callbacks=[EarlyStoppingCallback(early_stopping_patience=5)] # https://huggingface.co/docs/transformers/main_classes/callback#transformers.EarlyStoppingCallback\n",
        ")"
      ],
      "metadata": {
        "id": "9k8m7rbCpErP",
        "colab": {
          "base_uri": "https://localhost:8080/"
        },
        "outputId": "71521107-c249-40ca-9cd3-dc7d354e084b"
      },
      "execution_count": 45,
      "outputs": [
        {
          "output_type": "stream",
          "name": "stderr",
          "text": [
            "Using cuda_amp half precision backend\n"
          ]
        }
      ]
    },
    {
      "cell_type": "code",
      "source": [
        "trainer.train()"
      ],
      "metadata": {
        "colab": {
          "base_uri": "https://localhost:8080/",
          "height": 526
        },
        "id": "6W6poC8TpxV7",
        "outputId": "d9803944-a25e-4330-f76f-ffa729c3f11b"
      },
      "execution_count": 46,
      "outputs": [
        {
          "output_type": "stream",
          "name": "stderr",
          "text": [
            "***** Running training *****\n",
            "  Num examples = 416674\n",
            "  Num Epochs = 30\n",
            "  Instantaneous batch size per device = 4\n",
            "  Total train batch size (w. parallel, distributed & accumulation) = 128\n",
            "  Gradient Accumulation steps = 32\n",
            "  Total optimization steps = 97650\n",
            "  Number of trainable parameters = 117888770\n",
            "Automatic Weights & Biases logging enabled, to disable set os.environ[\"WANDB_DISABLED\"] = \"true\"\n"
          ]
        },
        {
          "output_type": "display_data",
          "data": {
            "text/plain": [
              "<IPython.core.display.HTML object>"
            ],
            "text/html": [
              "\n",
              "    <div>\n",
              "      \n",
              "      <progress value='275' max='97650' style='width:300px; height:20px; vertical-align: middle;'></progress>\n",
              "      [  275/97650 2:08:36 < 764:34:46, 0.04 it/s, Epoch 0.08/30]\n",
              "    </div>\n",
              "    <table border=\"1\" class=\"dataframe\">\n",
              "  <thead>\n",
              " <tr style=\"text-align: left;\">\n",
              "      <th>Epoch</th>\n",
              "      <th>Training Loss</th>\n",
              "      <th>Validation Loss</th>\n",
              "    </tr>\n",
              "  </thead>\n",
              "  <tbody>\n",
              "  </tbody>\n",
              "</table><p>"
            ]
          },
          "metadata": {}
        },
        {
          "output_type": "error",
          "ename": "KeyboardInterrupt",
          "evalue": "ignored",
          "traceback": [
            "\u001b[0;31m---------------------------------------------------------------------------\u001b[0m",
            "\u001b[0;31mKeyboardInterrupt\u001b[0m                         Traceback (most recent call last)",
            "\u001b[0;32m<ipython-input-46-3435b262f1ae>\u001b[0m in \u001b[0;36m<module>\u001b[0;34m\u001b[0m\n\u001b[0;32m----> 1\u001b[0;31m \u001b[0mtrainer\u001b[0m\u001b[0;34m.\u001b[0m\u001b[0mtrain\u001b[0m\u001b[0;34m(\u001b[0m\u001b[0;34m)\u001b[0m\u001b[0;34m\u001b[0m\u001b[0;34m\u001b[0m\u001b[0m\n\u001b[0m",
            "\u001b[0;32m/usr/local/lib/python3.8/dist-packages/transformers/trainer.py\u001b[0m in \u001b[0;36mtrain\u001b[0;34m(self, resume_from_checkpoint, trial, ignore_keys_for_eval, **kwargs)\u001b[0m\n\u001b[1;32m   1525\u001b[0m             \u001b[0mself\u001b[0m\u001b[0;34m.\u001b[0m\u001b[0m_inner_training_loop\u001b[0m\u001b[0;34m,\u001b[0m \u001b[0mself\u001b[0m\u001b[0;34m.\u001b[0m\u001b[0m_train_batch_size\u001b[0m\u001b[0;34m,\u001b[0m \u001b[0margs\u001b[0m\u001b[0;34m.\u001b[0m\u001b[0mauto_find_batch_size\u001b[0m\u001b[0;34m\u001b[0m\u001b[0;34m\u001b[0m\u001b[0m\n\u001b[1;32m   1526\u001b[0m         )\n\u001b[0;32m-> 1527\u001b[0;31m         return inner_training_loop(\n\u001b[0m\u001b[1;32m   1528\u001b[0m             \u001b[0margs\u001b[0m\u001b[0;34m=\u001b[0m\u001b[0margs\u001b[0m\u001b[0;34m,\u001b[0m\u001b[0;34m\u001b[0m\u001b[0;34m\u001b[0m\u001b[0m\n\u001b[1;32m   1529\u001b[0m             \u001b[0mresume_from_checkpoint\u001b[0m\u001b[0;34m=\u001b[0m\u001b[0mresume_from_checkpoint\u001b[0m\u001b[0;34m,\u001b[0m\u001b[0;34m\u001b[0m\u001b[0;34m\u001b[0m\u001b[0m\n",
            "\u001b[0;32m/usr/local/lib/python3.8/dist-packages/transformers/trainer.py\u001b[0m in \u001b[0;36m_inner_training_loop\u001b[0;34m(self, batch_size, args, resume_from_checkpoint, trial, ignore_keys_for_eval)\u001b[0m\n\u001b[1;32m   1773\u001b[0m                         \u001b[0mtr_loss_step\u001b[0m \u001b[0;34m=\u001b[0m \u001b[0mself\u001b[0m\u001b[0;34m.\u001b[0m\u001b[0mtraining_step\u001b[0m\u001b[0;34m(\u001b[0m\u001b[0mmodel\u001b[0m\u001b[0;34m,\u001b[0m \u001b[0minputs\u001b[0m\u001b[0;34m)\u001b[0m\u001b[0;34m\u001b[0m\u001b[0;34m\u001b[0m\u001b[0m\n\u001b[1;32m   1774\u001b[0m                 \u001b[0;32melse\u001b[0m\u001b[0;34m:\u001b[0m\u001b[0;34m\u001b[0m\u001b[0;34m\u001b[0m\u001b[0m\n\u001b[0;32m-> 1775\u001b[0;31m                     \u001b[0mtr_loss_step\u001b[0m \u001b[0;34m=\u001b[0m \u001b[0mself\u001b[0m\u001b[0;34m.\u001b[0m\u001b[0mtraining_step\u001b[0m\u001b[0;34m(\u001b[0m\u001b[0mmodel\u001b[0m\u001b[0;34m,\u001b[0m \u001b[0minputs\u001b[0m\u001b[0;34m)\u001b[0m\u001b[0;34m\u001b[0m\u001b[0;34m\u001b[0m\u001b[0m\n\u001b[0m\u001b[1;32m   1776\u001b[0m \u001b[0;34m\u001b[0m\u001b[0m\n\u001b[1;32m   1777\u001b[0m                 if (\n",
            "\u001b[0;32m/usr/local/lib/python3.8/dist-packages/transformers/trainer.py\u001b[0m in \u001b[0;36mtraining_step\u001b[0;34m(self, model, inputs)\u001b[0m\n\u001b[1;32m   2531\u001b[0m \u001b[0;34m\u001b[0m\u001b[0m\n\u001b[1;32m   2532\u001b[0m         \u001b[0;32mif\u001b[0m \u001b[0mself\u001b[0m\u001b[0;34m.\u001b[0m\u001b[0mdo_grad_scaling\u001b[0m\u001b[0;34m:\u001b[0m\u001b[0;34m\u001b[0m\u001b[0;34m\u001b[0m\u001b[0m\n\u001b[0;32m-> 2533\u001b[0;31m             \u001b[0mself\u001b[0m\u001b[0;34m.\u001b[0m\u001b[0mscaler\u001b[0m\u001b[0;34m.\u001b[0m\u001b[0mscale\u001b[0m\u001b[0;34m(\u001b[0m\u001b[0mloss\u001b[0m\u001b[0;34m)\u001b[0m\u001b[0;34m.\u001b[0m\u001b[0mbackward\u001b[0m\u001b[0;34m(\u001b[0m\u001b[0;34m)\u001b[0m\u001b[0;34m\u001b[0m\u001b[0;34m\u001b[0m\u001b[0m\n\u001b[0m\u001b[1;32m   2534\u001b[0m         \u001b[0;32melif\u001b[0m \u001b[0mself\u001b[0m\u001b[0;34m.\u001b[0m\u001b[0muse_apex\u001b[0m\u001b[0;34m:\u001b[0m\u001b[0;34m\u001b[0m\u001b[0;34m\u001b[0m\u001b[0m\n\u001b[1;32m   2535\u001b[0m             \u001b[0;32mwith\u001b[0m \u001b[0mamp\u001b[0m\u001b[0;34m.\u001b[0m\u001b[0mscale_loss\u001b[0m\u001b[0;34m(\u001b[0m\u001b[0mloss\u001b[0m\u001b[0;34m,\u001b[0m \u001b[0mself\u001b[0m\u001b[0;34m.\u001b[0m\u001b[0moptimizer\u001b[0m\u001b[0;34m)\u001b[0m \u001b[0;32mas\u001b[0m \u001b[0mscaled_loss\u001b[0m\u001b[0;34m:\u001b[0m\u001b[0;34m\u001b[0m\u001b[0;34m\u001b[0m\u001b[0m\n",
            "\u001b[0;32m/usr/local/lib/python3.8/dist-packages/torch/_tensor.py\u001b[0m in \u001b[0;36mbackward\u001b[0;34m(self, gradient, retain_graph, create_graph, inputs)\u001b[0m\n\u001b[1;32m    485\u001b[0m                 \u001b[0minputs\u001b[0m\u001b[0;34m=\u001b[0m\u001b[0minputs\u001b[0m\u001b[0;34m,\u001b[0m\u001b[0;34m\u001b[0m\u001b[0;34m\u001b[0m\u001b[0m\n\u001b[1;32m    486\u001b[0m             )\n\u001b[0;32m--> 487\u001b[0;31m         torch.autograd.backward(\n\u001b[0m\u001b[1;32m    488\u001b[0m             \u001b[0mself\u001b[0m\u001b[0;34m,\u001b[0m \u001b[0mgradient\u001b[0m\u001b[0;34m,\u001b[0m \u001b[0mretain_graph\u001b[0m\u001b[0;34m,\u001b[0m \u001b[0mcreate_graph\u001b[0m\u001b[0;34m,\u001b[0m \u001b[0minputs\u001b[0m\u001b[0;34m=\u001b[0m\u001b[0minputs\u001b[0m\u001b[0;34m\u001b[0m\u001b[0;34m\u001b[0m\u001b[0m\n\u001b[1;32m    489\u001b[0m         )\n",
            "\u001b[0;32m/usr/local/lib/python3.8/dist-packages/torch/autograd/__init__.py\u001b[0m in \u001b[0;36mbackward\u001b[0;34m(tensors, grad_tensors, retain_graph, create_graph, grad_variables, inputs)\u001b[0m\n\u001b[1;32m    195\u001b[0m     \u001b[0;31m# some Python versions print out the first line of a multi-line function\u001b[0m\u001b[0;34m\u001b[0m\u001b[0;34m\u001b[0m\u001b[0;34m\u001b[0m\u001b[0m\n\u001b[1;32m    196\u001b[0m     \u001b[0;31m# calls in the traceback and some print out the last line\u001b[0m\u001b[0;34m\u001b[0m\u001b[0;34m\u001b[0m\u001b[0;34m\u001b[0m\u001b[0m\n\u001b[0;32m--> 197\u001b[0;31m     Variable._execution_engine.run_backward(  # Calls into the C++ engine to run the backward pass\n\u001b[0m\u001b[1;32m    198\u001b[0m         \u001b[0mtensors\u001b[0m\u001b[0;34m,\u001b[0m \u001b[0mgrad_tensors_\u001b[0m\u001b[0;34m,\u001b[0m \u001b[0mretain_graph\u001b[0m\u001b[0;34m,\u001b[0m \u001b[0mcreate_graph\u001b[0m\u001b[0;34m,\u001b[0m \u001b[0minputs\u001b[0m\u001b[0;34m,\u001b[0m\u001b[0;34m\u001b[0m\u001b[0;34m\u001b[0m\u001b[0m\n\u001b[1;32m    199\u001b[0m         allow_unreachable=True, accumulate_grad=True)  # Calls into the C++ engine to run the backward pass\n",
            "\u001b[0;31mKeyboardInterrupt\u001b[0m: "
          ]
        }
      ]
    },
    {
      "cell_type": "code",
      "source": [
        "trainer.save_model(f\"{args.name}-finetuned-klue\")"
      ],
      "metadata": {
        "id": "jI-4xjQMpzvc",
        "colab": {
          "base_uri": "https://localhost:8080/"
        },
        "outputId": "ca2071e7-978b-4793-9750-bfce1990f981"
      },
      "execution_count": 109,
      "outputs": [
        {
          "output_type": "stream",
          "name": "stderr",
          "text": [
            "Saving model checkpoint to kobigbird-bert-base_lr1e-05_ep5_max1024_125-finetuned-klue\n",
            "Configuration saved in kobigbird-bert-base_lr1e-05_ep5_max1024_125-finetuned-klue/config.json\n",
            "Model weights saved in kobigbird-bert-base_lr1e-05_ep5_max1024_125-finetuned-klue/pytorch_model.bin\n",
            "tokenizer config file saved in kobigbird-bert-base_lr1e-05_ep5_max1024_125-finetuned-klue/tokenizer_config.json\n",
            "Special tokens file saved in kobigbird-bert-base_lr1e-05_ep5_max1024_125-finetuned-klue/special_tokens_map.json\n"
          ]
        }
      ]
    },
    {
      "cell_type": "code",
      "source": [
        "def plot_dict(dict_arrays, start_step=0, step_size=1, use_title=None, points_values=False, points_round=3,\n",
        "              use_xlabel=None, use_xticks=True, use_rotation_xticks=0, xticks_labels=None, use_ylabel=None,\n",
        "              style_sheet='ggplot', use_grid=True, use_linestyles=None, font_size=None, width=3, height=1, magnify=1.2,\n",
        "              use_dpi=50, path=None, show_plot=True):\n",
        "    # Check if `dict_arrays` is the correct format.\n",
        "    if not isinstance(dict_arrays, dict):\n",
        "        # Raise value error.\n",
        "        raise ValueError(\"`dict_arrays` needs to be a dictionary of values!\")\n",
        "\n",
        "    # Check each label\n",
        "    for label, array in dict_arrays.items():\n",
        "        # Check if format is correct.\n",
        "        if not isinstance(label, str):\n",
        "            # Raise value error.\n",
        "            raise ValueError(\"`dict_arrays` needs string keys!\")\n",
        "        if not isinstance(array, list) or isinstance(array, np.ndarray):\n",
        "            # Raise value error.\n",
        "            raise ValueError(\"`dict_arrays` needs lists values!\")\n",
        "\n",
        "    # Make sure style sheet is correct.\n",
        "    if style_sheet in plt.style.available:\n",
        "        # Set style of plot\n",
        "        plt.style.use(style_sheet)\n",
        "    else:\n",
        "        # Style is not correct.\n",
        "        raise ValueError(\"`style_sheet=%s` is not in the supported styles: %s\" % (str(style_sheet),\n",
        "                                                                                  str(plt.style.available)))\n",
        "\n",
        "    # all linestyles.\n",
        "    linestyles = ['-', '--', '-.', ':']\n",
        "\n",
        "    # Make sure `font_size` is set right.\n",
        "    if (font_size is not None) and (font_size <= 0):\n",
        "        # Raise value error -  is not correct.\n",
        "        raise ValueError(f'`font_size` needs to be positive number! Invalid value {font_size}')\n",
        "\n",
        "    # Font variables dictionary. Keep it in this format for future updates.\n",
        "    font_dict = dict(\n",
        "        family='DejaVu Sans',\n",
        "        color='black',\n",
        "        weight='normal',\n",
        "        size=font_size,\n",
        "    )\n",
        "\n",
        "    # Single plot figure.\n",
        "    plt.subplot(1, 2, 1)\n",
        "\n",
        "    # Use maximum length of steps. In case each arrya has different lengths.\n",
        "    max_steps = []\n",
        "\n",
        "    # Plot each array.\n",
        "    for index, (use_label, array) in enumerate(dict_arrays.items()):\n",
        "        # Set steps plotted on x-axis - we can use step if 1 unit has different value.\n",
        "        if start_step > 0:\n",
        "            # Offset all steps by start_step.\n",
        "            steps = np.array(range(0, len(array))) * step_size + start_step\n",
        "            max_steps = steps if len(max_steps) < len(steps) else max_steps\n",
        "        else:\n",
        "            steps = np.array(range(1, len(array) + 1)) * step_size\n",
        "            max_steps = steps if len(max_steps) < len(steps) else max_steps\n",
        "\n",
        "        # Plot array as a single line.\n",
        "        plt.plot(steps, array, label=use_label)\n",
        "\n",
        "    # Set horizontal axis name.\n",
        "    plt.xlabel(use_xlabel, fontdict=font_dict)\n",
        "\n",
        "    # Use x ticks with steps or labels.\n",
        "    plt.xticks(max_steps, xticks_labels, rotation=use_rotation_xticks) if use_xticks else None\n",
        "\n",
        "    # Set vertical axis name.\n",
        "    plt.ylabel(use_ylabel, fontdict=font_dict)\n",
        "\n",
        "    # Adjust both axis labels font size at same time.\n",
        "    plt.tick_params(labelsize=font_dict['size'])\n",
        "\n",
        "    # Place legend best position.\n",
        "    plt.legend(loc='best', fontsize=font_dict['size'])\n",
        "\n",
        "    # Set title of figure.\n",
        "    plt.title(use_title, fontdict=font_dict)\n",
        "\n",
        "    # Display grid depending on `use_grid`.\n",
        "    plt.grid(use_grid)\n",
        "\n",
        "    # Make figure nice.\n",
        "    plt.tight_layout()\n",
        "\n",
        "    # Get figure object from plot.\n",
        "    fig = plt.gcf()\n",
        "\n",
        "    # Get size of figure.\n",
        "    figsize = fig.get_size_inches()\n",
        "\n",
        "    # Change size depending on height and width variables.\n",
        "    figsize = [figsize[0] * width * magnify, figsize[1] * height * magnify]\n",
        "\n",
        "    # Set the new figure size with magnify.\n",
        "    fig.set_size_inches(figsize)\n",
        "\n",
        "    # Show plot.\n",
        "    plt.show() if show_plot is True else None\n",
        "\n",
        "    return"
      ],
      "metadata": {
        "id": "Et5hDaiQ7HyO"
      },
      "execution_count": 110,
      "outputs": []
    },
    {
      "cell_type": "code",
      "source": [
        "# Keep track of train and evaluate loss.\n",
        "loss_history = {'train_loss':[], 'eval_loss':[]}\n",
        " \n",
        "# Keep track of train and evaluate perplexity.\n",
        "# This is a metric useful to track for language models.\n",
        "perplexity_history = {'train_perplexity':[], 'eval_perplexity':[]}\n",
        " \n",
        "# Loop through each log history.\n",
        "for log_history in trainer.state.log_history:\n",
        " \n",
        "  if 'loss' in log_history.keys():\n",
        "    # Deal with trianing loss.\n",
        "    loss_history['train_loss'].append(log_history['loss'])\n",
        "    perplexity_history['train_perplexity'].append(math.exp(log_history['loss']))\n",
        "     \n",
        "  elif 'eval_loss' in log_history.keys():\n",
        "    # Deal with eval loss.\n",
        "    loss_history['eval_loss'].append(log_history['eval_loss'])\n",
        "    perplexity_history['eval_perplexity'].append(math.exp(log_history['eval_loss']))\n",
        " \n",
        "# Plot Losses.\n",
        "plot_dict(loss_history, start_step=training_args.logging_steps, \n",
        "          step_size=training_args.logging_steps, use_title='Loss', \n",
        "          use_xlabel='Train Steps', use_ylabel='Loss', magnify=2)\n",
        " \n",
        "print()\n",
        " \n",
        "# Plot Perplexities.\n",
        "plot_dict(perplexity_history, start_step=training_args.logging_steps, \n",
        "          step_size=training_args.logging_steps, use_title='Perplexity', \n",
        "          use_xlabel='Train Steps', use_ylabel='Perplexity', magnify=2)"
      ],
      "metadata": {
        "id": "5FhMtOtM8F9n",
        "colab": {
          "base_uri": "https://localhost:8080/",
          "height": 1000
        },
        "outputId": "5e35460b-36dc-4e2e-c585-1862a2c4cc98"
      },
      "execution_count": 111,
      "outputs": [
        {
          "output_type": "display_data",
          "data": {
            "text/plain": [
              "<Figure size 2592x576 with 1 Axes>"
            ],
            "image/png": "[encoded data removed]"
          },
          "metadata": {}
        },
        {
          "output_type": "stream",
          "name": "stdout",
          "text": [
            "\n"
          ]
        },
        {
          "output_type": "display_data",
          "data": {
            "text/plain": [
              "<Figure size 2592x576 with 1 Axes>"
            ],
            "image/png": "[encoded data removed]"
          },
          "metadata": {}
        }
      ]
    },
    {
      "cell_type": "markdown",
      "source": [
        "# 3️⃣ Evaluation"
      ],
      "metadata": {
        "id": "4kj3LBSi-rQk"
      }
    },
    {
      "cell_type": "code",
      "source": [
        "pad_on_right = tokenizer.padding_side == \"right\""
      ],
      "metadata": {
        "id": "sf-WzvizFbpQ"
      },
      "execution_count": 55,
      "outputs": []
    },
    {
      "cell_type": "code",
      "source": [
        "def prepare_validation_features(examples):\n",
        "    # Some of the questions have lots of whitespace on the left, which is not useful and will make the\n",
        "    # truncation of the context fail (the tokenized question will take a lots of space). So we remove that\n",
        "    # left whitespace\n",
        "    examples[\"question\"] = [q.lstrip() for q in examples[\"question\"]]\n",
        "\n",
        "    # Tokenize our examples with truncation and maybe padding, but keep the overflows using a stride. This results\n",
        "    # in one example possible giving several features when a context is long, each of those features having a\n",
        "    # context that overlaps a bit the context of the previous feature.\n",
        "    tokenized_examples = tokenizer(\n",
        "        examples[\"question\" if pad_on_right else \"context\"],\n",
        "        examples[\"context\" if pad_on_right else \"question\"],\n",
        "        truncation=\"only_second\" if pad_on_right else \"only_first\",\n",
        "        max_length=args.max_length,\n",
        "        stride=args.doc_stride,\n",
        "        return_overflowing_tokens=True,\n",
        "        return_offsets_mapping=True,\n",
        "        padding=\"max_length\",\n",
        "    )\n",
        "\n",
        "    # Since one example might give us several features if it has a long context, we need a map from a feature to\n",
        "    # its corresponding example. This key gives us just that.\n",
        "    sample_mapping = tokenized_examples.pop(\"overflow_to_sample_mapping\")\n",
        "\n",
        "    # We keep the example_id that gave us this feature and we will store the offset mappings.\n",
        "    tokenized_examples[\"example_id\"] = []\n",
        "\n",
        "    for i in range(len(tokenized_examples[\"input_ids\"])):\n",
        "        # Grab the sequence corresponding to that example (to know what is the context and what is the question).\n",
        "        sequence_ids = tokenized_examples.sequence_ids(i)\n",
        "        context_index = 1 if pad_on_right else 0\n",
        "\n",
        "        # One example can give several spans, this is the index of the example containing this span of text.\n",
        "        sample_index = sample_mapping[i]\n",
        "        tokenized_examples[\"example_id\"].append(examples[\"id\"][sample_index])\n",
        "\n",
        "        # Set to None the offset_mapping that are not part of the context so it's easy to determine if a token\n",
        "        # position is part of the context or not.\n",
        "        tokenized_examples[\"offset_mapping\"][i] = [\n",
        "            (o if sequence_ids[k] == context_index else None)\n",
        "            for k, o in enumerate(tokenized_examples[\"offset_mapping\"][i])\n",
        "        ]\n",
        "\n",
        "    return tokenized_examples"
      ],
      "metadata": {
        "id": "udAv3Ot6y71a"
      },
      "execution_count": 56,
      "outputs": []
    },
    {
      "cell_type": "code",
      "source": [
        "validation_features = dev_dataset.map(\n",
        "    prepare_validation_features,\n",
        "    batched=True,\n",
        "    remove_columns=dev_dataset.column_names\n",
        ")"
      ],
      "metadata": {
        "colab": {
          "base_uri": "https://localhost:8080/",
          "height": 49,
          "referenced_widgets": [
            "e0af16081c6b4f22aa35c048463256d2",
            "d596ed11ab3c4f50adc99fe0588c2a54",
            "39cd54bcdd4949c092b1af513cc3802f",
            "b640bdcc2441415085e87d73b9a3d484",
            "b446f4c04bd240d3ada8c1856d99c5ad",
            "01d7906ed2af43fe82e912e24c9de195",
            "897526d8191f4eddafadeed3c03974db",
            "f8b3f8fa80814b09b3b289bdde842de5",
            "47a782eb676642749714d61ac19ecd96",
            "304c76bf233b45f6b89039765b230bf2",
            "28d1664d674f4737ba0e070ad1f43ce5"
          ]
        },
        "id": "opskRwAJzAbj",
        "outputId": "80ffe15f-22e2-4065-aef4-9d46927452d6"
      },
      "execution_count": 57,
      "outputs": [
        {
          "output_type": "display_data",
          "data": {
            "text/plain": [
              "  0%|          | 0/3 [00:00<?, ?ba/s]"
            ],
            "application/vnd.jupyter.widget-view+json": {
              "version_major": 2,
              "version_minor": 0,
              "model_id": "e0af16081c6b4f22aa35c048463256d2"
            }
          },
          "metadata": {}
        }
      ]
    },
    {
      "cell_type": "code",
      "source": [
        "raw_predictions = trainer.predict(validation_features)"
      ],
      "metadata": {
        "colab": {
          "base_uri": "https://localhost:8080/",
          "height": 106
        },
        "id": "SPhxaB4W0A9p",
        "outputId": "26aaa7c9-a5b8-4b29-aee9-47f46540b79d"
      },
      "execution_count": 114,
      "outputs": [
        {
          "output_type": "stream",
          "name": "stderr",
          "text": [
            "The following columns in the test set don't have a corresponding argument in `BigBirdForQuestionAnswering.forward` and have been ignored: offset_mapping, example_id. If offset_mapping, example_id are not expected by `BigBirdForQuestionAnswering.forward`,  you can safely ignore this message.\n",
            "***** Running Prediction *****\n",
            "  Num examples = 2442\n",
            "  Batch size = 1\n"
          ]
        },
        {
          "output_type": "display_data",
          "data": {
            "text/plain": [
              "<IPython.core.display.HTML object>"
            ],
            "text/html": []
          },
          "metadata": {}
        }
      ]
    },
    {
      "cell_type": "code",
      "source": [
        "with open(f'output/raw_predictions-{args.name}-finetuned-klue.pkl', 'wb') as fd:\n",
        "    pickle.dump(raw_predictions, fd)"
      ],
      "metadata": {
        "id": "sETIkKvxQQyx"
      },
      "execution_count": 115,
      "outputs": []
    },
    {
      "cell_type": "code",
      "source": [
        "'''with open(f'output/raw_predictions-kobigbird-bert-base_lr1e-05_ep5_max1024_125-finetuned-klue.pkl', 'rb') as fd:\n",
        "    raw_predictions = pickle.load(fd)'''"
      ],
      "metadata": {
        "id": "vQKEyahpQ34m"
      },
      "execution_count": 16,
      "outputs": []
    },
    {
      "cell_type": "markdown",
      "source": [
        "## Postprocessing"
      ],
      "metadata": {
        "id": "FEAkIiboCaq_"
      }
    },
    {
      "cell_type": "code",
      "source": [
        "def postprocess_qa_predictions(examples, features, raw_predictions, n_best_size = 20, max_answer_length = 30):\n",
        "    all_start_logits, all_end_logits = raw_predictions\n",
        "    # Build a map example to its corresponding features.\n",
        "    example_id_to_index = {k: i for i, k in enumerate(examples[\"id\"])}\n",
        "    features_per_example = defaultdict(list)\n",
        "    for i, feature in enumerate(features):\n",
        "        features_per_example[example_id_to_index[feature[\"example_id\"]]].append(i)\n",
        "\n",
        "    # The dictionaries we have to fill.\n",
        "    predictions = OrderedDict()\n",
        "\n",
        "    # Logging.\n",
        "    print(f\"Post-processing {len(examples)} example predictions split into {len(features)} features.\")\n",
        "\n",
        "    # Let's loop over all the examples!\n",
        "    for example_index, example in enumerate(tqdm(examples)):\n",
        "        # Those are the indices of the features associated to the current example.\n",
        "        feature_indices = features_per_example[example_index]\n",
        "\n",
        "        min_null_score = None # Only used if squad_v2 is True.\n",
        "        valid_answers = []\n",
        "        \n",
        "        context = example[\"context\"]\n",
        "        # Looping through all the features associated to the current example.\n",
        "        for feature_index in feature_indices:\n",
        "            # We grab the predictions of the model for this feature.\n",
        "            start_logits = all_start_logits[feature_index]\n",
        "            end_logits = all_end_logits[feature_index]\n",
        "            # This is what will allow us to map some the positions in our logits to span of texts in the original\n",
        "            # context.\n",
        "            offset_mapping = features[feature_index][\"offset_mapping\"]\n",
        "\n",
        "            # Update minimum null prediction.\n",
        "            cls_index = features[feature_index][\"input_ids\"].index(tokenizer.cls_token_id)\n",
        "            feature_null_score = start_logits[cls_index] + end_logits[cls_index]\n",
        "            if min_null_score is None or min_null_score < feature_null_score:\n",
        "                min_null_score = feature_null_score\n",
        "\n",
        "            # Go through all possibilities for the `n_best_size` greater start and end logits.\n",
        "            start_indexes = np.argsort(start_logits)[-1 : -n_best_size - 1 : -1].tolist()\n",
        "            end_indexes = np.argsort(end_logits)[-1 : -n_best_size - 1 : -1].tolist()\n",
        "            for start_index in start_indexes:\n",
        "                for end_index in end_indexes:\n",
        "                    # Don't consider out-of-scope answers, either because the indices are out of bounds or correspond\n",
        "                    # to part of the input_ids that are not in the context.\n",
        "                    if (\n",
        "                        start_index >= len(offset_mapping)\n",
        "                        or end_index >= len(offset_mapping)\n",
        "                        or offset_mapping[start_index] is None\n",
        "                        or offset_mapping[end_index] is None\n",
        "                    ):\n",
        "                        continue\n",
        "                    # Don't consider answers with a length that is either < 0 or > max_answer_length.\n",
        "                    if end_index < start_index or end_index - start_index + 1 > max_answer_length:\n",
        "                        continue\n",
        "\n",
        "                    start_char = offset_mapping[start_index][0]\n",
        "                    end_char = offset_mapping[end_index][1]\n",
        "                    valid_answers.append(\n",
        "                        {\n",
        "                            \"score\": start_logits[start_index] + end_logits[end_index],\n",
        "                            \"text\": context[start_char: end_char]\n",
        "                        }\n",
        "                    )\n",
        "        \n",
        "        if len(valid_answers) > 0:\n",
        "            best_answer = sorted(valid_answers, key=lambda x: x[\"score\"], reverse=True)[0]\n",
        "        else:\n",
        "            # In the very rare edge case we have not a single non-null prediction, we create a fake prediction to avoid\n",
        "            # failure.\n",
        "            best_answer = {\"text\": \"\", \"score\": 0.0}\n",
        "        \n",
        "        # Let's pick our final answer: the best one or the null answer (only for squad_v2)\n",
        "        if not squad_v2:\n",
        "            predictions[example[\"id\"]] = best_answer[\"text\"]\n",
        "        else:\n",
        "            answer = best_answer[\"text\"] if best_answer[\"score\"] > min_null_score else \"\"\n",
        "            predictions[example[\"id\"]] = answer\n",
        "\n",
        "    return predictions"
      ],
      "metadata": {
        "id": "BhaYcRwOCc91"
      },
      "execution_count": 17,
      "outputs": []
    },
    {
      "cell_type": "code",
      "source": [
        "squad_v2 = False\n",
        "\n",
        "args.n_best_size = 20\n",
        "args.max_answer_length = 5\n",
        "\n",
        "print(args.n_best_size)\n",
        "print(args.max_answer_length)"
      ],
      "metadata": {
        "id": "iT1PagzFD8_X",
        "colab": {
          "base_uri": "https://localhost:8080/"
        },
        "outputId": "10252123-8c35-4305-b76d-269af3f7aa81"
      },
      "execution_count": 18,
      "outputs": [
        {
          "output_type": "stream",
          "name": "stdout",
          "text": [
            "10\n",
            "5\n"
          ]
        }
      ]
    },
    {
      "cell_type": "code",
      "source": [
        "final_predictions = postprocess_qa_predictions(dev_dataset, validation_features, raw_predictions.predictions, n_best_size = args.n_best_size, max_answer_length = args.max_answer_length)"
      ],
      "metadata": {
        "colab": {
          "base_uri": "https://localhost:8080/",
          "height": 66,
          "referenced_widgets": [
            "e22dcf0308aa4db59e3b68d0e0b853ed",
            "2d567e0a9fda447abdcfb6ce459eeb0e",
            "860fadd59d764cd29970e365308de0d5",
            "b456dd5dd2ed4e39a75dba0bc8d5ffec",
            "a7717a3523f5431b94adcf0e108b0d11",
            "01811e223dd2473f811442a18f6fbff0",
            "69e82fae21de42ddbe63b84bcec2a099",
            "562d62c86ec0449092be64e2136f0b70",
            "1c1ddebf3114493483705fcf732b8622",
            "f454b3c94fa641b8b89473e2727dc2c5",
            "6120fdd8ac514a40a9b5dec33dcd7663"
          ]
        },
        "id": "Pz0X2xx9CWdk",
        "outputId": "c6101a1e-3448-4972-fe9d-164041240c09"
      },
      "execution_count": 58,
      "outputs": [
        {
          "output_type": "stream",
          "name": "stdout",
          "text": [
            "Post-processing 2407 example predictions split into 2442 features.\n"
          ]
        },
        {
          "output_type": "display_data",
          "data": {
            "text/plain": [
              "  0%|          | 0/2407 [00:00<?, ?it/s]"
            ],
            "application/vnd.jupyter.widget-view+json": {
              "version_major": 2,
              "version_minor": 0,
              "model_id": "e22dcf0308aa4db59e3b68d0e0b853ed"
            }
          },
          "metadata": {}
        }
      ]
    },
    {
      "cell_type": "markdown",
      "source": [
        "## Levenshtein distance"
      ],
      "metadata": {
        "id": "qdSg7hWXJfZ-"
      }
    },
    {
      "cell_type": "code",
      "source": [
        "metric = load_metric(\"squad_v2\" if squad_v2 else \"squad\")"
      ],
      "metadata": {
        "id": "bmMcsCLmCUIc",
        "colab": {
          "base_uri": "https://localhost:8080/",
          "height": 116,
          "referenced_widgets": [
            "711984579dc6441db361aff14f1c7cc3",
            "3e85566a8aa0454093e116311e6ca8ec",
            "3b6a5e39efe04c8480c53ef2d03f11eb",
            "a8eb26df14854785ad9665b6851270c6",
            "a1cad32fc4c64d9e82e16e546884bacf",
            "9b3587ac3f9e4aa6ab9a190cff620860",
            "71dd7615776c45f09e8f84eedfc4a0ba",
            "7407e02f3d2c4dad9fa5773af8488e5b",
            "7695e521185a4d2792269d77d199a361",
            "3d16d0e4003f465594925315c1af9803",
            "4e5876f4ca074be6882b15a5ea778502",
            "748dfb528fdd4381a116dd076c89adda",
            "f914452517734f9abd8ca6ec9223a3f1",
            "7f375830a1004068b81193e7c5ac078a",
            "c43dbdfceb3a4cdc899267dce825d87f",
            "26461e50fdec4d7486513541237de71f",
            "1afe2dea75324cb6ad586faa443b4f31",
            "3ec9244bc6cf48c8ad1d3e015da4d1d6",
            "318a15d2a92b4631875062360c6f6c39",
            "e5c727721f274ca0812b0ed79c7046df",
            "49e08acedc6944c19e09544752e5e873",
            "f773cf72aa7a4bd1b4086359beadc18f"
          ]
        },
        "outputId": "5133464b-6585-4871-b657-4c395024b2bf"
      },
      "execution_count": 59,
      "outputs": [
        {
          "output_type": "stream",
          "name": "stderr",
          "text": [
            "<ipython-input-59-69495f532713>:1: FutureWarning: load_metric is deprecated and will be removed in the next major version of datasets. Use 'evaluate.load' instead, from the new library 🤗 Evaluate: https://huggingface.co/docs/evaluate\n",
            "  metric = load_metric(\"squad_v2\" if squad_v2 else \"squad\")\n"
          ]
        },
        {
          "output_type": "display_data",
          "data": {
            "text/plain": [
              "Downloading builder script:   0%|          | 0.00/1.72k [00:00<?, ?B/s]"
            ],
            "application/vnd.jupyter.widget-view+json": {
              "version_major": 2,
              "version_minor": 0,
              "model_id": "711984579dc6441db361aff14f1c7cc3"
            }
          },
          "metadata": {}
        },
        {
          "output_type": "display_data",
          "data": {
            "text/plain": [
              "Downloading extra modules:   0%|          | 0.00/1.12k [00:00<?, ?B/s]"
            ],
            "application/vnd.jupyter.widget-view+json": {
              "version_major": 2,
              "version_minor": 0,
              "model_id": "748dfb528fdd4381a116dd076c89adda"
            }
          },
          "metadata": {}
        }
      ]
    },
    {
      "cell_type": "code",
      "source": [
        "if squad_v2:\n",
        "    formatted_predictions = [{\"id\": k, \"prediction_text\": v, \"no_answer_probability\": 0.0} for k, v in final_predictions.items()]\n",
        "else:\n",
        "    formatted_predictions = [{\"id\": k, \"prediction_text\": v} for k, v in final_predictions.items()]\n",
        "references = [{\"id\": ex[\"id\"], \"answers\": ex[\"answers\"]} for ex in dev_dataset]\n",
        "metric.compute(predictions=formatted_predictions, references=references)"
      ],
      "metadata": {
        "colab": {
          "base_uri": "https://localhost:8080/"
        },
        "id": "WANC2bfLCPj4",
        "outputId": "576bd060-e8f8-441d-f2a6-08394b867884"
      },
      "execution_count": 103,
      "outputs": [
        {
          "output_type": "execute_result",
          "data": {
            "text/plain": [
              "{'exact_match': 44.49522226838388, 'f1': 50.27729967489005}"
            ]
          },
          "metadata": {},
          "execution_count": 103
        }
      ]
    },
    {
      "cell_type": "code",
      "source": [
        "predictions_text = pd.DataFrame.from_dict(formatted_predictions)['prediction_text']\n",
        "references_text = pd.DataFrame.from_dict(references)['answers'].map(lambda x: x['text'][0])\n",
        "distances = []\n",
        "\n",
        "for i, k in zip(predictions_text, references_text):\n",
        "    distances.append(distance(i, k))\n",
        "\n",
        "print(np.mean(distances))"
      ],
      "metadata": {
        "colab": {
          "base_uri": "https://localhost:8080/"
        },
        "id": "nFwq1wBWM0X3",
        "outputId": "86885434-306d-4e51-c990-9e282865d2b9"
      },
      "execution_count": 104,
      "outputs": [
        {
          "output_type": "stream",
          "name": "stdout",
          "text": [
            "2.6580805982550895\n"
          ]
        }
      ]
    },
    {
      "cell_type": "markdown",
      "source": [
        "## Error analysis"
      ],
      "metadata": {
        "id": "obMgbCI-JNRB"
      }
    },
    {
      "cell_type": "code",
      "source": [
        "dev_df['predictions_text'] = list(predictions_text)\n",
        "dev_df['distance'] = distances"
      ],
      "metadata": {
        "id": "D3TehE3ZG1gg"
      },
      "execution_count": 110,
      "outputs": []
    },
    {
      "cell_type": "code",
      "source": [
        "distance_threshold = 10\n",
        "\n",
        "mask = dev_df.distance >= distance_threshold\n",
        "dev_df_error = dev_df.loc[mask, :]\n",
        "\n",
        "dev_df_error"
      ],
      "metadata": {
        "colab": {
          "base_uri": "https://localhost:8080/",
          "height": 589
        },
        "id": "cK35D4gsFrH5",
        "outputId": "165dfcdb-085b-4473-9aba-37e38958545a"
      },
      "execution_count": 112,
      "outputs": [
        {
          "output_type": "execute_result",
          "data": {
            "text/plain": [
              "                                     id  \\\n",
              "5      8d0e83b1227748fe94aabf5600f62f3b   \n",
              "72     e2499048ef4d424991f3e5fa103ead32   \n",
              "133    3b08aba5be97494383428a4fd304adb8   \n",
              "140    9bf6595fd52642c0aad65fd7d95ae8ae   \n",
              "225    e2e67ab8cbae4e2a9d679dda747dd50f   \n",
              "...                                 ...   \n",
              "11837  de4562062fcd492bbb40d71f40cf31ec   \n",
              "11890  875e86bcb89a48d595f9326c42f7dbbd   \n",
              "11982  affbde4c43f2432b9f974150747d3410   \n",
              "12012  844ecad528494dc3876bab263abde6d2   \n",
              "12020  57d6bcb225934bae9c85c62521c4926a   \n",
              "\n",
              "                                                 answers  \\\n",
              "5       {'answer_start': [661], 'text': ['환경오염이 심한 지역']}   \n",
              "72     {'answer_start': [344], 'text': ['이음새 없는 금속 테두...   \n",
              "133    {'answer_start': [317], 'text': ['역사교육과정개발추진위원...   \n",
              "140      {'answer_start': [309], 'text': ['세계 체스 챔피언십']}   \n",
              "225    {'answer_start': [143], 'text': ['기차끼리 서로 부딪히지...   \n",
              "...                                                  ...   \n",
              "11837   {'answer_start': [453], 'text': ['일개미들이 가져온 잎']}   \n",
              "11890   {'answer_start': [754], 'text': ['카이스트 AI 대학원']}   \n",
              "11982  {'answer_start': [568], 'text': ['뱅크샐러드 송금 서비스...   \n",
              "12012            {'answer_start': [582], 'text': ['맥주']}   \n",
              "12020  {'answer_start': [365], 'text': ['징역 또는 금고의 형을...   \n",
              "\n",
              "                                                 context  \\\n",
              "5      “앞으로 5년 안에 아시아 친환경·신재생에너지 투자의 황금기가 도래할 것입니다.”기...   \n",
              "72     팬택과 소니가 8일 스마트폰 신제품 ‘베가아이언2’와 ‘엑스페리아Z2’를 각각 발표...   \n",
              "133    2011년 8월, 교과부는 2009개정 교육과정에 따른 역사교과 교육과정을 발표하면...   \n",
              "140    ‘미스매치(mismatch)’란 패션용어가 있다. 사전적 의미는 ‘부조화, 어울리지...   \n",
              "225    1950년대 말 매사추세츠 공과대학교의 동아리 테크모델철도클럽에서 ‘해커’라는 용어...   \n",
              "...                                                  ...   \n",
              "11837  같은 가위개미인 에크로머멕스속과 닮은 점이 매우 많고 유전적으로도 유사하다. 보통의...   \n",
              "11890  인공지능 기업 슈퍼브에이아이가 한국정보통신기술협회(TTA)의 데이터 검사 사업자로 ...   \n",
              "11982  뱅크샐러드가 ‘내 계좌 송금’ 서비스를 새롭게 출시했다고 30일 밝혔다. 뱅크샐러드...   \n",
              "12012  패스트파이브(공동대표 박지웅, 김대일)가 설립 2주년을 맞아 그 동안 성장 과정이 ...   \n",
              "12020  청와대는 26일 수감 중인 기업인 가석방 문제와 관련해 “(가석방 결정은) 법무부 ...   \n",
              "\n",
              "                                     question  distance predictions_text  \n",
              "5            정부에게 환경과 관련해서 우선적으로 원조 받고 있는 곳은?        11               중국  \n",
              "72                  팬택의 신제품이 애플과 비교해 강조하는 것은?        10              이음새  \n",
              "133            교과부의 행동에 화가나 여러명이 사직한 기구의 이름은?        13             자문기구  \n",
              "140          극중 신성우와 조권이 맡은 배역이 만나게 되는 경기 명은?        10              이건명  \n",
              "225    테크모델철도클럽에서 두 번째 그룹이 한 연구는 무엇에 관한 것이었나?        22            모형 기차  \n",
              "...                                       ...       ...              ...  \n",
              "11837                     아타속이 먹는 균이 길러지는 곳은?        10                잎  \n",
              "11890           2020 NeurIPS에서 뽑힌 논문을 작성한 곳은?        11          슈퍼브에이아이  \n",
              "11982              수수료를 올해 마지막 달까지 면제해주는 행사는?        19              12월  \n",
              "12012           패스트파이브에서 회원들이 공짜로 마실 수 있는 술은?        10       로스팅 커피와 수제  \n",
              "12020                     가석방 대상이 될 수 있는 자격은?        37              기업인  \n",
              "\n",
              "[107 rows x 6 columns]"
            ],
            "text/html": [
              "\n",
              "  <div id=\"df-62d0f04d-dab6-4631-916d-1857be3981e2\">\n",
              "    <div class=\"colab-df-container\">\n",
              "      <div>\n",
              "<style scoped>\n",
              "    .dataframe tbody tr th:only-of-type {\n",
              "        vertical-align: middle;\n",
              "    }\n",
              "\n",
              "    .dataframe tbody tr th {\n",
              "        vertical-align: top;\n",
              "    }\n",
              "\n",
              "    .dataframe thead th {\n",
              "        text-align: right;\n",
              "    }\n",
              "</style>\n",
              "<table border=\"1\" class=\"dataframe\">\n",
              "  <thead>\n",
              "    <tr style=\"text-align: right;\">\n",
              "      <th></th>\n",
              "      <th>id</th>\n",
              "      <th>answers</th>\n",
              "      <th>context</th>\n",
              "      <th>question</th>\n",
              "      <th>distance</th>\n",
              "      <th>predictions_text</th>\n",
              "    </tr>\n",
              "  </thead>\n",
              "  <tbody>\n",
              "    <tr>\n",
              "      <th>5</th>\n",
              "      <td>8d0e83b1227748fe94aabf5600f62f3b</td>\n",
              "      <td>{'answer_start': [661], 'text': ['환경오염이 심한 지역']}</td>\n",
              "      <td>“앞으로 5년 안에 아시아 친환경·신재생에너지 투자의 황금기가 도래할 것입니다.”기...</td>\n",
              "      <td>정부에게 환경과 관련해서 우선적으로 원조 받고 있는 곳은?</td>\n",
              "      <td>11</td>\n",
              "      <td>중국</td>\n",
              "    </tr>\n",
              "    <tr>\n",
              "      <th>72</th>\n",
              "      <td>e2499048ef4d424991f3e5fa103ead32</td>\n",
              "      <td>{'answer_start': [344], 'text': ['이음새 없는 금속 테두...</td>\n",
              "      <td>팬택과 소니가 8일 스마트폰 신제품 ‘베가아이언2’와 ‘엑스페리아Z2’를 각각 발표...</td>\n",
              "      <td>팬택의 신제품이 애플과 비교해 강조하는 것은?</td>\n",
              "      <td>10</td>\n",
              "      <td>이음새</td>\n",
              "    </tr>\n",
              "    <tr>\n",
              "      <th>133</th>\n",
              "      <td>3b08aba5be97494383428a4fd304adb8</td>\n",
              "      <td>{'answer_start': [317], 'text': ['역사교육과정개발추진위원...</td>\n",
              "      <td>2011년 8월, 교과부는 2009개정 교육과정에 따른 역사교과 교육과정을 발표하면...</td>\n",
              "      <td>교과부의 행동에 화가나 여러명이 사직한 기구의 이름은?</td>\n",
              "      <td>13</td>\n",
              "      <td>자문기구</td>\n",
              "    </tr>\n",
              "    <tr>\n",
              "      <th>140</th>\n",
              "      <td>9bf6595fd52642c0aad65fd7d95ae8ae</td>\n",
              "      <td>{'answer_start': [309], 'text': ['세계 체스 챔피언십']}</td>\n",
              "      <td>‘미스매치(mismatch)’란 패션용어가 있다. 사전적 의미는 ‘부조화, 어울리지...</td>\n",
              "      <td>극중 신성우와 조권이 맡은 배역이 만나게 되는 경기 명은?</td>\n",
              "      <td>10</td>\n",
              "      <td>이건명</td>\n",
              "    </tr>\n",
              "    <tr>\n",
              "      <th>225</th>\n",
              "      <td>e2e67ab8cbae4e2a9d679dda747dd50f</td>\n",
              "      <td>{'answer_start': [143], 'text': ['기차끼리 서로 부딪히지...</td>\n",
              "      <td>1950년대 말 매사추세츠 공과대학교의 동아리 테크모델철도클럽에서 ‘해커’라는 용어...</td>\n",
              "      <td>테크모델철도클럽에서 두 번째 그룹이 한 연구는 무엇에 관한 것이었나?</td>\n",
              "      <td>22</td>\n",
              "      <td>모형 기차</td>\n",
              "    </tr>\n",
              "    <tr>\n",
              "      <th>...</th>\n",
              "      <td>...</td>\n",
              "      <td>...</td>\n",
              "      <td>...</td>\n",
              "      <td>...</td>\n",
              "      <td>...</td>\n",
              "      <td>...</td>\n",
              "    </tr>\n",
              "    <tr>\n",
              "      <th>11837</th>\n",
              "      <td>de4562062fcd492bbb40d71f40cf31ec</td>\n",
              "      <td>{'answer_start': [453], 'text': ['일개미들이 가져온 잎']}</td>\n",
              "      <td>같은 가위개미인 에크로머멕스속과 닮은 점이 매우 많고 유전적으로도 유사하다. 보통의...</td>\n",
              "      <td>아타속이 먹는 균이 길러지는 곳은?</td>\n",
              "      <td>10</td>\n",
              "      <td>잎</td>\n",
              "    </tr>\n",
              "    <tr>\n",
              "      <th>11890</th>\n",
              "      <td>875e86bcb89a48d595f9326c42f7dbbd</td>\n",
              "      <td>{'answer_start': [754], 'text': ['카이스트 AI 대학원']}</td>\n",
              "      <td>인공지능 기업 슈퍼브에이아이가 한국정보통신기술협회(TTA)의 데이터 검사 사업자로 ...</td>\n",
              "      <td>2020 NeurIPS에서 뽑힌 논문을 작성한 곳은?</td>\n",
              "      <td>11</td>\n",
              "      <td>슈퍼브에이아이</td>\n",
              "    </tr>\n",
              "    <tr>\n",
              "      <th>11982</th>\n",
              "      <td>affbde4c43f2432b9f974150747d3410</td>\n",
              "      <td>{'answer_start': [568], 'text': ['뱅크샐러드 송금 서비스...</td>\n",
              "      <td>뱅크샐러드가 ‘내 계좌 송금’ 서비스를 새롭게 출시했다고 30일 밝혔다. 뱅크샐러드...</td>\n",
              "      <td>수수료를 올해 마지막 달까지 면제해주는 행사는?</td>\n",
              "      <td>19</td>\n",
              "      <td>12월</td>\n",
              "    </tr>\n",
              "    <tr>\n",
              "      <th>12012</th>\n",
              "      <td>844ecad528494dc3876bab263abde6d2</td>\n",
              "      <td>{'answer_start': [582], 'text': ['맥주']}</td>\n",
              "      <td>패스트파이브(공동대표 박지웅, 김대일)가 설립 2주년을 맞아 그 동안 성장 과정이 ...</td>\n",
              "      <td>패스트파이브에서 회원들이 공짜로 마실 수 있는 술은?</td>\n",
              "      <td>10</td>\n",
              "      <td>로스팅 커피와 수제</td>\n",
              "    </tr>\n",
              "    <tr>\n",
              "      <th>12020</th>\n",
              "      <td>57d6bcb225934bae9c85c62521c4926a</td>\n",
              "      <td>{'answer_start': [365], 'text': ['징역 또는 금고의 형을...</td>\n",
              "      <td>청와대는 26일 수감 중인 기업인 가석방 문제와 관련해 “(가석방 결정은) 법무부 ...</td>\n",
              "      <td>가석방 대상이 될 수 있는 자격은?</td>\n",
              "      <td>37</td>\n",
              "      <td>기업인</td>\n",
              "    </tr>\n",
              "  </tbody>\n",
              "</table>\n",
              "<p>107 rows × 6 columns</p>\n",
              "</div>\n",
              "      <button class=\"colab-df-convert\" onclick=\"convertToInteractive('df-62d0f04d-dab6-4631-916d-1857be3981e2')\"\n",
              "              title=\"Convert this dataframe to an interactive table.\"\n",
              "              style=\"display:none;\">\n",
              "        \n",
              "  <svg xmlns=\"http://www.w3.org/2000/svg\" height=\"24px\"viewBox=\"0 0 24 24\"\n",
              "       width=\"24px\">\n",
              "    <path d=\"M0 0h24v24H0V0z\" fill=\"none\"/>\n",
              "    <path d=\"M18.56 5.44l.94 2.06.94-2.06 2.06-.94-2.06-.94-.94-2.06-.94 2.06-2.06.94zm-11 1L8.5 8.5l.94-2.06 2.06-.94-2.06-.94L8.5 2.5l-.94 2.06-2.06.94zm10 10l.94 2.06.94-2.06 2.06-.94-2.06-.94-.94-2.06-.94 2.06-2.06.94z\"/><path d=\"M17.41 7.96l-1.37-1.37c-.4-.4-.92-.59-1.43-.59-.52 0-1.04.2-1.43.59L10.3 9.45l-7.72 7.72c-.78.78-.78 2.05 0 2.83L4 21.41c.39.39.9.59 1.41.59.51 0 1.02-.2 1.41-.59l7.78-7.78 2.81-2.81c.8-.78.8-2.07 0-2.86zM5.41 20L4 18.59l7.72-7.72 1.47 1.35L5.41 20z\"/>\n",
              "  </svg>\n",
              "      </button>\n",
              "      \n",
              "  <style>\n",
              "    .colab-df-container {\n",
              "      display:flex;\n",
              "      flex-wrap:wrap;\n",
              "      gap: 12px;\n",
              "    }\n",
              "\n",
              "    .colab-df-convert {\n",
              "      background-color: #E8F0FE;\n",
              "      border: none;\n",
              "      border-radius: 50%;\n",
              "      cursor: pointer;\n",
              "      display: none;\n",
              "      fill: #1967D2;\n",
              "      height: 32px;\n",
              "      padding: 0 0 0 0;\n",
              "      width: 32px;\n",
              "    }\n",
              "\n",
              "    .colab-df-convert:hover {\n",
              "      background-color: #E2EBFA;\n",
              "      box-shadow: 0px 1px 2px rgba(60, 64, 67, 0.3), 0px 1px 3px 1px rgba(60, 64, 67, 0.15);\n",
              "      fill: #174EA6;\n",
              "    }\n",
              "\n",
              "    [theme=dark] .colab-df-convert {\n",
              "      background-color: #3B4455;\n",
              "      fill: #D2E3FC;\n",
              "    }\n",
              "\n",
              "    [theme=dark] .colab-df-convert:hover {\n",
              "      background-color: #434B5C;\n",
              "      box-shadow: 0px 1px 3px 1px rgba(0, 0, 0, 0.15);\n",
              "      filter: drop-shadow(0px 1px 2px rgba(0, 0, 0, 0.3));\n",
              "      fill: #FFFFFF;\n",
              "    }\n",
              "  </style>\n",
              "\n",
              "      <script>\n",
              "        const buttonEl =\n",
              "          document.querySelector('#df-62d0f04d-dab6-4631-916d-1857be3981e2 button.colab-df-convert');\n",
              "        buttonEl.style.display =\n",
              "          google.colab.kernel.accessAllowed ? 'block' : 'none';\n",
              "\n",
              "        async function convertToInteractive(key) {\n",
              "          const element = document.querySelector('#df-62d0f04d-dab6-4631-916d-1857be3981e2');\n",
              "          const dataTable =\n",
              "            await google.colab.kernel.invokeFunction('convertToInteractive',\n",
              "                                                     [key], {});\n",
              "          if (!dataTable) return;\n",
              "\n",
              "          const docLinkHtml = 'Like what you see? Visit the ' +\n",
              "            '<a target=\"_blank\" href=https://colab.research.google.com/notebooks/data_table.ipynb>data table notebook</a>'\n",
              "            + ' to learn more about interactive tables.';\n",
              "          element.innerHTML = '';\n",
              "          dataTable['output_type'] = 'display_data';\n",
              "          await google.colab.output.renderOutput(dataTable, element);\n",
              "          const docLink = document.createElement('div');\n",
              "          docLink.innerHTML = docLinkHtml;\n",
              "          element.appendChild(docLink);\n",
              "        }\n",
              "      </script>\n",
              "    </div>\n",
              "  </div>\n",
              "  "
            ]
          },
          "metadata": {},
          "execution_count": 112
        }
      ]
    },
    {
      "cell_type": "code",
      "source": [
        "dev_df_error.to_csv(f\"output/error_case-{args.name}.csv\", index=False)"
      ],
      "metadata": {
        "id": "3r-UhufVIisB"
      },
      "execution_count": 113,
      "outputs": []
    },
    {
      "cell_type": "markdown",
      "source": [
        "# 4️⃣ Submission"
      ],
      "metadata": {
        "id": "-RjjFC7BzT9d"
      }
    },
    {
      "cell_type": "code",
      "source": [
        "def read_test(path):\n",
        "    path = Path(path)\n",
        "    with open(path, 'rb') as f:\n",
        "        data = json.load(f)\n",
        "\n",
        "    ids = []\n",
        "    contexts = []\n",
        "    questions = []\n",
        "    answers = []\n",
        "    for group in data['data']:\n",
        "        for passage in group['paragraphs']:\n",
        "            context = passage['context']\n",
        "            for qa in passage['qas']:\n",
        "                id = qa[\"guid\"]\n",
        "                question = qa['question']\n",
        "                answer = qa['answers']\n",
        "                contexts.append(context)\n",
        "                questions.append(question)\n",
        "                answers.append(answer)\n",
        "                ids.append(id)\n",
        "\n",
        "    return ids, contexts, questions, answers"
      ],
      "metadata": {
        "id": "NRtZfcbn-d0v"
      },
      "execution_count": 122,
      "outputs": []
    },
    {
      "cell_type": "code",
      "source": [
        "file_path =  'input/test.json'\n",
        "\n",
        "ids, contexts, questions, answers = read_test(file_path)\n",
        "\n",
        "test_df = pd.DataFrame(\n",
        "    list(zip(ids , answers, contexts, questions)),\n",
        "    columns =['id','answers', 'context','question'])\n",
        "test_df"
      ],
      "metadata": {
        "colab": {
          "base_uri": "https://localhost:8080/",
          "height": 424
        },
        "id": "o3y9PoRQ-qrT",
        "outputId": "77ffca32-c000-47cd-b134-13c41e461ec3"
      },
      "execution_count": 123,
      "outputs": [
        {
          "output_type": "execute_result",
          "data": {
            "text/plain": [
              "                                    id answers  \\\n",
              "0     d14cb73158624cf094c546d856fd3c80    None   \n",
              "1     906631384e91493ebe1c7f34aea6f241    None   \n",
              "2     35e61dcb479643448a2cb7d326ae50a6    None   \n",
              "3     075e761b370040cb9041eecd39afc27c    None   \n",
              "4     e67ed38f3dd944be94d5b4c53731f334    None   \n",
              "...                                ...     ...   \n",
              "4003  05fcb8054dc44dab8683579c2cf5e465    None   \n",
              "4004  cc7f826b66724ce9b39e3a974ca15661    None   \n",
              "4005  3282034aa41e4fab980851ffd4a868dd    None   \n",
              "4006  0a73550b36df4baf82ac2f98619d22e7    None   \n",
              "4007  dfe6ef25f84f461e89e54d370e4521d5    None   \n",
              "\n",
              "                                                context  \\\n",
              "0     BMW 코리아(대표 한상윤)는 창립 25주년을 기념하는 ‘BMW 코리아 25주년 에...   \n",
              "1     프랑스 남부 알프스에 떨어져 150명의 사망자를 낸 저먼윙스 여객기는 부조종사가 의...   \n",
              "2     가장 일하고 싶은 회사로 미국 컨설팅 업체인 베인&컴퍼니가 선정됐다. 트위터와 링크...   \n",
              "3     가장 일하고 싶은 회사로 미국 컨설팅 업체인 베인&컴퍼니가 선정됐다. 트위터와 링크...   \n",
              "4     성악가로서 한창 전성기를 구가하던 1987년 호세 카레라스는 청천벽력같은 소식을 듣...   \n",
              "...                                                 ...   \n",
              "4003  일본 도쿄지점 130억원대 부당대출 혐의로 금융감독원의 검사를 받고 있는 기업은행이...   \n",
              "4004  한국전쟁 당시 언니인 수지는 여동생 오목이를 고의로 방치했다. 수지는 신경쓰지 않고...   \n",
              "4005  세계 컨테이너선 운임지수가 사상 최저 수준으로 떨어지면서 해운업계에 비상이 걸렸다....   \n",
              "4006  서울교육청이 8일부터 10일까지 강남구, 서초구 지역에 있는 유치원, 초등학교의 전...   \n",
              "4007  중국이 유럽연합(EU)이 추진 중인 EU인프라투자펀드에 대규모 자금을 출자한다. 아...   \n",
              "\n",
              "                                        question  \n",
              "0                       말라카이트에서 나온 색깔을 사용한 에디션은?  \n",
              "1                                  사고 비행기의 목적지는?  \n",
              "2           2014년 일하고 싶은 50대 회사 중에서 5위로 선정된 기업은?  \n",
              "3       포브스의 2014년 일하고 싶은 50대 회사 조사에서 5위를 한 기업은?  \n",
              "4           호세 카레라스가 재단의 도움을 받아 병을 치료한 병원의 소재지는?  \n",
              "...                                          ...  \n",
              "4003                       도쿄지점의 현재 개인 신용대출 한도는?  \n",
              "4004                   오목이 수지에게 청탁한 남편의 일자리 장소는?  \n",
              "4005                 컨테이너선 평균 운임이 15%정도 낮아진 노선은?  \n",
              "4006                강남지역에 사는 학생들은 며칠 동안 학교를 안가나?  \n",
              "4007  로이터통신에 따르면, EU인프라펀드 출자에 대한 중국의 공표가 있을 나라는?  \n",
              "\n",
              "[4008 rows x 4 columns]"
            ],
            "text/html": [
              "\n",
              "  <div id=\"df-471e4ff9-2a0c-429e-8c4c-9bf04f2070e6\">\n",
              "    <div class=\"colab-df-container\">\n",
              "      <div>\n",
              "<style scoped>\n",
              "    .dataframe tbody tr th:only-of-type {\n",
              "        vertical-align: middle;\n",
              "    }\n",
              "\n",
              "    .dataframe tbody tr th {\n",
              "        vertical-align: top;\n",
              "    }\n",
              "\n",
              "    .dataframe thead th {\n",
              "        text-align: right;\n",
              "    }\n",
              "</style>\n",
              "<table border=\"1\" class=\"dataframe\">\n",
              "  <thead>\n",
              "    <tr style=\"text-align: right;\">\n",
              "      <th></th>\n",
              "      <th>id</th>\n",
              "      <th>answers</th>\n",
              "      <th>context</th>\n",
              "      <th>question</th>\n",
              "    </tr>\n",
              "  </thead>\n",
              "  <tbody>\n",
              "    <tr>\n",
              "      <th>0</th>\n",
              "      <td>d14cb73158624cf094c546d856fd3c80</td>\n",
              "      <td>None</td>\n",
              "      <td>BMW 코리아(대표 한상윤)는 창립 25주년을 기념하는 ‘BMW 코리아 25주년 에...</td>\n",
              "      <td>말라카이트에서 나온 색깔을 사용한 에디션은?</td>\n",
              "    </tr>\n",
              "    <tr>\n",
              "      <th>1</th>\n",
              "      <td>906631384e91493ebe1c7f34aea6f241</td>\n",
              "      <td>None</td>\n",
              "      <td>프랑스 남부 알프스에 떨어져 150명의 사망자를 낸 저먼윙스 여객기는 부조종사가 의...</td>\n",
              "      <td>사고 비행기의 목적지는?</td>\n",
              "    </tr>\n",
              "    <tr>\n",
              "      <th>2</th>\n",
              "      <td>35e61dcb479643448a2cb7d326ae50a6</td>\n",
              "      <td>None</td>\n",
              "      <td>가장 일하고 싶은 회사로 미국 컨설팅 업체인 베인&amp;컴퍼니가 선정됐다. 트위터와 링크...</td>\n",
              "      <td>2014년 일하고 싶은 50대 회사 중에서 5위로 선정된 기업은?</td>\n",
              "    </tr>\n",
              "    <tr>\n",
              "      <th>3</th>\n",
              "      <td>075e761b370040cb9041eecd39afc27c</td>\n",
              "      <td>None</td>\n",
              "      <td>가장 일하고 싶은 회사로 미국 컨설팅 업체인 베인&amp;컴퍼니가 선정됐다. 트위터와 링크...</td>\n",
              "      <td>포브스의 2014년 일하고 싶은 50대 회사 조사에서 5위를 한 기업은?</td>\n",
              "    </tr>\n",
              "    <tr>\n",
              "      <th>4</th>\n",
              "      <td>e67ed38f3dd944be94d5b4c53731f334</td>\n",
              "      <td>None</td>\n",
              "      <td>성악가로서 한창 전성기를 구가하던 1987년 호세 카레라스는 청천벽력같은 소식을 듣...</td>\n",
              "      <td>호세 카레라스가 재단의 도움을 받아 병을 치료한 병원의 소재지는?</td>\n",
              "    </tr>\n",
              "    <tr>\n",
              "      <th>...</th>\n",
              "      <td>...</td>\n",
              "      <td>...</td>\n",
              "      <td>...</td>\n",
              "      <td>...</td>\n",
              "    </tr>\n",
              "    <tr>\n",
              "      <th>4003</th>\n",
              "      <td>05fcb8054dc44dab8683579c2cf5e465</td>\n",
              "      <td>None</td>\n",
              "      <td>일본 도쿄지점 130억원대 부당대출 혐의로 금융감독원의 검사를 받고 있는 기업은행이...</td>\n",
              "      <td>도쿄지점의 현재 개인 신용대출 한도는?</td>\n",
              "    </tr>\n",
              "    <tr>\n",
              "      <th>4004</th>\n",
              "      <td>cc7f826b66724ce9b39e3a974ca15661</td>\n",
              "      <td>None</td>\n",
              "      <td>한국전쟁 당시 언니인 수지는 여동생 오목이를 고의로 방치했다. 수지는 신경쓰지 않고...</td>\n",
              "      <td>오목이 수지에게 청탁한 남편의 일자리 장소는?</td>\n",
              "    </tr>\n",
              "    <tr>\n",
              "      <th>4005</th>\n",
              "      <td>3282034aa41e4fab980851ffd4a868dd</td>\n",
              "      <td>None</td>\n",
              "      <td>세계 컨테이너선 운임지수가 사상 최저 수준으로 떨어지면서 해운업계에 비상이 걸렸다....</td>\n",
              "      <td>컨테이너선 평균 운임이 15%정도 낮아진 노선은?</td>\n",
              "    </tr>\n",
              "    <tr>\n",
              "      <th>4006</th>\n",
              "      <td>0a73550b36df4baf82ac2f98619d22e7</td>\n",
              "      <td>None</td>\n",
              "      <td>서울교육청이 8일부터 10일까지 강남구, 서초구 지역에 있는 유치원, 초등학교의 전...</td>\n",
              "      <td>강남지역에 사는 학생들은 며칠 동안 학교를 안가나?</td>\n",
              "    </tr>\n",
              "    <tr>\n",
              "      <th>4007</th>\n",
              "      <td>dfe6ef25f84f461e89e54d370e4521d5</td>\n",
              "      <td>None</td>\n",
              "      <td>중국이 유럽연합(EU)이 추진 중인 EU인프라투자펀드에 대규모 자금을 출자한다. 아...</td>\n",
              "      <td>로이터통신에 따르면, EU인프라펀드 출자에 대한 중국의 공표가 있을 나라는?</td>\n",
              "    </tr>\n",
              "  </tbody>\n",
              "</table>\n",
              "<p>4008 rows × 4 columns</p>\n",
              "</div>\n",
              "      <button class=\"colab-df-convert\" onclick=\"convertToInteractive('df-471e4ff9-2a0c-429e-8c4c-9bf04f2070e6')\"\n",
              "              title=\"Convert this dataframe to an interactive table.\"\n",
              "              style=\"display:none;\">\n",
              "        \n",
              "  <svg xmlns=\"http://www.w3.org/2000/svg\" height=\"24px\"viewBox=\"0 0 24 24\"\n",
              "       width=\"24px\">\n",
              "    <path d=\"M0 0h24v24H0V0z\" fill=\"none\"/>\n",
              "    <path d=\"M18.56 5.44l.94 2.06.94-2.06 2.06-.94-2.06-.94-.94-2.06-.94 2.06-2.06.94zm-11 1L8.5 8.5l.94-2.06 2.06-.94-2.06-.94L8.5 2.5l-.94 2.06-2.06.94zm10 10l.94 2.06.94-2.06 2.06-.94-2.06-.94-.94-2.06-.94 2.06-2.06.94z\"/><path d=\"M17.41 7.96l-1.37-1.37c-.4-.4-.92-.59-1.43-.59-.52 0-1.04.2-1.43.59L10.3 9.45l-7.72 7.72c-.78.78-.78 2.05 0 2.83L4 21.41c.39.39.9.59 1.41.59.51 0 1.02-.2 1.41-.59l7.78-7.78 2.81-2.81c.8-.78.8-2.07 0-2.86zM5.41 20L4 18.59l7.72-7.72 1.47 1.35L5.41 20z\"/>\n",
              "  </svg>\n",
              "      </button>\n",
              "      \n",
              "  <style>\n",
              "    .colab-df-container {\n",
              "      display:flex;\n",
              "      flex-wrap:wrap;\n",
              "      gap: 12px;\n",
              "    }\n",
              "\n",
              "    .colab-df-convert {\n",
              "      background-color: #E8F0FE;\n",
              "      border: none;\n",
              "      border-radius: 50%;\n",
              "      cursor: pointer;\n",
              "      display: none;\n",
              "      fill: #1967D2;\n",
              "      height: 32px;\n",
              "      padding: 0 0 0 0;\n",
              "      width: 32px;\n",
              "    }\n",
              "\n",
              "    .colab-df-convert:hover {\n",
              "      background-color: #E2EBFA;\n",
              "      box-shadow: 0px 1px 2px rgba(60, 64, 67, 0.3), 0px 1px 3px 1px rgba(60, 64, 67, 0.15);\n",
              "      fill: #174EA6;\n",
              "    }\n",
              "\n",
              "    [theme=dark] .colab-df-convert {\n",
              "      background-color: #3B4455;\n",
              "      fill: #D2E3FC;\n",
              "    }\n",
              "\n",
              "    [theme=dark] .colab-df-convert:hover {\n",
              "      background-color: #434B5C;\n",
              "      box-shadow: 0px 1px 3px 1px rgba(0, 0, 0, 0.15);\n",
              "      filter: drop-shadow(0px 1px 2px rgba(0, 0, 0, 0.3));\n",
              "      fill: #FFFFFF;\n",
              "    }\n",
              "  </style>\n",
              "\n",
              "      <script>\n",
              "        const buttonEl =\n",
              "          document.querySelector('#df-471e4ff9-2a0c-429e-8c4c-9bf04f2070e6 button.colab-df-convert');\n",
              "        buttonEl.style.display =\n",
              "          google.colab.kernel.accessAllowed ? 'block' : 'none';\n",
              "\n",
              "        async function convertToInteractive(key) {\n",
              "          const element = document.querySelector('#df-471e4ff9-2a0c-429e-8c4c-9bf04f2070e6');\n",
              "          const dataTable =\n",
              "            await google.colab.kernel.invokeFunction('convertToInteractive',\n",
              "                                                     [key], {});\n",
              "          if (!dataTable) return;\n",
              "\n",
              "          const docLinkHtml = 'Like what you see? Visit the ' +\n",
              "            '<a target=\"_blank\" href=https://colab.research.google.com/notebooks/data_table.ipynb>data table notebook</a>'\n",
              "            + ' to learn more about interactive tables.';\n",
              "          element.innerHTML = '';\n",
              "          dataTable['output_type'] = 'display_data';\n",
              "          await google.colab.output.renderOutput(dataTable, element);\n",
              "          const docLink = document.createElement('div');\n",
              "          docLink.innerHTML = docLinkHtml;\n",
              "          element.appendChild(docLink);\n",
              "        }\n",
              "      </script>\n",
              "    </div>\n",
              "  </div>\n",
              "  "
            ]
          },
          "metadata": {},
          "execution_count": 123
        }
      ]
    },
    {
      "cell_type": "code",
      "source": [
        "test_dataset = Dataset.from_pandas(test_df)\n",
        "print(\"Number of Test Samples:\", len(test_dataset))"
      ],
      "metadata": {
        "colab": {
          "base_uri": "https://localhost:8080/"
        },
        "id": "gjbD4eCV-00D",
        "outputId": "4db61c17-062d-41ce-b2ec-8c4e141879b7"
      },
      "execution_count": 124,
      "outputs": [
        {
          "output_type": "stream",
          "name": "stdout",
          "text": [
            "Number of Test Samples: 4008\n"
          ]
        }
      ]
    },
    {
      "cell_type": "code",
      "source": [
        "test_features = test_dataset.map(\n",
        "    prepare_validation_features,\n",
        "    batched=True,\n",
        "    remove_columns=test_dataset.column_names\n",
        ")"
      ],
      "metadata": {
        "colab": {
          "base_uri": "https://localhost:8080/",
          "height": 49,
          "referenced_widgets": [
            "345c44f74e3c4e6a92929a3be7a0eb0e",
            "1d06e8e2c2e0489380ca64879479d04a",
            "5a54fe092aaf43718b433dcc1d3b7112",
            "090fc2e8699a4845b1cbf675ef36d667",
            "3ecfe0999d6f4409bdd8f4a7a4dce115",
            "d1d446f16b3048f9bffcac7889803f71",
            "149e486ef67c4aa48ffdecc47a5460be",
            "788ca1b32fdf440cb68cbc41dc7427aa",
            "5ffc89b077c2415eb49f58903a513d6c",
            "5a44680c4bfc42f68864206885212d4d",
            "c959c4bedeed4e15a81b964fe76f42c0"
          ]
        },
        "id": "oH3E8607ISCY",
        "outputId": "33cc9743-102e-4ddb-b95f-4d338b9a6b98"
      },
      "execution_count": 125,
      "outputs": [
        {
          "output_type": "display_data",
          "data": {
            "text/plain": [
              "  0%|          | 0/5 [00:00<?, ?ba/s]"
            ],
            "application/vnd.jupyter.widget-view+json": {
              "version_major": 2,
              "version_minor": 0,
              "model_id": "345c44f74e3c4e6a92929a3be7a0eb0e"
            }
          },
          "metadata": {}
        }
      ]
    },
    {
      "cell_type": "code",
      "source": [
        "raw_predictions = trainer.predict(test_features)"
      ],
      "metadata": {
        "colab": {
          "base_uri": "https://localhost:8080/",
          "height": 106
        },
        "id": "B6-N7IfjIJNR",
        "outputId": "2b233700-7134-4e00-e23b-9e0ebec8705c"
      },
      "execution_count": 126,
      "outputs": [
        {
          "output_type": "stream",
          "name": "stderr",
          "text": [
            "The following columns in the test set don't have a corresponding argument in `BigBirdForQuestionAnswering.forward` and have been ignored: offset_mapping, example_id. If offset_mapping, example_id are not expected by `BigBirdForQuestionAnswering.forward`,  you can safely ignore this message.\n",
            "***** Running Prediction *****\n",
            "  Num examples = 4073\n",
            "  Batch size = 1\n"
          ]
        },
        {
          "output_type": "display_data",
          "data": {
            "text/plain": [
              "<IPython.core.display.HTML object>"
            ],
            "text/html": []
          },
          "metadata": {}
        }
      ]
    },
    {
      "cell_type": "code",
      "source": [
        "final_predictions = postprocess_qa_predictions(test_dataset, test_features, raw_predictions.predictions, n_best_size = args.n_best_size, max_answer_length = args.max_answer_length)"
      ],
      "metadata": {
        "colab": {
          "base_uri": "https://localhost:8080/",
          "height": 66,
          "referenced_widgets": [
            "178a1191467f46c885eacf9448367f95",
            "2684e556628a44ae93ec42887b6cec89",
            "686f33ea7e0c4298aa02c95444222c94",
            "5863dee0f9394173b3b3da15b14d0f40",
            "f0b450e68a944cad8ae48a3169cd25a8",
            "b6c6cab3016b449ca5ac4b6a2a147025",
            "c05330a8f4bf4fe6a0deb713338638bf",
            "923d4c0c04f2488891f78131cf35e13b",
            "780eaf43771c4feeb0cbf885e800d09c",
            "d1749e09749c4e9d9f0898115785422f",
            "e58e441f58ca469e94cf6c75e28fc0e4"
          ]
        },
        "id": "Errr0aKMIyOg",
        "outputId": "c955bc27-d317-4242-ed86-32aa74a36881"
      },
      "execution_count": 127,
      "outputs": [
        {
          "output_type": "stream",
          "name": "stdout",
          "text": [
            "Post-processing 4008 example predictions split into 4073 features.\n"
          ]
        },
        {
          "output_type": "display_data",
          "data": {
            "text/plain": [
              "  0%|          | 0/4008 [00:00<?, ?it/s]"
            ],
            "application/vnd.jupyter.widget-view+json": {
              "version_major": 2,
              "version_minor": 0,
              "model_id": "178a1191467f46c885eacf9448367f95"
            }
          },
          "metadata": {}
        }
      ]
    },
    {
      "cell_type": "code",
      "source": [
        "formatted_predictions = [{\"Id\": k, \"Predicted\": v} for k, v in final_predictions.items()]"
      ],
      "metadata": {
        "id": "xi_SD06lJLAS"
      },
      "execution_count": 128,
      "outputs": []
    },
    {
      "cell_type": "code",
      "source": [
        "pd.DataFrame.from_dict(formatted_predictions)"
      ],
      "metadata": {
        "colab": {
          "base_uri": "https://localhost:8080/",
          "height": 424
        },
        "id": "FfQB9bTUKlsk",
        "outputId": "cf7f22f1-a60b-4f60-f585-96ee7229b625"
      },
      "execution_count": 129,
      "outputs": [
        {
          "output_type": "execute_result",
          "data": {
            "text/plain": [
              "                                    Id    Predicted\n",
              "0     d14cb73158624cf094c546d856fd3c80      뉴 740Li\n",
              "1     906631384e91493ebe1c7f34aea6f241    독일 뒤셀도르프로\n",
              "2     35e61dcb479643448a2cb7d326ae50a6       베인&컴퍼니\n",
              "3     075e761b370040cb9041eecd39afc27c       베인&컴퍼니\n",
              "4     e67ed38f3dd944be94d5b4c53731f334         마드리드\n",
              "...                                ...          ...\n",
              "4003  05fcb8054dc44dab8683579c2cf5e465       1000만엔\n",
              "4004  cc7f826b66724ce9b39e3a974ca15661     중동 건설 현장\n",
              "4005  3282034aa41e4fab980851ffd4a868dd    아시아~유럽 노선\n",
              "4006  0a73550b36df4baf82ac2f98619d22e7  월요일부터 수요일까지\n",
              "4007  dfe6ef25f84f461e89e54d370e4521d5           중국\n",
              "\n",
              "[4008 rows x 2 columns]"
            ],
            "text/html": [
              "\n",
              "  <div id=\"df-09701ede-0a09-4e75-9201-563893a8a51e\">\n",
              "    <div class=\"colab-df-container\">\n",
              "      <div>\n",
              "<style scoped>\n",
              "    .dataframe tbody tr th:only-of-type {\n",
              "        vertical-align: middle;\n",
              "    }\n",
              "\n",
              "    .dataframe tbody tr th {\n",
              "        vertical-align: top;\n",
              "    }\n",
              "\n",
              "    .dataframe thead th {\n",
              "        text-align: right;\n",
              "    }\n",
              "</style>\n",
              "<table border=\"1\" class=\"dataframe\">\n",
              "  <thead>\n",
              "    <tr style=\"text-align: right;\">\n",
              "      <th></th>\n",
              "      <th>Id</th>\n",
              "      <th>Predicted</th>\n",
              "    </tr>\n",
              "  </thead>\n",
              "  <tbody>\n",
              "    <tr>\n",
              "      <th>0</th>\n",
              "      <td>d14cb73158624cf094c546d856fd3c80</td>\n",
              "      <td>뉴 740Li</td>\n",
              "    </tr>\n",
              "    <tr>\n",
              "      <th>1</th>\n",
              "      <td>906631384e91493ebe1c7f34aea6f241</td>\n",
              "      <td>독일 뒤셀도르프로</td>\n",
              "    </tr>\n",
              "    <tr>\n",
              "      <th>2</th>\n",
              "      <td>35e61dcb479643448a2cb7d326ae50a6</td>\n",
              "      <td>베인&amp;컴퍼니</td>\n",
              "    </tr>\n",
              "    <tr>\n",
              "      <th>3</th>\n",
              "      <td>075e761b370040cb9041eecd39afc27c</td>\n",
              "      <td>베인&amp;컴퍼니</td>\n",
              "    </tr>\n",
              "    <tr>\n",
              "      <th>4</th>\n",
              "      <td>e67ed38f3dd944be94d5b4c53731f334</td>\n",
              "      <td>마드리드</td>\n",
              "    </tr>\n",
              "    <tr>\n",
              "      <th>...</th>\n",
              "      <td>...</td>\n",
              "      <td>...</td>\n",
              "    </tr>\n",
              "    <tr>\n",
              "      <th>4003</th>\n",
              "      <td>05fcb8054dc44dab8683579c2cf5e465</td>\n",
              "      <td>1000만엔</td>\n",
              "    </tr>\n",
              "    <tr>\n",
              "      <th>4004</th>\n",
              "      <td>cc7f826b66724ce9b39e3a974ca15661</td>\n",
              "      <td>중동 건설 현장</td>\n",
              "    </tr>\n",
              "    <tr>\n",
              "      <th>4005</th>\n",
              "      <td>3282034aa41e4fab980851ffd4a868dd</td>\n",
              "      <td>아시아~유럽 노선</td>\n",
              "    </tr>\n",
              "    <tr>\n",
              "      <th>4006</th>\n",
              "      <td>0a73550b36df4baf82ac2f98619d22e7</td>\n",
              "      <td>월요일부터 수요일까지</td>\n",
              "    </tr>\n",
              "    <tr>\n",
              "      <th>4007</th>\n",
              "      <td>dfe6ef25f84f461e89e54d370e4521d5</td>\n",
              "      <td>중국</td>\n",
              "    </tr>\n",
              "  </tbody>\n",
              "</table>\n",
              "<p>4008 rows × 2 columns</p>\n",
              "</div>\n",
              "      <button class=\"colab-df-convert\" onclick=\"convertToInteractive('df-09701ede-0a09-4e75-9201-563893a8a51e')\"\n",
              "              title=\"Convert this dataframe to an interactive table.\"\n",
              "              style=\"display:none;\">\n",
              "        \n",
              "  <svg xmlns=\"http://www.w3.org/2000/svg\" height=\"24px\"viewBox=\"0 0 24 24\"\n",
              "       width=\"24px\">\n",
              "    <path d=\"M0 0h24v24H0V0z\" fill=\"none\"/>\n",
              "    <path d=\"M18.56 5.44l.94 2.06.94-2.06 2.06-.94-2.06-.94-.94-2.06-.94 2.06-2.06.94zm-11 1L8.5 8.5l.94-2.06 2.06-.94-2.06-.94L8.5 2.5l-.94 2.06-2.06.94zm10 10l.94 2.06.94-2.06 2.06-.94-2.06-.94-.94-2.06-.94 2.06-2.06.94z\"/><path d=\"M17.41 7.96l-1.37-1.37c-.4-.4-.92-.59-1.43-.59-.52 0-1.04.2-1.43.59L10.3 9.45l-7.72 7.72c-.78.78-.78 2.05 0 2.83L4 21.41c.39.39.9.59 1.41.59.51 0 1.02-.2 1.41-.59l7.78-7.78 2.81-2.81c.8-.78.8-2.07 0-2.86zM5.41 20L4 18.59l7.72-7.72 1.47 1.35L5.41 20z\"/>\n",
              "  </svg>\n",
              "      </button>\n",
              "      \n",
              "  <style>\n",
              "    .colab-df-container {\n",
              "      display:flex;\n",
              "      flex-wrap:wrap;\n",
              "      gap: 12px;\n",
              "    }\n",
              "\n",
              "    .colab-df-convert {\n",
              "      background-color: #E8F0FE;\n",
              "      border: none;\n",
              "      border-radius: 50%;\n",
              "      cursor: pointer;\n",
              "      display: none;\n",
              "      fill: #1967D2;\n",
              "      height: 32px;\n",
              "      padding: 0 0 0 0;\n",
              "      width: 32px;\n",
              "    }\n",
              "\n",
              "    .colab-df-convert:hover {\n",
              "      background-color: #E2EBFA;\n",
              "      box-shadow: 0px 1px 2px rgba(60, 64, 67, 0.3), 0px 1px 3px 1px rgba(60, 64, 67, 0.15);\n",
              "      fill: #174EA6;\n",
              "    }\n",
              "\n",
              "    [theme=dark] .colab-df-convert {\n",
              "      background-color: #3B4455;\n",
              "      fill: #D2E3FC;\n",
              "    }\n",
              "\n",
              "    [theme=dark] .colab-df-convert:hover {\n",
              "      background-color: #434B5C;\n",
              "      box-shadow: 0px 1px 3px 1px rgba(0, 0, 0, 0.15);\n",
              "      filter: drop-shadow(0px 1px 2px rgba(0, 0, 0, 0.3));\n",
              "      fill: #FFFFFF;\n",
              "    }\n",
              "  </style>\n",
              "\n",
              "      <script>\n",
              "        const buttonEl =\n",
              "          document.querySelector('#df-09701ede-0a09-4e75-9201-563893a8a51e button.colab-df-convert');\n",
              "        buttonEl.style.display =\n",
              "          google.colab.kernel.accessAllowed ? 'block' : 'none';\n",
              "\n",
              "        async function convertToInteractive(key) {\n",
              "          const element = document.querySelector('#df-09701ede-0a09-4e75-9201-563893a8a51e');\n",
              "          const dataTable =\n",
              "            await google.colab.kernel.invokeFunction('convertToInteractive',\n",
              "                                                     [key], {});\n",
              "          if (!dataTable) return;\n",
              "\n",
              "          const docLinkHtml = 'Like what you see? Visit the ' +\n",
              "            '<a target=\"_blank\" href=https://colab.research.google.com/notebooks/data_table.ipynb>data table notebook</a>'\n",
              "            + ' to learn more about interactive tables.';\n",
              "          element.innerHTML = '';\n",
              "          dataTable['output_type'] = 'display_data';\n",
              "          await google.colab.output.renderOutput(dataTable, element);\n",
              "          const docLink = document.createElement('div');\n",
              "          docLink.innerHTML = docLinkHtml;\n",
              "          element.appendChild(docLink);\n",
              "        }\n",
              "      </script>\n",
              "    </div>\n",
              "  </div>\n",
              "  "
            ]
          },
          "metadata": {},
          "execution_count": 129
        }
      ]
    },
    {
      "cell_type": "code",
      "source": [
        "df = pd.DataFrame.from_dict(formatted_predictions)\n",
        "\n",
        "os.makedirs('output', exist_ok=True)\n",
        "df.to_csv(f'output/submission-{args.name}.csv', index = False, header=True)"
      ],
      "metadata": {
        "id": "KQDULuHVKQB6"
      },
      "execution_count": 130,
      "outputs": []
    },
    {
      "cell_type": "code",
      "source": [
        "pd.read_csv('input/baseline.csv')"
      ],
      "metadata": {
        "colab": {
          "base_uri": "https://localhost:8080/",
          "height": 424
        },
        "id": "CxLtGwZlL0uo",
        "outputId": "5b6f3df9-7aa0-4155-bcf9-112aed28568b"
      },
      "execution_count": 131,
      "outputs": [
        {
          "output_type": "execute_result",
          "data": {
            "text/plain": [
              "                                    Id  \\\n",
              "0     d14cb73158624cf094c546d856fd3c80   \n",
              "1     906631384e91493ebe1c7f34aea6f241   \n",
              "2     35e61dcb479643448a2cb7d326ae50a6   \n",
              "3     075e761b370040cb9041eecd39afc27c   \n",
              "4     e67ed38f3dd944be94d5b4c53731f334   \n",
              "...                                ...   \n",
              "4003  05fcb8054dc44dab8683579c2cf5e465   \n",
              "4004  cc7f826b66724ce9b39e3a974ca15661   \n",
              "4005  3282034aa41e4fab980851ffd4a868dd   \n",
              "4006  0a73550b36df4baf82ac2f98619d22e7   \n",
              "4007  dfe6ef25f84f461e89e54d370e4521d5   \n",
              "\n",
              "                                              Predicted  \n",
              "0                                                     뉴  \n",
              "1     의도적으로 여객기 하강버튼을 눌렀고, 여객기의 하강속도가 빨라졌다”며 “사고 직전 ...  \n",
              "2                                                    미국  \n",
              "3                                  “톱 50 가운데 22개가 IT 기업  \n",
              "4                                                   백혈병  \n",
              "...                                                 ...  \n",
              "4003                                              200만엔  \n",
              "4004  한국전쟁 당시 언니인 수지는 여동생 오목이를 고의로 방치했다. 수지는 신경쓰지 않고...  \n",
              "4005  1069달러)의 절반 수준으로 올 들어 하락세가 계속되고 있다.특히 아시아~유럽 노...  \n",
              "4006  사흘간 추이를 지켜보며 휴업이 더 필요하다고 판단되면 휴업 연장 여부를 포함한 별도...  \n",
              "4007                                                시진핑  \n",
              "\n",
              "[4008 rows x 2 columns]"
            ],
            "text/html": [
              "\n",
              "  <div id=\"df-5e438604-c43c-4a9e-8081-88f0a969cefa\">\n",
              "    <div class=\"colab-df-container\">\n",
              "      <div>\n",
              "<style scoped>\n",
              "    .dataframe tbody tr th:only-of-type {\n",
              "        vertical-align: middle;\n",
              "    }\n",
              "\n",
              "    .dataframe tbody tr th {\n",
              "        vertical-align: top;\n",
              "    }\n",
              "\n",
              "    .dataframe thead th {\n",
              "        text-align: right;\n",
              "    }\n",
              "</style>\n",
              "<table border=\"1\" class=\"dataframe\">\n",
              "  <thead>\n",
              "    <tr style=\"text-align: right;\">\n",
              "      <th></th>\n",
              "      <th>Id</th>\n",
              "      <th>Predicted</th>\n",
              "    </tr>\n",
              "  </thead>\n",
              "  <tbody>\n",
              "    <tr>\n",
              "      <th>0</th>\n",
              "      <td>d14cb73158624cf094c546d856fd3c80</td>\n",
              "      <td>뉴</td>\n",
              "    </tr>\n",
              "    <tr>\n",
              "      <th>1</th>\n",
              "      <td>906631384e91493ebe1c7f34aea6f241</td>\n",
              "      <td>의도적으로 여객기 하강버튼을 눌렀고, 여객기의 하강속도가 빨라졌다”며 “사고 직전 ...</td>\n",
              "    </tr>\n",
              "    <tr>\n",
              "      <th>2</th>\n",
              "      <td>35e61dcb479643448a2cb7d326ae50a6</td>\n",
              "      <td>미국</td>\n",
              "    </tr>\n",
              "    <tr>\n",
              "      <th>3</th>\n",
              "      <td>075e761b370040cb9041eecd39afc27c</td>\n",
              "      <td>“톱 50 가운데 22개가 IT 기업</td>\n",
              "    </tr>\n",
              "    <tr>\n",
              "      <th>4</th>\n",
              "      <td>e67ed38f3dd944be94d5b4c53731f334</td>\n",
              "      <td>백혈병</td>\n",
              "    </tr>\n",
              "    <tr>\n",
              "      <th>...</th>\n",
              "      <td>...</td>\n",
              "      <td>...</td>\n",
              "    </tr>\n",
              "    <tr>\n",
              "      <th>4003</th>\n",
              "      <td>05fcb8054dc44dab8683579c2cf5e465</td>\n",
              "      <td>200만엔</td>\n",
              "    </tr>\n",
              "    <tr>\n",
              "      <th>4004</th>\n",
              "      <td>cc7f826b66724ce9b39e3a974ca15661</td>\n",
              "      <td>한국전쟁 당시 언니인 수지는 여동생 오목이를 고의로 방치했다. 수지는 신경쓰지 않고...</td>\n",
              "    </tr>\n",
              "    <tr>\n",
              "      <th>4005</th>\n",
              "      <td>3282034aa41e4fab980851ffd4a868dd</td>\n",
              "      <td>1069달러)의 절반 수준으로 올 들어 하락세가 계속되고 있다.특히 아시아~유럽 노...</td>\n",
              "    </tr>\n",
              "    <tr>\n",
              "      <th>4006</th>\n",
              "      <td>0a73550b36df4baf82ac2f98619d22e7</td>\n",
              "      <td>사흘간 추이를 지켜보며 휴업이 더 필요하다고 판단되면 휴업 연장 여부를 포함한 별도...</td>\n",
              "    </tr>\n",
              "    <tr>\n",
              "      <th>4007</th>\n",
              "      <td>dfe6ef25f84f461e89e54d370e4521d5</td>\n",
              "      <td>시진핑</td>\n",
              "    </tr>\n",
              "  </tbody>\n",
              "</table>\n",
              "<p>4008 rows × 2 columns</p>\n",
              "</div>\n",
              "      <button class=\"colab-df-convert\" onclick=\"convertToInteractive('df-5e438604-c43c-4a9e-8081-88f0a969cefa')\"\n",
              "              title=\"Convert this dataframe to an interactive table.\"\n",
              "              style=\"display:none;\">\n",
              "        \n",
              "  <svg xmlns=\"http://www.w3.org/2000/svg\" height=\"24px\"viewBox=\"0 0 24 24\"\n",
              "       width=\"24px\">\n",
              "    <path d=\"M0 0h24v24H0V0z\" fill=\"none\"/>\n",
              "    <path d=\"M18.56 5.44l.94 2.06.94-2.06 2.06-.94-2.06-.94-.94-2.06-.94 2.06-2.06.94zm-11 1L8.5 8.5l.94-2.06 2.06-.94-2.06-.94L8.5 2.5l-.94 2.06-2.06.94zm10 10l.94 2.06.94-2.06 2.06-.94-2.06-.94-.94-2.06-.94 2.06-2.06.94z\"/><path d=\"M17.41 7.96l-1.37-1.37c-.4-.4-.92-.59-1.43-.59-.52 0-1.04.2-1.43.59L10.3 9.45l-7.72 7.72c-.78.78-.78 2.05 0 2.83L4 21.41c.39.39.9.59 1.41.59.51 0 1.02-.2 1.41-.59l7.78-7.78 2.81-2.81c.8-.78.8-2.07 0-2.86zM5.41 20L4 18.59l7.72-7.72 1.47 1.35L5.41 20z\"/>\n",
              "  </svg>\n",
              "      </button>\n",
              "      \n",
              "  <style>\n",
              "    .colab-df-container {\n",
              "      display:flex;\n",
              "      flex-wrap:wrap;\n",
              "      gap: 12px;\n",
              "    }\n",
              "\n",
              "    .colab-df-convert {\n",
              "      background-color: #E8F0FE;\n",
              "      border: none;\n",
              "      border-radius: 50%;\n",
              "      cursor: pointer;\n",
              "      display: none;\n",
              "      fill: #1967D2;\n",
              "      height: 32px;\n",
              "      padding: 0 0 0 0;\n",
              "      width: 32px;\n",
              "    }\n",
              "\n",
              "    .colab-df-convert:hover {\n",
              "      background-color: #E2EBFA;\n",
              "      box-shadow: 0px 1px 2px rgba(60, 64, 67, 0.3), 0px 1px 3px 1px rgba(60, 64, 67, 0.15);\n",
              "      fill: #174EA6;\n",
              "    }\n",
              "\n",
              "    [theme=dark] .colab-df-convert {\n",
              "      background-color: #3B4455;\n",
              "      fill: #D2E3FC;\n",
              "    }\n",
              "\n",
              "    [theme=dark] .colab-df-convert:hover {\n",
              "      background-color: #434B5C;\n",
              "      box-shadow: 0px 1px 3px 1px rgba(0, 0, 0, 0.15);\n",
              "      filter: drop-shadow(0px 1px 2px rgba(0, 0, 0, 0.3));\n",
              "      fill: #FFFFFF;\n",
              "    }\n",
              "  </style>\n",
              "\n",
              "      <script>\n",
              "        const buttonEl =\n",
              "          document.querySelector('#df-5e438604-c43c-4a9e-8081-88f0a969cefa button.colab-df-convert');\n",
              "        buttonEl.style.display =\n",
              "          google.colab.kernel.accessAllowed ? 'block' : 'none';\n",
              "\n",
              "        async function convertToInteractive(key) {\n",
              "          const element = document.querySelector('#df-5e438604-c43c-4a9e-8081-88f0a969cefa');\n",
              "          const dataTable =\n",
              "            await google.colab.kernel.invokeFunction('convertToInteractive',\n",
              "                                                     [key], {});\n",
              "          if (!dataTable) return;\n",
              "\n",
              "          const docLinkHtml = 'Like what you see? Visit the ' +\n",
              "            '<a target=\"_blank\" href=https://colab.research.google.com/notebooks/data_table.ipynb>data table notebook</a>'\n",
              "            + ' to learn more about interactive tables.';\n",
              "          element.innerHTML = '';\n",
              "          dataTable['output_type'] = 'display_data';\n",
              "          await google.colab.output.renderOutput(dataTable, element);\n",
              "          const docLink = document.createElement('div');\n",
              "          docLink.innerHTML = docLinkHtml;\n",
              "          element.appendChild(docLink);\n",
              "        }\n",
              "      </script>\n",
              "    </div>\n",
              "  </div>\n",
              "  "
            ]
          },
          "metadata": {},
          "execution_count": 131
        }
      ]
    },
    {
      "cell_type": "code",
      "source": [
        "pd.read_csv(f'output/submission-{args.name}.csv')"
      ],
      "metadata": {
        "colab": {
          "base_uri": "https://localhost:8080/",
          "height": 424
        },
        "id": "OJbsxABuLikT",
        "outputId": "37905f4f-e8c0-47a6-e6de-8000582615b5"
      },
      "execution_count": 132,
      "outputs": [
        {
          "output_type": "execute_result",
          "data": {
            "text/plain": [
              "                                    Id    Predicted\n",
              "0     d14cb73158624cf094c546d856fd3c80      뉴 740Li\n",
              "1     906631384e91493ebe1c7f34aea6f241    독일 뒤셀도르프로\n",
              "2     35e61dcb479643448a2cb7d326ae50a6       베인&컴퍼니\n",
              "3     075e761b370040cb9041eecd39afc27c       베인&컴퍼니\n",
              "4     e67ed38f3dd944be94d5b4c53731f334         마드리드\n",
              "...                                ...          ...\n",
              "4003  05fcb8054dc44dab8683579c2cf5e465       1000만엔\n",
              "4004  cc7f826b66724ce9b39e3a974ca15661     중동 건설 현장\n",
              "4005  3282034aa41e4fab980851ffd4a868dd    아시아~유럽 노선\n",
              "4006  0a73550b36df4baf82ac2f98619d22e7  월요일부터 수요일까지\n",
              "4007  dfe6ef25f84f461e89e54d370e4521d5           중국\n",
              "\n",
              "[4008 rows x 2 columns]"
            ],
            "text/html": [
              "\n",
              "  <div id=\"df-d3643a99-001b-47bb-8acf-ece83baf95f5\">\n",
              "    <div class=\"colab-df-container\">\n",
              "      <div>\n",
              "<style scoped>\n",
              "    .dataframe tbody tr th:only-of-type {\n",
              "        vertical-align: middle;\n",
              "    }\n",
              "\n",
              "    .dataframe tbody tr th {\n",
              "        vertical-align: top;\n",
              "    }\n",
              "\n",
              "    .dataframe thead th {\n",
              "        text-align: right;\n",
              "    }\n",
              "</style>\n",
              "<table border=\"1\" class=\"dataframe\">\n",
              "  <thead>\n",
              "    <tr style=\"text-align: right;\">\n",
              "      <th></th>\n",
              "      <th>Id</th>\n",
              "      <th>Predicted</th>\n",
              "    </tr>\n",
              "  </thead>\n",
              "  <tbody>\n",
              "    <tr>\n",
              "      <th>0</th>\n",
              "      <td>d14cb73158624cf094c546d856fd3c80</td>\n",
              "      <td>뉴 740Li</td>\n",
              "    </tr>\n",
              "    <tr>\n",
              "      <th>1</th>\n",
              "      <td>906631384e91493ebe1c7f34aea6f241</td>\n",
              "      <td>독일 뒤셀도르프로</td>\n",
              "    </tr>\n",
              "    <tr>\n",
              "      <th>2</th>\n",
              "      <td>35e61dcb479643448a2cb7d326ae50a6</td>\n",
              "      <td>베인&amp;컴퍼니</td>\n",
              "    </tr>\n",
              "    <tr>\n",
              "      <th>3</th>\n",
              "      <td>075e761b370040cb9041eecd39afc27c</td>\n",
              "      <td>베인&amp;컴퍼니</td>\n",
              "    </tr>\n",
              "    <tr>\n",
              "      <th>4</th>\n",
              "      <td>e67ed38f3dd944be94d5b4c53731f334</td>\n",
              "      <td>마드리드</td>\n",
              "    </tr>\n",
              "    <tr>\n",
              "      <th>...</th>\n",
              "      <td>...</td>\n",
              "      <td>...</td>\n",
              "    </tr>\n",
              "    <tr>\n",
              "      <th>4003</th>\n",
              "      <td>05fcb8054dc44dab8683579c2cf5e465</td>\n",
              "      <td>1000만엔</td>\n",
              "    </tr>\n",
              "    <tr>\n",
              "      <th>4004</th>\n",
              "      <td>cc7f826b66724ce9b39e3a974ca15661</td>\n",
              "      <td>중동 건설 현장</td>\n",
              "    </tr>\n",
              "    <tr>\n",
              "      <th>4005</th>\n",
              "      <td>3282034aa41e4fab980851ffd4a868dd</td>\n",
              "      <td>아시아~유럽 노선</td>\n",
              "    </tr>\n",
              "    <tr>\n",
              "      <th>4006</th>\n",
              "      <td>0a73550b36df4baf82ac2f98619d22e7</td>\n",
              "      <td>월요일부터 수요일까지</td>\n",
              "    </tr>\n",
              "    <tr>\n",
              "      <th>4007</th>\n",
              "      <td>dfe6ef25f84f461e89e54d370e4521d5</td>\n",
              "      <td>중국</td>\n",
              "    </tr>\n",
              "  </tbody>\n",
              "</table>\n",
              "<p>4008 rows × 2 columns</p>\n",
              "</div>\n",
              "      <button class=\"colab-df-convert\" onclick=\"convertToInteractive('df-d3643a99-001b-47bb-8acf-ece83baf95f5')\"\n",
              "              title=\"Convert this dataframe to an interactive table.\"\n",
              "              style=\"display:none;\">\n",
              "        \n",
              "  <svg xmlns=\"http://www.w3.org/2000/svg\" height=\"24px\"viewBox=\"0 0 24 24\"\n",
              "       width=\"24px\">\n",
              "    <path d=\"M0 0h24v24H0V0z\" fill=\"none\"/>\n",
              "    <path d=\"M18.56 5.44l.94 2.06.94-2.06 2.06-.94-2.06-.94-.94-2.06-.94 2.06-2.06.94zm-11 1L8.5 8.5l.94-2.06 2.06-.94-2.06-.94L8.5 2.5l-.94 2.06-2.06.94zm10 10l.94 2.06.94-2.06 2.06-.94-2.06-.94-.94-2.06-.94 2.06-2.06.94z\"/><path d=\"M17.41 7.96l-1.37-1.37c-.4-.4-.92-.59-1.43-.59-.52 0-1.04.2-1.43.59L10.3 9.45l-7.72 7.72c-.78.78-.78 2.05 0 2.83L4 21.41c.39.39.9.59 1.41.59.51 0 1.02-.2 1.41-.59l7.78-7.78 2.81-2.81c.8-.78.8-2.07 0-2.86zM5.41 20L4 18.59l7.72-7.72 1.47 1.35L5.41 20z\"/>\n",
              "  </svg>\n",
              "      </button>\n",
              "      \n",
              "  <style>\n",
              "    .colab-df-container {\n",
              "      display:flex;\n",
              "      flex-wrap:wrap;\n",
              "      gap: 12px;\n",
              "    }\n",
              "\n",
              "    .colab-df-convert {\n",
              "      background-color: #E8F0FE;\n",
              "      border: none;\n",
              "      border-radius: 50%;\n",
              "      cursor: pointer;\n",
              "      display: none;\n",
              "      fill: #1967D2;\n",
              "      height: 32px;\n",
              "      padding: 0 0 0 0;\n",
              "      width: 32px;\n",
              "    }\n",
              "\n",
              "    .colab-df-convert:hover {\n",
              "      background-color: #E2EBFA;\n",
              "      box-shadow: 0px 1px 2px rgba(60, 64, 67, 0.3), 0px 1px 3px 1px rgba(60, 64, 67, 0.15);\n",
              "      fill: #174EA6;\n",
              "    }\n",
              "\n",
              "    [theme=dark] .colab-df-convert {\n",
              "      background-color: #3B4455;\n",
              "      fill: #D2E3FC;\n",
              "    }\n",
              "\n",
              "    [theme=dark] .colab-df-convert:hover {\n",
              "      background-color: #434B5C;\n",
              "      box-shadow: 0px 1px 3px 1px rgba(0, 0, 0, 0.15);\n",
              "      filter: drop-shadow(0px 1px 2px rgba(0, 0, 0, 0.3));\n",
              "      fill: #FFFFFF;\n",
              "    }\n",
              "  </style>\n",
              "\n",
              "      <script>\n",
              "        const buttonEl =\n",
              "          document.querySelector('#df-d3643a99-001b-47bb-8acf-ece83baf95f5 button.colab-df-convert');\n",
              "        buttonEl.style.display =\n",
              "          google.colab.kernel.accessAllowed ? 'block' : 'none';\n",
              "\n",
              "        async function convertToInteractive(key) {\n",
              "          const element = document.querySelector('#df-d3643a99-001b-47bb-8acf-ece83baf95f5');\n",
              "          const dataTable =\n",
              "            await google.colab.kernel.invokeFunction('convertToInteractive',\n",
              "                                                     [key], {});\n",
              "          if (!dataTable) return;\n",
              "\n",
              "          const docLinkHtml = 'Like what you see? Visit the ' +\n",
              "            '<a target=\"_blank\" href=https://colab.research.google.com/notebooks/data_table.ipynb>data table notebook</a>'\n",
              "            + ' to learn more about interactive tables.';\n",
              "          element.innerHTML = '';\n",
              "          dataTable['output_type'] = 'display_data';\n",
              "          await google.colab.output.renderOutput(dataTable, element);\n",
              "          const docLink = document.createElement('div');\n",
              "          docLink.innerHTML = docLinkHtml;\n",
              "          element.appendChild(docLink);\n",
              "        }\n",
              "      </script>\n",
              "    </div>\n",
              "  </div>\n",
              "  "
            ]
          },
          "metadata": {},
          "execution_count": 132
        }
      ]
    },
    {
      "cell_type": "markdown",
      "source": [
        "# References\n",
        "\n",
        "- https://github.com/huggingface/notebooks/blob/main/examples/question_answering.ipynb\n",
        "- https://github.com/gmihaila/ml_things/blob/master/src/ml_things/plot_functions.py\n",
        "- https://www.topbots.com/pretrain-transformers-models-in-pytorch/"
      ],
      "metadata": {
        "id": "9dTwwX2hv8s2"
      }
    }
  ]
}