{
  "nbformat": 4,
  "nbformat_minor": 0,
  "metadata": {
    "colab": {
      "provenance": [],
      "machine_shape": "hm"
    },
    "kernelspec": {
      "name": "python3",
      "display_name": "Python 3"
    },
    "language_info": {
      "name": "python"
    },
    "gpuClass": "standard"
  },
  "cells": [
    {
      "cell_type": "code",
      "execution_count": null,
      "metadata": {
        "id": "FzP3isimuChN"
      },
      "outputs": [],
      "source": [
        "#!pip install googletrans\n",
        "# 이 버전으로 설치 후 번역 기능을 실행할 때\n",
        "#(AttributeError: 'NoneType' object has no attribute 'group') 에러 발생\n",
        "# 3.0.0 버전까지 AttributeError: 'NoneType' object has no attribute 'group' 오류가 발생하여 실행이 잘 되지 않는 이슈가 있었기때문에 4.0 버전을 지정하여 설치"
      ]
    },
    {
      "cell_type": "markdown",
      "source": [
        "#※ Googletrans API\n",
        "\n",
        "## 1) 주의점\n",
        " - 공식 Google 번역 API를 사용하지 않고 우회하여 translate.google.com 를 호출하여 사용함.\n",
        " - 때문에 비정상적인 호출에 대하여 API가 구글에 의해서 Ban이 당할 수 있으나 빠르게 구현하여 사용할 수 있다는 것\n",
        "\n",
        "## 2) 특징\n",
        "- 언어 감지 및 번역을 도와주는 라이브러리\n",
        "- 빠르고 안정적이다. translate.google.com에서 사용하는 것과 동일한 서버를 사용\n",
        "- 자동 언어 감지\n",
        "- 대량 번역\n",
        "- 맞춤형 서비스 URL\n",
        "- 연결 풀링(requests.Session 사용의 이점)\n",
        "- HTTP/2 지원\n",
        "\n",
        "## 3) 라이센스 및 제한\n",
        "- Googletrans는 Google 번역 API를 구현한 무료 무제한 파이썬 라이브러리\n",
        "- Google 번역 Ajax API를 사용하여 감지 및 번역과 같은 메소드를 호출\n",
        "\n",
        "## 4) 참고\n",
        "- 단일 텍스트의 최대 글자 수는 15k\n",
        "- Google 번역 웹 버전의 제한으로 인해 이 API는 라이브러리가 항상 제대로 작동한다고 보장하지 않음.\n",
        "- 번역할 텍스트의 리스트가 많으면 반복문을 활용하여 호출 시 오래 걸려서 만족한 응답시간을 기대할 수 없음.\n",
        "- 반복적으로 호출 시 내부적으로는 Googletrans API를 여러 번 호출 하기 때문에 오래 걸림.\n",
        "- 대용량 데이터 번역에는 유용하지 않음.\n",
        "\n",
        "## 5) 출처\n",
        "- https://yscho03.tistory.com/m/93"
      ],
      "metadata": {
        "id": "L_EqK10RW9h9"
      }
    },
    {
      "cell_type": "code",
      "source": [
        "!pip3 uninstall googletrans # 기존 설치 버전 삭제\n",
        "#!pip3 install googletrans==3.1.0a0\n",
        "!pip install googletrans==4.0.0-rc1"
      ],
      "metadata": {
        "colab": {
          "base_uri": "https://localhost:8080/"
        },
        "id": "zHbBkj6E25sy",
        "outputId": "1b8ff7ef-c056-40c3-f16d-9b7874295ef1"
      },
      "execution_count": null,
      "outputs": [
        {
          "output_type": "stream",
          "name": "stdout",
          "text": [
            "\u001b[33mWARNING: Skipping googletrans as it is not installed.\u001b[0m\u001b[33m\n",
            "\u001b[0mLooking in indexes: https://pypi.org/simple, https://us-python.pkg.dev/colab-wheels/public/simple/\n",
            "Collecting googletrans==4.0.0-rc1\n",
            "  Downloading googletrans-4.0.0rc1.tar.gz (20 kB)\n",
            "  Preparing metadata (setup.py) ... \u001b[?25l\u001b[?25hdone\n",
            "Collecting httpx==0.13.3\n",
            "  Downloading httpx-0.13.3-py3-none-any.whl (55 kB)\n",
            "\u001b[2K     \u001b[90m━━━━━━━━━━━━━━━━━━━━━━━━━━━━━━━━━━━━━━━━\u001b[0m \u001b[32m55.1/55.1 KB\u001b[0m \u001b[31m2.9 MB/s\u001b[0m eta \u001b[36m0:00:00\u001b[0m\n",
            "\u001b[?25hRequirement already satisfied: certifi in /usr/local/lib/python3.8/dist-packages (from httpx==0.13.3->googletrans==4.0.0-rc1) (2022.12.7)\n",
            "Collecting httpcore==0.9.*\n",
            "  Downloading httpcore-0.9.1-py3-none-any.whl (42 kB)\n",
            "\u001b[2K     \u001b[90m━━━━━━━━━━━━━━━━━━━━━━━━━━━━━━━━━━━━━━━━\u001b[0m \u001b[32m42.6/42.6 KB\u001b[0m \u001b[31m4.3 MB/s\u001b[0m eta \u001b[36m0:00:00\u001b[0m\n",
            "\u001b[?25hCollecting hstspreload\n",
            "  Downloading hstspreload-2023.1.1-py3-none-any.whl (1.5 MB)\n",
            "\u001b[2K     \u001b[90m━━━━━━━━━━━━━━━━━━━━━━━━━━━━━━━━━━━━━━━━\u001b[0m \u001b[32m1.5/1.5 MB\u001b[0m \u001b[31m24.9 MB/s\u001b[0m eta \u001b[36m0:00:00\u001b[0m\n",
            "\u001b[?25hRequirement already satisfied: idna==2.* in /usr/local/lib/python3.8/dist-packages (from httpx==0.13.3->googletrans==4.0.0-rc1) (2.10)\n",
            "Collecting chardet==3.*\n",
            "  Downloading chardet-3.0.4-py2.py3-none-any.whl (133 kB)\n",
            "\u001b[2K     \u001b[90m━━━━━━━━━━━━━━━━━━━━━━━━━━━━━━━━━━━━━━\u001b[0m \u001b[32m133.4/133.4 KB\u001b[0m \u001b[31m12.1 MB/s\u001b[0m eta \u001b[36m0:00:00\u001b[0m\n",
            "\u001b[?25hCollecting sniffio\n",
            "  Downloading sniffio-1.3.0-py3-none-any.whl (10 kB)\n",
            "Collecting rfc3986<2,>=1.3\n",
            "  Downloading rfc3986-1.5.0-py2.py3-none-any.whl (31 kB)\n",
            "Collecting h11<0.10,>=0.8\n",
            "  Downloading h11-0.9.0-py2.py3-none-any.whl (53 kB)\n",
            "\u001b[2K     \u001b[90m━━━━━━━━━━━━━━━━━━━━━━━━━━━━━━━━━━━━━━━━\u001b[0m \u001b[32m53.6/53.6 KB\u001b[0m \u001b[31m4.8 MB/s\u001b[0m eta \u001b[36m0:00:00\u001b[0m\n",
            "\u001b[?25hCollecting h2==3.*\n",
            "  Downloading h2-3.2.0-py2.py3-none-any.whl (65 kB)\n",
            "\u001b[2K     \u001b[90m━━━━━━━━━━━━━━━━━━━━━━━━━━━━━━━━━━━━━━━━\u001b[0m \u001b[32m65.0/65.0 KB\u001b[0m \u001b[31m6.4 MB/s\u001b[0m eta \u001b[36m0:00:00\u001b[0m\n",
            "\u001b[?25hCollecting hyperframe<6,>=5.2.0\n",
            "  Downloading hyperframe-5.2.0-py2.py3-none-any.whl (12 kB)\n",
            "Collecting hpack<4,>=3.0\n",
            "  Downloading hpack-3.0.0-py2.py3-none-any.whl (38 kB)\n",
            "Building wheels for collected packages: googletrans\n",
            "  Building wheel for googletrans (setup.py) ... \u001b[?25l\u001b[?25hdone\n",
            "  Created wheel for googletrans: filename=googletrans-4.0.0rc1-py3-none-any.whl size=17414 sha256=c1a6642b3d01f35d492124dc484b3ff34e8c627a436b10d52265ba17b8a779b4\n",
            "  Stored in directory: /root/.cache/pip/wheels/a9/25/af/715361fa79594524c89c75d293def652045f3fdce6ca398712\n",
            "Successfully built googletrans\n",
            "Installing collected packages: rfc3986, hyperframe, hpack, h11, chardet, sniffio, hstspreload, h2, httpcore, httpx, googletrans\n",
            "  Attempting uninstall: chardet\n",
            "    Found existing installation: chardet 4.0.0\n",
            "    Uninstalling chardet-4.0.0:\n",
            "      Successfully uninstalled chardet-4.0.0\n",
            "Successfully installed chardet-3.0.4 googletrans-4.0.0rc1 h11-0.9.0 h2-3.2.0 hpack-3.0.0 hstspreload-2023.1.1 httpcore-0.9.1 httpx-0.13.3 hyperframe-5.2.0 rfc3986-1.5.0 sniffio-1.3.0\n"
          ]
        }
      ]
    },
    {
      "cell_type": "markdown",
      "source": [
        "## Import libraries"
      ],
      "metadata": {
        "id": "dY2TVx612LtD"
      }
    },
    {
      "cell_type": "code",
      "source": [
        "from googletrans import Translator\n",
        "import pandas as pd\n",
        "import random\n",
        "import copy"
      ],
      "metadata": {
        "id": "2a3ACG9_xivD"
      },
      "execution_count": null,
      "outputs": []
    },
    {
      "cell_type": "markdown",
      "source": [
        "## Data Preprocessing"
      ],
      "metadata": {
        "id": "Y3RwB7tY2PmU"
      }
    },
    {
      "cell_type": "code",
      "source": [
        "# API 요청 횟수 줄임으로써 응답시간 줄이기\n",
        "'''\n",
        "15k까지 텍스트 제한이 걸리므로 리스트 요소마다 구분자를 넣어주고,\n",
        "15k씩 텍스트를 잘라서 요청하여 API 요청 횟수를 줄여 네트워크 부하를 줄임.\n",
        "시행착오\n",
        "한글 > 영어: MAX_BYTE = 1024*15 로 설정하여 시행\n",
        "영어 > 한글: MAX_BYTE = 5000 로 설정하여 시행\n",
        "이상 혹은 이하로 설정 시 (the JSON object must be str, bytes or bytearray, not NoneType), The read operation timed out 에러 발생\n",
        "'''\n",
        "DELIMITER = '\\n'\n",
        "MAX_BYTE = 5000  # 15k, 5k, 4.5k, 4k\n",
        "\n",
        "def wrap_text(texts):\n",
        "    \"\"\"\n",
        "    번역을 하지 않는 구간을 특정 기호로 문장을 합쳐서 요청\n",
        "    예) ['안녕하시오', '잘 가시오?'] → '안녕하시오.\\n잘 가시오.'\n",
        "    \"\"\"\n",
        "    texts = [text.replace(DELIMITER, '<span class=\"notranslate\">space</span>') for text in texts]\n",
        "    return DELIMITER.join(texts)\n",
        "\n",
        "def unwrap_text(wrapped_text):\n",
        "    \"\"\"\n",
        "    번역된 문장을 다시 특정 기호로 문장을 잘라줌.\n",
        "    예) '안녕하시오.\\n잘 가시오.' →  ['안녕하시오', '잘 가시오.']\n",
        "    \"\"\"\n",
        "    texts = wrapped_text.split(DELIMITER)\n",
        "    texts = [text.replace('<span class=\"notranslate\">space</span>', DELIMITER) for text in texts]\n",
        "    return texts\n",
        "    \n",
        "def chunk_text_byte(text, max_byte=MAX_BYTE, delimiter=DELIMITER):\n",
        "    \"\"\"\n",
        "    대량의 번역 문장들을 순차적으로 translate 함수를 요청시 내부적으로는 API 요청을 \n",
        "    여러번 요청하게 되어 있으므로 성능적으로 느린 응답을 가져오게 되므로\n",
        "    15K 까지 글자수가 제한이 되어있으므로 15K씩 잘라서 요청하는 것으로 네트워크 부하를 줄일 수 있음.\n",
        "    \"\"\"\n",
        "    text = text.encode('utf-8')\n",
        "    delimiter = delimiter.encode('utf-8')\n",
        "    words = iter(text.split(delimiter))\n",
        "    lines, current = [], next(words)\n",
        "\n",
        "    for word in words:\n",
        "        if len(current) + 1 + len(word) > max_byte:\n",
        "            lines.append(current.decode('utf-8'))\n",
        "            current = word\n",
        "        else:\n",
        "            current += delimiter + word\n",
        "    lines.append(current.decode('utf-8'))\n",
        "    return lines"
      ],
      "metadata": {
        "id": "4Jp_KfzT43tv"
      },
      "execution_count": null,
      "outputs": []
    },
    {
      "cell_type": "code",
      "source": [
        "dt = pd.read_csv('/content/drive/MyDrive/Team_Project/Project3(translate)/구어체_test.csv') #encoding='utf-8'\n",
        "dt"
      ],
      "metadata": {
        "id": "3CzpbqkvGl5v"
      },
      "execution_count": null,
      "outputs": []
    },
    {
      "cell_type": "code",
      "source": [
        "# 데이터 열을 선택하여 리스트 화\n",
        "dt = dt['원문']\n",
        "dt_val = dt.values\n",
        "dt_list = dt_val.tolist()"
      ],
      "metadata": {
        "id": "4rPX9mmdHLgV"
      },
      "execution_count": null,
      "outputs": []
    },
    {
      "cell_type": "code",
      "source": [
        "print(len(dt_list))"
      ],
      "metadata": {
        "colab": {
          "base_uri": "https://localhost:8080/"
        },
        "id": "-CjXAyIcwG8T",
        "outputId": "2eb23a66-8d21-48dc-87f8-46989e516480"
      },
      "execution_count": null,
      "outputs": [
        {
          "output_type": "stream",
          "name": "stdout",
          "text": [
            "100000\n"
          ]
        }
      ]
    },
    {
      "cell_type": "code",
      "source": [
        "'''\n",
        "translator = Translator()\n",
        "translate_texts = []\n",
        "\n",
        "# 100,000개 데이터를 한 번에 번역시 글자 15k 제한으로 인해 The read operation timed out 에러 발생\n",
        "for target_text in dt_list_temp:\n",
        "    translate_texts.append(translator.translate(text=target_text, dest='en').text)\n",
        "'''"
      ],
      "metadata": {
        "id": "eY7E7dF6IR_u"
      },
      "execution_count": null,
      "outputs": []
    },
    {
      "cell_type": "code",
      "source": [
        "translated_texts = []"
      ],
      "metadata": {
        "id": "jD6GRXxi2uC8"
      },
      "execution_count": null,
      "outputs": []
    },
    {
      "cell_type": "code",
      "source": [
        "# 여비 샘플 깊은 복사 실행\n",
        "dt_list_temp = copy.deepcopy(dt_list)"
      ],
      "metadata": {
        "id": "bDZxjpe8VYCR"
      },
      "execution_count": null,
      "outputs": []
    },
    {
      "cell_type": "code",
      "source": [
        "# 80 * 1250 = 100,000\n",
        "for _ in range(1, 1251):\n",
        "\n",
        "    dt_test = []\n",
        "    # 80으로 설정한 이유: 한글 > 영어 번역시 80초과으로 설정하면 번역되지 않음.\n",
        "    for _ in range(80):\n",
        "        dt_test.append(dt_list_temp[0])\n",
        "        dt_list_temp.pop(0)\n",
        "\n",
        "    translator = Translator()\n",
        "    translation = ''\n",
        "\n",
        "    for splitted_text in chunk_text_byte(wrap_text(dt_test)):\n",
        "        translation += translator.translate(text=splitted_text, dest='en').text\n",
        "\n",
        "    for translated_text in unwrap_text(translation):\n",
        "        translated_texts.append(translated_text)"
      ],
      "metadata": {
        "id": "O7CGcMyhVZVG"
      },
      "execution_count": null,
      "outputs": []
    },
    {
      "cell_type": "code",
      "source": [
        "dt_t_list = pd.DataFrame(dt_list, columns = ['번역전'])\n",
        "dt_t_list['영어'] = translated_texts\n",
        "#dt_ko = pd.DataFrame(translated_texts, columns = ['영어번역'])"
      ],
      "metadata": {
        "id": "vQ8Ac1HJ-fse"
      },
      "execution_count": null,
      "outputs": []
    },
    {
      "cell_type": "code",
      "source": [
        "dt_t_list.to_csv('/content/drive/MyDrive/Team_Project/Project3(translate)/trans_test(1).csv', encoding='utf-8', index=False)"
      ],
      "metadata": {
        "id": "ZffQE0-cQlGN"
      },
      "execution_count": null,
      "outputs": []
    },
    {
      "cell_type": "code",
      "source": [
        "print(len(dt_list_temp))\n",
        "print(len(dt_test))\n",
        "print(len(translated_texts))"
      ],
      "metadata": {
        "colab": {
          "base_uri": "https://localhost:8080/"
        },
        "id": "Xs6AvBXSF8yV",
        "outputId": "fe1a067a-de90-4f83-b7cb-53b5933d1524"
      },
      "execution_count": null,
      "outputs": [
        {
          "output_type": "stream",
          "name": "stdout",
          "text": [
            "0\n",
            "240\n",
            "100000\n"
          ]
        }
      ]
    },
    {
      "cell_type": "code",
      "source": [
        "df = pd.read_csv('/content/drive/MyDrive/Team_Project/Project3(translate)/trans_test(1).csv') #encoding='utf-8'"
      ],
      "metadata": {
        "id": "Hbur3G8wRrz9"
      },
      "execution_count": null,
      "outputs": []
    },
    {
      "cell_type": "code",
      "source": [
        "df_t = df['영어']\n",
        "df_val = df_t.values\n",
        "df_list = df_val.tolist()"
      ],
      "metadata": {
        "id": "E7UwpCaDR1T1"
      },
      "execution_count": null,
      "outputs": []
    },
    {
      "cell_type": "code",
      "source": [
        "print(len(df_list))"
      ],
      "metadata": {
        "colab": {
          "base_uri": "https://localhost:8080/"
        },
        "id": "I39tvaKtSJhR",
        "outputId": "68fbfc08-6aab-4dd6-8278-4315fe92412f"
      },
      "execution_count": null,
      "outputs": [
        {
          "output_type": "stream",
          "name": "stdout",
          "text": [
            "100000\n"
          ]
        }
      ]
    },
    {
      "cell_type": "code",
      "source": [
        "df_trans_temp = copy.deepcopy(df_list)"
      ],
      "metadata": {
        "id": "67LeZasLdZxF"
      },
      "execution_count": null,
      "outputs": []
    },
    {
      "cell_type": "code",
      "source": [
        "'''translated_texts_ko = []'''"
      ],
      "metadata": {
        "id": "8MT_mPW53EtT"
      },
      "execution_count": null,
      "outputs": []
    },
    {
      "cell_type": "code",
      "source": [
        "translated_texts_ko_t = []"
      ],
      "metadata": {
        "id": "TfXBBlG3eWD9"
      },
      "execution_count": null,
      "outputs": []
    },
    {
      "cell_type": "code",
      "source": [
        "for _ in range(1, 1251):\n",
        "\n",
        "    df_test = []\n",
        "    for _ in range(80):\n",
        "        df_test.append(df_trans_temp[0])\n",
        "        df_trans_temp.pop(0)\n",
        "\n",
        "    translator = Translator()\n",
        "    translation_ko = ''\n",
        "\n",
        "    if df_test is not None:\n",
        "        for splitted_text in chunk_text_byte(wrap_text(df_test)):\n",
        "            translation_ko += translator.translate(text=splitted_text, dest='ko').text\n",
        "\n",
        "    for translated_text in unwrap_text(translation_ko):\n",
        "        translated_texts_ko_t.append(translated_text)"
      ],
      "metadata": {
        "id": "4vtqB9IHdVLV"
      },
      "execution_count": null,
      "outputs": []
    },
    {
      "cell_type": "code",
      "source": [
        "print(len(df_trans_temp))\n",
        "print(len(df_test))\n",
        "print(len(translated_texts_ko_t))"
      ],
      "metadata": {
        "colab": {
          "base_uri": "https://localhost:8080/"
        },
        "id": "ZOgAubd3sNPO",
        "outputId": "a0a9f63f-4ed8-4699-ebbc-1da6ef0e9138"
      },
      "execution_count": null,
      "outputs": [
        {
          "output_type": "stream",
          "name": "stdout",
          "text": [
            "0\n",
            "80\n",
            "99988\n"
          ]
        }
      ]
    },
    {
      "cell_type": "code",
      "source": [
        "translated_texts_ko_t"
      ],
      "metadata": {
        "id": "FJsdC0zAiwu8"
      },
      "execution_count": null,
      "outputs": []
    },
    {
      "cell_type": "code",
      "source": [
        "df_t_list = pd.DataFrame(translated_texts_ko_t, columns = ['번역후'])\n",
        "df_t_list.to_csv('/content/drive/MyDrive/Team_Project/Project3(translate)/trans_test(3).csv', index=False)"
      ],
      "metadata": {
        "id": "spVkBIgH1m-M"
      },
      "execution_count": null,
      "outputs": []
    },
    {
      "cell_type": "code",
      "source": [
        "df_t_list"
      ],
      "metadata": {
        "id": "tq8oFFFIi3Lq"
      },
      "execution_count": null,
      "outputs": []
    },
    {
      "cell_type": "code",
      "source": [
        "'''#dt_t = pd.DataFrame(dt_list, columns = ['구어체'])\n",
        "dt_en = pd.DataFrame(dt_test_trans, columns = ['영어번역'])\n",
        "dt_ko = pd.DataFrame(dt_test_trans_ko, columns = ['한글번역'])'''"
      ],
      "metadata": {
        "id": "3zuGGIjUIu3D"
      },
      "execution_count": null,
      "outputs": []
    },
    {
      "cell_type": "code",
      "source": [
        "trans_dt = pd.read_csv('/content/drive/MyDrive/Team_Project/Project3(translate)/trans_test_dastset(1).csv', encoding='cp949')"
      ],
      "metadata": {
        "id": "ba7HklAFzcm6"
      },
      "execution_count": null,
      "outputs": []
    },
    {
      "cell_type": "code",
      "source": [
        "trans_dt"
      ],
      "metadata": {
        "colab": {
          "base_uri": "https://localhost:8080/",
          "height": 424
        },
        "id": "jRxfd4UO0eeo",
        "outputId": "8d6039c3-7ce4-4b46-bf85-7631f223e367"
      },
      "execution_count": null,
      "outputs": [
        {
          "output_type": "execute_result",
          "data": {
            "text/plain": [
              "                                            번역전  \\\n",
              "0                    사과는 잘 씻은 뒤 껍질 채 먹는 게 좋다네요.   \n",
              "1                            내가 언제까지 거기 가면 됩니까?   \n",
              "2                         우리가 작성해서 전달해 드려야 하나요?   \n",
              "3                     난 지금 행복해요, 세상이 나를 원하고 있죠.   \n",
              "4                        그는 틀림없이 꽃 가게에 들렸을 겁니다.   \n",
              "...                                         ...   \n",
              "99995               그럼 컨셉을 약간 바꾸는 것도 좋은 방법이겠네요.   \n",
              "99996                    객실 안에 비밀번호가 작성되어 있습니다.   \n",
              "99997                 4번 게이트로 갔을 때 바로 찾을 수 있나요?   \n",
              "99998  지금 3개나 빠진 상태인데 한꺼번에 이렇게 많이 빠져도 상관없는 건가요?   \n",
              "99999           저기 앞에 창가 쪽 좌석인데 제 친구랑 같이 앉으려고요.   \n",
              "\n",
              "                                                    영어번역  \\\n",
              "0            It is better to wash the apples and eat it.   \n",
              "1                               How long can I go there?   \n",
              "2                           Should we write and deliver?   \n",
              "3                     I'm happy now, the world wants me.   \n",
              "4                    He must have been in a flower shop.   \n",
              "...                                                  ...   \n",
              "99995  Then it's a good idea to change the concept a ...   \n",
              "99996                 A password is written in the room.   \n",
              "99997         Can I find it right when I went to Gate 4?   \n",
              "99998  I'm missing 3 of them right now. Does it matte...   \n",
              "99999  It's a seat side in front of you, and I'm goin...   \n",
              "\n",
              "                                         한글번역  \n",
              "0                          사과를 씻고 먹는 것이 낫습니다.  \n",
              "1                        거기에 얼마나 오래 갈 수 있습니까?  \n",
              "2                             우리는 쓰고 전달해야합니까?  \n",
              "3                   나는 지금 행복합니다. 세상은 나를 원합니다.  \n",
              "4                          그는 꽃 가게에 있었을 것입니다.  \n",
              "...                                       ...  \n",
              "99995               그런 다음 개념을 조금 바꾸는 것이 좋습니다.  \n",
              "99996                           암호는 방에 작성됩니다.  \n",
              "99997               게이트 4에 갔을 때 바로 찾을 수 있습니까?  \n",
              "99998    지금 3개를 놓치고 있습니다. 이만큼 한꺼번에 잃어도 상관없나요?  \n",
              "99999  그것은 당신 앞에 좌석이 있고, 나는 내 친구와 함께 앉을 것입니다.  \n",
              "\n",
              "[100000 rows x 3 columns]"
            ],
            "text/html": [
              "\n",
              "  <div id=\"df-c28a9695-9013-4b5c-8ddd-7aedfba7ed2f\">\n",
              "    <div class=\"colab-df-container\">\n",
              "      <div>\n",
              "<style scoped>\n",
              "    .dataframe tbody tr th:only-of-type {\n",
              "        vertical-align: middle;\n",
              "    }\n",
              "\n",
              "    .dataframe tbody tr th {\n",
              "        vertical-align: top;\n",
              "    }\n",
              "\n",
              "    .dataframe thead th {\n",
              "        text-align: right;\n",
              "    }\n",
              "</style>\n",
              "<table border=\"1\" class=\"dataframe\">\n",
              "  <thead>\n",
              "    <tr style=\"text-align: right;\">\n",
              "      <th></th>\n",
              "      <th>번역전</th>\n",
              "      <th>영어번역</th>\n",
              "      <th>한글번역</th>\n",
              "    </tr>\n",
              "  </thead>\n",
              "  <tbody>\n",
              "    <tr>\n",
              "      <th>0</th>\n",
              "      <td>사과는 잘 씻은 뒤 껍질 채 먹는 게 좋다네요.</td>\n",
              "      <td>It is better to wash the apples and eat it.</td>\n",
              "      <td>사과를 씻고 먹는 것이 낫습니다.</td>\n",
              "    </tr>\n",
              "    <tr>\n",
              "      <th>1</th>\n",
              "      <td>내가 언제까지 거기 가면 됩니까?</td>\n",
              "      <td>How long can I go there?</td>\n",
              "      <td>거기에 얼마나 오래 갈 수 있습니까?</td>\n",
              "    </tr>\n",
              "    <tr>\n",
              "      <th>2</th>\n",
              "      <td>우리가 작성해서 전달해 드려야 하나요?</td>\n",
              "      <td>Should we write and deliver?</td>\n",
              "      <td>우리는 쓰고 전달해야합니까?</td>\n",
              "    </tr>\n",
              "    <tr>\n",
              "      <th>3</th>\n",
              "      <td>난 지금 행복해요, 세상이 나를 원하고 있죠.</td>\n",
              "      <td>I'm happy now, the world wants me.</td>\n",
              "      <td>나는 지금 행복합니다. 세상은 나를 원합니다.</td>\n",
              "    </tr>\n",
              "    <tr>\n",
              "      <th>4</th>\n",
              "      <td>그는 틀림없이 꽃 가게에 들렸을 겁니다.</td>\n",
              "      <td>He must have been in a flower shop.</td>\n",
              "      <td>그는 꽃 가게에 있었을 것입니다.</td>\n",
              "    </tr>\n",
              "    <tr>\n",
              "      <th>...</th>\n",
              "      <td>...</td>\n",
              "      <td>...</td>\n",
              "      <td>...</td>\n",
              "    </tr>\n",
              "    <tr>\n",
              "      <th>99995</th>\n",
              "      <td>그럼 컨셉을 약간 바꾸는 것도 좋은 방법이겠네요.</td>\n",
              "      <td>Then it's a good idea to change the concept a ...</td>\n",
              "      <td>그런 다음 개념을 조금 바꾸는 것이 좋습니다.</td>\n",
              "    </tr>\n",
              "    <tr>\n",
              "      <th>99996</th>\n",
              "      <td>객실 안에 비밀번호가 작성되어 있습니다.</td>\n",
              "      <td>A password is written in the room.</td>\n",
              "      <td>암호는 방에 작성됩니다.</td>\n",
              "    </tr>\n",
              "    <tr>\n",
              "      <th>99997</th>\n",
              "      <td>4번 게이트로 갔을 때 바로 찾을 수 있나요?</td>\n",
              "      <td>Can I find it right when I went to Gate 4?</td>\n",
              "      <td>게이트 4에 갔을 때 바로 찾을 수 있습니까?</td>\n",
              "    </tr>\n",
              "    <tr>\n",
              "      <th>99998</th>\n",
              "      <td>지금 3개나 빠진 상태인데 한꺼번에 이렇게 많이 빠져도 상관없는 건가요?</td>\n",
              "      <td>I'm missing 3 of them right now. Does it matte...</td>\n",
              "      <td>지금 3개를 놓치고 있습니다. 이만큼 한꺼번에 잃어도 상관없나요?</td>\n",
              "    </tr>\n",
              "    <tr>\n",
              "      <th>99999</th>\n",
              "      <td>저기 앞에 창가 쪽 좌석인데 제 친구랑 같이 앉으려고요.</td>\n",
              "      <td>It's a seat side in front of you, and I'm goin...</td>\n",
              "      <td>그것은 당신 앞에 좌석이 있고, 나는 내 친구와 함께 앉을 것입니다.</td>\n",
              "    </tr>\n",
              "  </tbody>\n",
              "</table>\n",
              "<p>100000 rows × 3 columns</p>\n",
              "</div>\n",
              "      <button class=\"colab-df-convert\" onclick=\"convertToInteractive('df-c28a9695-9013-4b5c-8ddd-7aedfba7ed2f')\"\n",
              "              title=\"Convert this dataframe to an interactive table.\"\n",
              "              style=\"display:none;\">\n",
              "        \n",
              "  <svg xmlns=\"http://www.w3.org/2000/svg\" height=\"24px\"viewBox=\"0 0 24 24\"\n",
              "       width=\"24px\">\n",
              "    <path d=\"M0 0h24v24H0V0z\" fill=\"none\"/>\n",
              "    <path d=\"M18.56 5.44l.94 2.06.94-2.06 2.06-.94-2.06-.94-.94-2.06-.94 2.06-2.06.94zm-11 1L8.5 8.5l.94-2.06 2.06-.94-2.06-.94L8.5 2.5l-.94 2.06-2.06.94zm10 10l.94 2.06.94-2.06 2.06-.94-2.06-.94-.94-2.06-.94 2.06-2.06.94z\"/><path d=\"M17.41 7.96l-1.37-1.37c-.4-.4-.92-.59-1.43-.59-.52 0-1.04.2-1.43.59L10.3 9.45l-7.72 7.72c-.78.78-.78 2.05 0 2.83L4 21.41c.39.39.9.59 1.41.59.51 0 1.02-.2 1.41-.59l7.78-7.78 2.81-2.81c.8-.78.8-2.07 0-2.86zM5.41 20L4 18.59l7.72-7.72 1.47 1.35L5.41 20z\"/>\n",
              "  </svg>\n",
              "      </button>\n",
              "      \n",
              "  <style>\n",
              "    .colab-df-container {\n",
              "      display:flex;\n",
              "      flex-wrap:wrap;\n",
              "      gap: 12px;\n",
              "    }\n",
              "\n",
              "    .colab-df-convert {\n",
              "      background-color: #E8F0FE;\n",
              "      border: none;\n",
              "      border-radius: 50%;\n",
              "      cursor: pointer;\n",
              "      display: none;\n",
              "      fill: #1967D2;\n",
              "      height: 32px;\n",
              "      padding: 0 0 0 0;\n",
              "      width: 32px;\n",
              "    }\n",
              "\n",
              "    .colab-df-convert:hover {\n",
              "      background-color: #E2EBFA;\n",
              "      box-shadow: 0px 1px 2px rgba(60, 64, 67, 0.3), 0px 1px 3px 1px rgba(60, 64, 67, 0.15);\n",
              "      fill: #174EA6;\n",
              "    }\n",
              "\n",
              "    [theme=dark] .colab-df-convert {\n",
              "      background-color: #3B4455;\n",
              "      fill: #D2E3FC;\n",
              "    }\n",
              "\n",
              "    [theme=dark] .colab-df-convert:hover {\n",
              "      background-color: #434B5C;\n",
              "      box-shadow: 0px 1px 3px 1px rgba(0, 0, 0, 0.15);\n",
              "      filter: drop-shadow(0px 1px 2px rgba(0, 0, 0, 0.3));\n",
              "      fill: #FFFFFF;\n",
              "    }\n",
              "  </style>\n",
              "\n",
              "      <script>\n",
              "        const buttonEl =\n",
              "          document.querySelector('#df-c28a9695-9013-4b5c-8ddd-7aedfba7ed2f button.colab-df-convert');\n",
              "        buttonEl.style.display =\n",
              "          google.colab.kernel.accessAllowed ? 'block' : 'none';\n",
              "\n",
              "        async function convertToInteractive(key) {\n",
              "          const element = document.querySelector('#df-c28a9695-9013-4b5c-8ddd-7aedfba7ed2f');\n",
              "          const dataTable =\n",
              "            await google.colab.kernel.invokeFunction('convertToInteractive',\n",
              "                                                     [key], {});\n",
              "          if (!dataTable) return;\n",
              "\n",
              "          const docLinkHtml = 'Like what you see? Visit the ' +\n",
              "            '<a target=\"_blank\" href=https://colab.research.google.com/notebooks/data_table.ipynb>data table notebook</a>'\n",
              "            + ' to learn more about interactive tables.';\n",
              "          element.innerHTML = '';\n",
              "          dataTable['output_type'] = 'display_data';\n",
              "          await google.colab.output.renderOutput(dataTable, element);\n",
              "          const docLink = document.createElement('div');\n",
              "          docLink.innerHTML = docLinkHtml;\n",
              "          element.appendChild(docLink);\n",
              "        }\n",
              "      </script>\n",
              "    </div>\n",
              "  </div>\n",
              "  "
            ]
          },
          "metadata": {},
          "execution_count": 97
        }
      ]
    },
    {
      "cell_type": "code",
      "source": [
        "trans_dt.to_csv('/content/drive/MyDrive/Team_Project/Project3(translate)/trans_test_dastset(2).csv', encoding='utf-8', index=False)"
      ],
      "metadata": {
        "id": "adOF7HC_zL6B"
      },
      "execution_count": null,
      "outputs": []
    }
  ]
}